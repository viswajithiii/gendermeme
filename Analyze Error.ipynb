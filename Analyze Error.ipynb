{
 "cells": [
  {
   "cell_type": "code",
   "execution_count": 51,
   "metadata": {
    "collapsed": true
   },
   "outputs": [],
   "source": [
    "import pandas as pd"
   ]
  },
  {
   "cell_type": "code",
   "execution_count": 52,
   "metadata": {
    "collapsed": true
   },
   "outputs": [],
   "source": [
    "ann_dump = 'annotated/manual/ann_dump.tsv'\n",
    "df = pd.read_table(ann_dump, index_col=False)"
   ]
  },
  {
   "cell_type": "code",
   "execution_count": 53,
   "metadata": {
    "collapsed": false
   },
   "outputs": [],
   "source": [
    "def print_metrics(df):\n",
    "    both_df = df[df['where'] == 'both']\n",
    "    count_diff = abs(both_df['a_count'] - both_df['m_count'])\n",
    "    quotes_diff = abs(both_df['a_quotes'] - both_df['m_quotes'])\n",
    "\n",
    "    print 'Count', count_diff.describe()\n",
    "\n",
    "    print 'Quotes', quotes_diff.describe()\n",
    "\n",
    "    gend_not_found = both_df[both_df['a_gender'] != 'male'][both_df['a_gender'] != 'female']\n",
    "    gend_mismatch = both_df[both_df['a_gender'] != both_df['m_gender']]\n",
    "\n",
    "    print 'Gend not found', float(len(gend_not_found))/len(both_df)\n",
    "    print 'Total mismatch', float(len(gend_mismatch))/len(both_df)\n",
    "\n",
    "    both_df = df[df['where'] == 'both']\n",
    "    manual_only = df[df['where'] == 'manual_only']\n",
    "    auto_only = df[df['where'] == 'auto_only']\n",
    "\n",
    "    print len(both_df), len(manual_only), len(auto_only)\n",
    "    b = float(len(both_df))\n",
    "    m = float(len(manual_only))\n",
    "    a = float(len(auto_only))\n",
    "\n",
    "    print 'Fraction of manual not found', m/(m+b)\n",
    "    print 'Fraction of extra auto', a/(a+b)"
   ]
  },
  {
   "cell_type": "code",
   "execution_count": 54,
   "metadata": {
    "collapsed": false
   },
   "outputs": [
    {
     "name": "stdout",
     "output_type": "stream",
     "text": [
      "Count count    171.000000\n",
      "mean       0.409357\n",
      "std        1.230363\n",
      "min        0.000000\n",
      "25%        0.000000\n",
      "50%        0.000000\n",
      "75%        0.000000\n",
      "max        9.000000\n",
      "dtype: float64\n",
      "Quotes count    171.000000\n",
      "mean      10.491228\n",
      "std       22.092684\n",
      "min        0.000000\n",
      "25%        0.000000\n",
      "50%        2.000000\n",
      "75%        8.500000\n",
      "max      182.000000\n",
      "dtype: float64\n",
      "Gend not found 0.12865497076\n",
      "Total mismatch 0.157894736842\n",
      "171 42 75\n",
      "Fraction of manual not found 0.197183098592\n",
      "Fraction of extra auto 0.30487804878\n"
     ]
    },
    {
     "name": "stderr",
     "output_type": "stream",
     "text": [
      "/usr/local/lib/python2.7/site-packages/ipykernel/__main__.py:10: UserWarning: Boolean Series key will be reindexed to match DataFrame index.\n"
     ]
    }
   ],
   "source": [
    "print_metrics(df)"
   ]
  },
  {
   "cell_type": "code",
   "execution_count": 55,
   "metadata": {
    "collapsed": false
   },
   "outputs": [
    {
     "name": "stdout",
     "output_type": "stream",
     "text": [
      "Count count    150.000000\n",
      "mean       0.406667\n",
      "std        1.274935\n",
      "min        0.000000\n",
      "25%        0.000000\n",
      "50%        0.000000\n",
      "75%        0.000000\n",
      "max        9.000000\n",
      "dtype: float64\n",
      "Quotes count    150.000000\n",
      "mean       9.006667\n",
      "std       21.261080\n",
      "min        0.000000\n",
      "25%        0.000000\n",
      "50%        2.000000\n",
      "75%        6.000000\n",
      "max      182.000000\n",
      "dtype: float64\n",
      "Gend not found 0.12\n",
      "Total mismatch 0.153333333333\n",
      "150 37 49\n",
      "Fraction of manual not found 0.197860962567\n",
      "Fraction of extra auto 0.246231155779\n"
     ]
    },
    {
     "name": "stderr",
     "output_type": "stream",
     "text": [
      "/usr/local/lib/python2.7/site-packages/ipykernel/__main__.py:10: UserWarning: Boolean Series key will be reindexed to match DataFrame index.\n"
     ]
    }
   ],
   "source": [
    "print_metrics(df[df['url'].str.contains('nytimes')])"
   ]
  },
  {
   "cell_type": "code",
   "execution_count": 56,
   "metadata": {
    "collapsed": false
   },
   "outputs": [
    {
     "name": "stdout",
     "output_type": "stream",
     "text": [
      "Count count    21.000000\n",
      "mean      0.428571\n",
      "std       0.870140\n",
      "min       0.000000\n",
      "25%       0.000000\n",
      "50%       0.000000\n",
      "75%       0.000000\n",
      "max       3.000000\n",
      "dtype: float64\n",
      "Quotes count    21.000000\n",
      "mean     21.095238\n",
      "std      25.426177\n",
      "min       0.000000\n",
      "25%       4.000000\n",
      "50%       8.000000\n",
      "75%      41.000000\n",
      "max      88.000000\n",
      "dtype: float64\n",
      "Gend not found 0.190476190476\n",
      "Total mismatch 0.190476190476\n",
      "21 5 26\n",
      "Fraction of manual not found 0.192307692308\n",
      "Fraction of extra auto 0.553191489362\n"
     ]
    },
    {
     "name": "stderr",
     "output_type": "stream",
     "text": [
      "/usr/local/lib/python2.7/site-packages/ipykernel/__main__.py:10: UserWarning: Boolean Series key will be reindexed to match DataFrame index.\n"
     ]
    }
   ],
   "source": [
    "print_metrics(df[df['url'].str.contains('techcrunch')])"
   ]
  },
  {
   "cell_type": "code",
   "execution_count": null,
   "metadata": {
    "collapsed": true
   },
   "outputs": [],
   "source": []
  }
 ],
 "metadata": {
  "kernelspec": {
   "display_name": "Python 2",
   "language": "python",
   "name": "python2"
  },
  "language_info": {
   "codemirror_mode": {
    "name": "ipython",
    "version": 2
   },
   "file_extension": ".py",
   "mimetype": "text/x-python",
   "name": "python",
   "nbconvert_exporter": "python",
   "pygments_lexer": "ipython2",
   "version": "2.7.13"
  }
 },
 "nbformat": 4,
 "nbformat_minor": 2
}
