{
 "cells": [
  {
   "cell_type": "code",
   "execution_count": 20,
   "metadata": {
    "collapsed": true
   },
   "outputs": [],
   "source": [
    "import pandas as pd"
   ]
  },
  {
   "cell_type": "code",
   "execution_count": 21,
   "metadata": {
    "collapsed": true
   },
   "outputs": [],
   "source": [
    "ann_dump = 'annotated/manual/ann_dump_refactored_w_gender_from_name.tsv'\n",
    "df = pd.read_table(ann_dump, index_col=False)"
   ]
  },
  {
   "cell_type": "code",
   "execution_count": 30,
   "metadata": {
    "collapsed": false
   },
   "outputs": [],
   "source": [
    "def print_metrics(df):\n",
    "    df = df[df['a_gender'] != 'non-living']\n",
    "    both_df = df[df['where'] == 'both']\n",
    "    count_diff = abs(both_df['a_count'] - both_df['m_count'])\n",
    "    quotes_diff = abs(both_df['a_quotes'] - both_df['m_quotes'])\n",
    "\n",
    "    print 'Count Mean {}, Std {}'.format(count_diff.mean(), count_diff.std())\n",
    "\n",
    "    print 'Quotes Mean {}, Std {}'.format(quotes_diff.mean(), quotes_diff.std())\n",
    "\n",
    "    gend_not_found = both_df[both_df['a_gender'] != 'male'][both_df['a_gender'] != 'female']\n",
    "    gend_mismatch = both_df[both_df['a_gender'] != both_df['m_gender']]\n",
    "\n",
    "    print 'Gend not found', len(gend_not_found), float(len(gend_not_found))/len(both_df)\n",
    "    print 'Total mismatch', len(gend_mismatch), float(len(gend_mismatch))/len(both_df)\n",
    "\n",
    "    both_df = df[df['where'] == 'both']\n",
    "    manual_only = df[df['where'] == 'manual_only']\n",
    "    auto_only = df[df['where'] == 'auto_only']\n",
    "\n",
    "    print len(both_df), len(manual_only), len(auto_only)\n",
    "    b = float(len(both_df))\n",
    "    m = float(len(manual_only))\n",
    "    a = float(len(auto_only))\n",
    "\n",
    "    print 'Fraction of manual not found', m/(m+b)\n",
    "    print 'Fraction of extra auto', a/(a+b)\n",
    "    \n",
    "    print 'True, Labelled, Count'\n",
    "    for true in ['male', 'female']:\n",
    "        for labelled in ['male', 'female', 'None']:\n",
    "            both_df = df[df['a_gender'] == labelled][df['m_gender'] == true]\n",
    "            print true, labelled, len(both_df)\n",
    "    # print '\\n\\n'\n",
    "    # print df[df['where'] == 'manual_only']['m_gender']"
   ]
  },
  {
   "cell_type": "code",
   "execution_count": 25,
   "metadata": {
    "collapsed": false
   },
   "outputs": [
    {
     "name": "stdout",
     "output_type": "stream",
     "text": [
      "Count Mean 0.342857142857, Std 1.295009336\n",
      "Quotes Mean 9.84489795918, Std 16.9667111541\n",
      "Gend not found 32 0.130612244898\n",
      "Total mismatch 36 0.14693877551\n",
      "245 39 127\n",
      "Fraction of manual not found 0.137323943662\n",
      "Fraction of extra auto 0.341397849462\n",
      "True, Labelled, Count\n",
      "male male 153\n",
      "male female 4\n",
      "male None 18\n",
      "female male 0\n",
      "female female 56\n",
      "female None 13\n"
     ]
    },
    {
     "name": "stderr",
     "output_type": "stream",
     "text": [
      "/usr/local/lib/python2.7/site-packages/ipykernel/__main__.py:10: UserWarning: Boolean Series key will be reindexed to match DataFrame index.\n",
      "/usr/local/lib/python2.7/site-packages/ipykernel/__main__.py:31: UserWarning: Boolean Series key will be reindexed to match DataFrame index.\n"
     ]
    }
   ],
   "source": [
    "print_metrics(df)"
   ]
  },
  {
   "cell_type": "code",
   "execution_count": 26,
   "metadata": {
    "collapsed": false
   },
   "outputs": [
    {
     "name": "stdout",
     "output_type": "stream",
     "text": [
      "Count Mean 0.294930875576, Std 1.17679025154\n",
      "Quotes Mean 8.35023041475, Std 14.1272953704\n",
      "Gend not found 24 0.110599078341\n",
      "Total mismatch 28 0.129032258065\n",
      "217 26 85\n",
      "Fraction of manual not found 0.106995884774\n",
      "Fraction of extra auto 0.281456953642\n",
      "True, Labelled, Count\n",
      "male male 135\n",
      "male female 4\n",
      "male None 12\n",
      "female male 0\n",
      "female female 54\n",
      "female None 12\n"
     ]
    },
    {
     "name": "stderr",
     "output_type": "stream",
     "text": [
      "/usr/local/lib/python2.7/site-packages/ipykernel/__main__.py:10: UserWarning: Boolean Series key will be reindexed to match DataFrame index.\n",
      "/usr/local/lib/python2.7/site-packages/ipykernel/__main__.py:31: UserWarning: Boolean Series key will be reindexed to match DataFrame index.\n"
     ]
    }
   ],
   "source": [
    "print_metrics(df[df['url'].str.contains('nytimes')])"
   ]
  },
  {
   "cell_type": "code",
   "execution_count": 27,
   "metadata": {
    "collapsed": false
   },
   "outputs": [
    {
     "name": "stdout",
     "output_type": "stream",
     "text": [
      "Count Mean 0.714285714286, Std 1.97872279902\n",
      "Quotes Mean 21.4285714286, Std 29.1158968561\n",
      "Gend not found 8 0.285714285714\n",
      "Total mismatch 8 0.285714285714\n",
      "28 13 42\n",
      "Fraction of manual not found 0.317073170732\n",
      "Fraction of extra auto 0.6\n",
      "True, Labelled, Count\n",
      "male male 18\n",
      "male female 0\n",
      "male None 6\n",
      "female male 0\n",
      "female female 2\n",
      "female None 1\n"
     ]
    },
    {
     "name": "stderr",
     "output_type": "stream",
     "text": [
      "/usr/local/lib/python2.7/site-packages/ipykernel/__main__.py:10: UserWarning: Boolean Series key will be reindexed to match DataFrame index.\n",
      "/usr/local/lib/python2.7/site-packages/ipykernel/__main__.py:31: UserWarning: Boolean Series key will be reindexed to match DataFrame index.\n"
     ]
    }
   ],
   "source": [
    "print_metrics(df[df['url'].str.contains('techcrunch')])"
   ]
  },
  {
   "cell_type": "code",
   "execution_count": 28,
   "metadata": {
    "collapsed": false
   },
   "outputs": [
    {
     "name": "stdout",
     "output_type": "stream",
     "text": [
      "Count Mean 0.298387096774, Std 1.1936392738\n",
      "Quotes Mean 9.83467741935, Std 16.9156303369\n",
      "Gend not found 7 0.0282258064516\n",
      "Total mismatch 11 0.0443548387097\n",
      "248 36 127\n",
      "Fraction of manual not found 0.12676056338\n",
      "Fraction of extra auto 0.338666666667\n",
      "True, Labelled, Count\n",
      "male male 170\n",
      "male female 4\n",
      "male None 4\n",
      "female male 0\n",
      "female female 67\n",
      "female None 2\n"
     ]
    },
    {
     "name": "stderr",
     "output_type": "stream",
     "text": [
      "/usr/local/lib/python2.7/site-packages/ipykernel/__main__.py:10: UserWarning: Boolean Series key will be reindexed to match DataFrame index.\n",
      "/usr/local/lib/python2.7/site-packages/ipykernel/__main__.py:31: UserWarning: Boolean Series key will be reindexed to match DataFrame index.\n"
     ]
    }
   ],
   "source": [
    "ann_dump = 'annotated/manual/ann_dump_Wed_May_3_22_34_11_2017.tsv'\n",
    "df = pd.read_table(ann_dump, index_col=False)\n",
    "print_metrics(df)"
   ]
  },
  {
   "cell_type": "code",
   "execution_count": 31,
   "metadata": {
    "collapsed": false
   },
   "outputs": [
    {
     "name": "stdout",
     "output_type": "stream",
     "text": [
      "Count Mean 0.253846153846, Std 1.00047508762\n",
      "Quotes Mean 9.66923076923, Std 16.7707174759\n",
      "Gend not found 7 0.0269230769231\n",
      "Total mismatch 12 0.0461538461538\n",
      "260 36 107\n",
      "Fraction of manual not found 0.121621621622\n",
      "Fraction of extra auto 0.291553133515\n",
      "True, Labelled, Count\n",
      "male male 181\n",
      "male female 5\n",
      "male None 5\n",
      "female male 0\n",
      "female female 67\n",
      "female None 2\n"
     ]
    },
    {
     "name": "stderr",
     "output_type": "stream",
     "text": [
      "/usr/local/lib/python2.7/site-packages/ipykernel/__main__.py:11: UserWarning: Boolean Series key will be reindexed to match DataFrame index.\n",
      "/usr/local/lib/python2.7/site-packages/ipykernel/__main__.py:32: UserWarning: Boolean Series key will be reindexed to match DataFrame index.\n"
     ]
    }
   ],
   "source": [
    "ann_dump = 'annotated/manual/ann_dump_Thu_May_4_02_08_31_2017.tsv'\n",
    "df = pd.read_table(ann_dump, index_col=False)\n",
    "print_metrics(df)"
   ]
  },
  {
   "cell_type": "code",
   "execution_count": 32,
   "metadata": {
    "collapsed": false
   },
   "outputs": [
    {
     "name": "stdout",
     "output_type": "stream",
     "text": [
      "Count Mean 0.240343347639, Std 1.02246484749\n",
      "Quotes Mean 8.21459227468, Std 14.0327926268\n",
      "Gend not found 6 0.0257510729614\n",
      "Total mismatch 11 0.0472103004292\n",
      "233 23 68\n",
      "Fraction of manual not found 0.08984375\n",
      "Fraction of extra auto 0.225913621262\n",
      "True, Labelled, Count\n",
      "male male 158\n",
      "male female 5\n",
      "male None 4\n",
      "female male 0\n",
      "female female 64\n",
      "female None 2\n"
     ]
    },
    {
     "name": "stderr",
     "output_type": "stream",
     "text": [
      "/usr/local/lib/python2.7/site-packages/ipykernel/__main__.py:11: UserWarning: Boolean Series key will be reindexed to match DataFrame index.\n",
      "/usr/local/lib/python2.7/site-packages/ipykernel/__main__.py:32: UserWarning: Boolean Series key will be reindexed to match DataFrame index.\n"
     ]
    }
   ],
   "source": [
    "print_metrics(df[df['url'].str.contains('nytimes')])"
   ]
  },
  {
   "cell_type": "code",
   "execution_count": null,
   "metadata": {
    "collapsed": true
   },
   "outputs": [],
   "source": []
  }
 ],
 "metadata": {
  "kernelspec": {
   "display_name": "Python 2",
   "language": "python",
   "name": "python2"
  },
  "language_info": {
   "codemirror_mode": {
    "name": "ipython",
    "version": 2
   },
   "file_extension": ".py",
   "mimetype": "text/x-python",
   "name": "python",
   "nbconvert_exporter": "python",
   "pygments_lexer": "ipython2",
   "version": "2.7.13"
  }
 },
 "nbformat": 4,
 "nbformat_minor": 2
}
