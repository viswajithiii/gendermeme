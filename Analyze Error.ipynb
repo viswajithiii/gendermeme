{
 "cells": [
  {
   "cell_type": "code",
   "execution_count": 21,
   "metadata": {
    "collapsed": true
   },
   "outputs": [],
   "source": [
    "import pandas as pd"
   ]
  },
  {
   "cell_type": "code",
   "execution_count": 22,
   "metadata": {
    "collapsed": true
   },
   "outputs": [],
   "source": [
    "ann_dump = 'annotated/manual/ann_dump_refactored_w_gender_from_name.tsv'\n",
    "df = pd.read_table(ann_dump, index_col=False)"
   ]
  },
  {
   "cell_type": "code",
   "execution_count": 37,
   "metadata": {
    "collapsed": false
   },
   "outputs": [],
   "source": [
    "def print_metrics(df):\n",
    "    both_df = df[df['where'] == 'both']\n",
    "    count_diff = abs(both_df['a_count'] - both_df['m_count'])\n",
    "    quotes_diff = abs(both_df['a_quotes'] - both_df['m_quotes'])\n",
    "\n",
    "    print 'Count', count_diff.describe()\n",
    "\n",
    "    print 'Quotes', quotes_diff.describe()\n",
    "\n",
    "    gend_not_found = both_df[both_df['a_gender'] != 'male'][both_df['a_gender'] != 'female']\n",
    "    gend_mismatch = both_df[both_df['a_gender'] != both_df['m_gender']]\n",
    "\n",
    "    print 'Gend not found', len(gend_not_found), float(len(gend_not_found))/len(both_df)\n",
    "    print 'Total mismatch', len(gend_mismatch), float(len(gend_mismatch))/len(both_df)\n",
    "\n",
    "    both_df = df[df['where'] == 'both']\n",
    "    manual_only = df[df['where'] == 'manual_only']\n",
    "    auto_only = df[df['where'] == 'auto_only']\n",
    "\n",
    "    print len(both_df), len(manual_only), len(auto_only)\n",
    "    b = float(len(both_df))\n",
    "    m = float(len(manual_only))\n",
    "    a = float(len(auto_only))\n",
    "\n",
    "    print 'Fraction of manual not found', m/(m+b)\n",
    "    print 'Fraction of extra auto', a/(a+b)\n",
    "    \n",
    "    print 'True, Labelled, Count'\n",
    "    for true in ['male', 'female']:\n",
    "        for labelled in ['male', 'female', 'None']:\n",
    "            both_df = df[df['a_gender'] == labelled][df['m_gender'] == true]\n",
    "            print true, labelled, len(both_df)\n",
    "    print '\\n\\n'\n",
    "    print df[df['where'] == 'manual_only']['m_gender']"
   ]
  },
  {
   "cell_type": "code",
   "execution_count": 38,
   "metadata": {
    "collapsed": false
   },
   "outputs": [
    {
     "name": "stdout",
     "output_type": "stream",
     "text": [
      "Count count    245.000000\n",
      "mean       0.342857\n",
      "std        1.295009\n",
      "min        0.000000\n",
      "25%        0.000000\n",
      "50%        0.000000\n",
      "75%        0.000000\n",
      "max       10.000000\n",
      "dtype: float64\n",
      "Quotes count    245.000000\n",
      "mean       9.844898\n",
      "std       16.966711\n",
      "min        0.000000\n",
      "25%        0.000000\n",
      "50%        2.000000\n",
      "75%       11.000000\n",
      "max      105.000000\n",
      "dtype: float64\n",
      "Gend not found 32 0.130612244898\n",
      "Total mismatch 36 0.14693877551\n",
      "245 39 127\n",
      "Fraction of manual not found 0.137323943662\n",
      "Fraction of extra auto 0.341397849462\n",
      "True, Labelled, Count\n",
      "male male 153\n",
      "male female 4\n",
      "male None 18\n",
      "female male 0\n",
      "female female 56\n",
      "female None 13\n",
      "\n",
      "\n",
      "\n",
      "0         male\n",
      "1         male\n",
      "15        male\n",
      "24        male\n",
      "26        male\n",
      "29        male\n",
      "30        male\n",
      "65      female\n",
      "67      female\n",
      "68      female\n",
      "69      female\n",
      "73        male\n",
      "81        male\n",
      "83        male\n",
      "86         NaN\n",
      "95         NaN\n",
      "97      female\n",
      "99         NaN\n",
      "109       male\n",
      "124       male\n",
      "161       male\n",
      "185     female\n",
      "220       male\n",
      "260       male\n",
      "261       male\n",
      "273       male\n",
      "311    company\n",
      "312       male\n",
      "313       male\n",
      "314       male\n",
      "322    company\n",
      "333    company\n",
      "335       male\n",
      "338    company\n",
      "339       male\n",
      "340     female\n",
      "345       male\n",
      "349       male\n",
      "401       male\n",
      "Name: m_gender, dtype: object\n"
     ]
    },
    {
     "name": "stderr",
     "output_type": "stream",
     "text": [
      "/usr/local/lib/python2.7/site-packages/ipykernel/__main__.py:10: UserWarning: Boolean Series key will be reindexed to match DataFrame index.\n",
      "/usr/local/lib/python2.7/site-packages/ipykernel/__main__.py:31: UserWarning: Boolean Series key will be reindexed to match DataFrame index.\n"
     ]
    }
   ],
   "source": [
    "print_metrics(df)"
   ]
  },
  {
   "cell_type": "code",
   "execution_count": 7,
   "metadata": {
    "collapsed": false
   },
   "outputs": [
    {
     "name": "stdout",
     "output_type": "stream",
     "text": [
      "Count count    217.000000\n",
      "mean       0.294931\n",
      "std        1.176790\n",
      "min        0.000000\n",
      "25%        0.000000\n",
      "50%        0.000000\n",
      "75%        0.000000\n",
      "max        9.000000\n",
      "dtype: float64\n",
      "Quotes count    217.000000\n",
      "mean       8.663594\n",
      "std       14.573638\n",
      "min        0.000000\n",
      "25%        0.000000\n",
      "50%        2.000000\n",
      "75%       11.000000\n",
      "max      105.000000\n",
      "dtype: float64\n",
      "Gend not found 0.516129032258\n",
      "Total mismatch 0.520737327189\n",
      "217 26 85\n",
      "Fraction of manual not found 0.106995884774\n",
      "Fraction of extra auto 0.281456953642\n"
     ]
    },
    {
     "name": "stderr",
     "output_type": "stream",
     "text": [
      "/usr/local/lib/python2.7/site-packages/ipykernel/__main__.py:10: UserWarning: Boolean Series key will be reindexed to match DataFrame index.\n"
     ]
    }
   ],
   "source": [
    "print_metrics(df[df['url'].str.contains('nytimes')])"
   ]
  },
  {
   "cell_type": "code",
   "execution_count": 56,
   "metadata": {
    "collapsed": false
   },
   "outputs": [
    {
     "name": "stdout",
     "output_type": "stream",
     "text": [
      "Count count    21.000000\n",
      "mean      0.428571\n",
      "std       0.870140\n",
      "min       0.000000\n",
      "25%       0.000000\n",
      "50%       0.000000\n",
      "75%       0.000000\n",
      "max       3.000000\n",
      "dtype: float64\n",
      "Quotes count    21.000000\n",
      "mean     21.095238\n",
      "std      25.426177\n",
      "min       0.000000\n",
      "25%       4.000000\n",
      "50%       8.000000\n",
      "75%      41.000000\n",
      "max      88.000000\n",
      "dtype: float64\n",
      "Gend not found 0.190476190476\n",
      "Total mismatch 0.190476190476\n",
      "21 5 26\n",
      "Fraction of manual not found 0.192307692308\n",
      "Fraction of extra auto 0.553191489362\n"
     ]
    },
    {
     "name": "stderr",
     "output_type": "stream",
     "text": [
      "/usr/local/lib/python2.7/site-packages/ipykernel/__main__.py:10: UserWarning: Boolean Series key will be reindexed to match DataFrame index.\n"
     ]
    }
   ],
   "source": [
    "print_metrics(df[df['url'].str.contains('techcrunch')])"
   ]
  },
  {
   "cell_type": "code",
   "execution_count": 20,
   "metadata": {
    "collapsed": false
   },
   "outputs": [
    {
     "name": "stdout",
     "output_type": "stream",
     "text": [
      "Count count    171.000000\n",
      "mean       0.409357\n",
      "std        1.230363\n",
      "min        0.000000\n",
      "25%        0.000000\n",
      "50%        0.000000\n",
      "75%        0.000000\n",
      "max        9.000000\n",
      "dtype: float64\n",
      "Quotes count    171.000000\n",
      "mean      10.491228\n",
      "std       22.092684\n",
      "min        0.000000\n",
      "25%        0.000000\n",
      "50%        2.000000\n",
      "75%        8.500000\n",
      "max      182.000000\n",
      "dtype: float64\n",
      "Gend not found 22 0.12865497076\n",
      "Total mismatch 27 0.157894736842\n",
      "171 42 75\n",
      "Fraction of manual not found 0.197183098592\n",
      "Fraction of extra auto 0.30487804878\n",
      "True, Labelled, Count\n",
      "male male 101\n",
      "male female 4\n",
      "male None 12\n",
      "female male 1\n",
      "female female 43\n",
      "female None 9\n"
     ]
    },
    {
     "name": "stderr",
     "output_type": "stream",
     "text": [
      "/usr/local/lib/python2.7/site-packages/ipykernel/__main__.py:10: UserWarning: Boolean Series key will be reindexed to match DataFrame index.\n",
      "/usr/local/lib/python2.7/site-packages/ipykernel/__main__.py:31: UserWarning: Boolean Series key will be reindexed to match DataFrame index.\n"
     ]
    }
   ],
   "source": [
    "ann_dump = 'annotated/manual/ann_dump.tsv'\n",
    "df = pd.read_table(ann_dump, index_col=False)\n",
    "print_metrics(df)"
   ]
  },
  {
   "cell_type": "code",
   "execution_count": null,
   "metadata": {
    "collapsed": true
   },
   "outputs": [],
   "source": []
  }
 ],
 "metadata": {
  "kernelspec": {
   "display_name": "Python 2",
   "language": "python",
   "name": "python2"
  },
  "language_info": {
   "codemirror_mode": {
    "name": "ipython",
    "version": 2
   },
   "file_extension": ".py",
   "mimetype": "text/x-python",
   "name": "python",
   "nbconvert_exporter": "python",
   "pygments_lexer": "ipython2",
   "version": "2.7.13"
  }
 },
 "nbformat": 4,
 "nbformat_minor": 2
}
