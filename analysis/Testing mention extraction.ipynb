{
 "cells": [
  {
   "cell_type": "code",
   "execution_count": 1,
   "metadata": {
    "collapsed": false
   },
   "outputs": [],
   "source": [
    "from analysis import get_article_info\n",
    "\n",
    "%load_ext autoreload\n",
    "%autoreload 2"
   ]
  },
  {
   "cell_type": "code",
   "execution_count": 3,
   "metadata": {
    "collapsed": false
   },
   "outputs": [],
   "source": [
    "sentence = \"I met Barack Obama and his wife Michelle on Sunday. Ms. Obama was quiet and thoughtful, whereas Mr. Obama was noisily drunk.\""
   ]
  },
  {
   "cell_type": "code",
   "execution_count": 14,
   "metadata": {
    "collapsed": false
   },
   "outputs": [
    {
     "name": "stdout",
     "output_type": "stream",
     "text": [
      "MENTIONS DICTIONARY:\n",
      "{(1, 3, 4): {'consensus_gender': ('MALE', 'med_conf', 'coref'),\n",
      "             'coref_chain_id': u'1',\n",
      "             'coref_gender': {'FEMALE': 0, 'MALE': 1, 'NON-LIVING': 0},\n",
      "             'coreferent_mentions': [(2, 2, 2), (2, 10, 10)],\n",
      "             'mention_num': 1,\n",
      "             'text': u'Barack Obama'},\n",
      " (1, 8, 8): {'coref_chain_id': u'4',\n",
      "             'coref_gender': {'FEMALE': 0, 'MALE': 0, 'NON-LIVING': 0},\n",
      "             'coreferent_mentions': [],\n",
      "             'flag_last_name_to_infer': True,\n",
      "             'mention_num': 2,\n",
      "             'text': u'Michelle'},\n",
      " (2, 2, 2): {'consensus_gender': ('FEMALE', 'high_conf', 'hon'),\n",
      "             'coref_chain_id': u'1',\n",
      "             'coref_gender': {'FEMALE': 0, 'MALE': 1, 'NON-LIVING': 0},\n",
      "             'coreferent_mentions': [(1, 3, 4), (2, 10, 10)],\n",
      "             'hon': u'Ms.',\n",
      "             'hon_gender': 'FEMALE',\n",
      "             'mention_num': 3,\n",
      "             'text': u'Obama'},\n",
      " (2, 10, 10): {'consensus_gender': ('MALE', 'high_conf', 'hon'),\n",
      "               'coref_chain_id': u'1',\n",
      "               'coref_gender': {'FEMALE': 0, 'MALE': 1, 'NON-LIVING': 0},\n",
      "               'coreferent_mentions': [(1, 3, 4), (2, 2, 2)],\n",
      "               'hon': u'Mr.',\n",
      "               'hon_gender': 'MALE',\n",
      "               'mention_num': 4,\n",
      "               'text': u'Obama'}}\n",
      "DISJOINT SET OF MENTIONS:\n",
      "{0: set([(1, 3, 4), (2, 10, 10)]), 1: set([(1, 8, 8)]), 2: set([(2, 2, 2)])}\n",
      "ID TO INFO:\n",
      "{0: {'count': 2, 'gender': 'MALE', 'name': u'Barack Obama'},\n",
      " 1: {'count': 1, 'gender': None, 'name': u'Michelle'},\n",
      " 2: {'count': 1, 'gender': 'FEMALE', 'name': u'Obama'}}\n"
     ]
    },
    {
     "data": {
      "text/plain": [
       "(None, None, None, None, None)"
      ]
     },
     "execution_count": 14,
     "metadata": {},
     "output_type": "execute_result"
    }
   ],
   "source": [
    "get_article_info(sentence)"
   ]
  },
  {
   "cell_type": "code",
   "execution_count": 8,
   "metadata": {
    "collapsed": true
   },
   "outputs": [],
   "source": [
    "sentence2 = \"Mr. Williams said the president's recent emphasis on tax \\\"cuts\\\" suggested that he was prepared to lose revenue and hope that economic growth will make up the difference. However, Mr. Williams said, such a plan could be difficult for fiscal conservatives to swallow.\""
   ]
  },
  {
   "cell_type": "code",
   "execution_count": 9,
   "metadata": {
    "collapsed": false
   },
   "outputs": [
    {
     "name": "stdout",
     "output_type": "stream",
     "text": [
      "MENTIONS DICTIONARY:\n",
      "{(1, 2, 2): {'consensus_gender': ('MALE', 'high_conf', 'hon'),\n",
      "             'coref_gender': {'FEMALE': 0, 'MALE': 1, 'NON-LIVING': 0},\n",
      "             'coreferent_mentions': [(2, 4, 4)],\n",
      "             'flag_last_name_to_infer': True,\n",
      "             'hon': u'Mr.',\n",
      "             'hon_gender': 'MALE',\n",
      "             'mention_num': 1,\n",
      "             'text': u'Williams'},\n",
      " (2, 4, 4): {'consensus_gender': ('MALE', 'high_conf', 'hon'),\n",
      "             'coref_gender': {'FEMALE': 0, 'MALE': 1, 'NON-LIVING': 0},\n",
      "             'coreferent_mentions': [(1, 2, 2)],\n",
      "             'hon': u'Mr.',\n",
      "             'hon_gender': 'MALE',\n",
      "             'mention_num': 2,\n",
      "             'text': u'Williams'}}\n",
      "DISJOINT SET OF MENTIONS:\n",
      "{0: set([(1, 2, 2), (2, 4, 4)])}\n",
      "ID TO INFO:\n",
      "{0: {'gender': 'MALE', 'name': u'Williams'}}\n"
     ]
    },
    {
     "data": {
      "text/plain": [
       "(None, None, None, None, None)"
      ]
     },
     "execution_count": 9,
     "metadata": {},
     "output_type": "execute_result"
    }
   ],
   "source": [
    "get_article_info(sentence2)"
   ]
  },
  {
   "cell_type": "code",
   "execution_count": 10,
   "metadata": {
    "collapsed": false
   },
   "outputs": [],
   "source": [
    "sentence3 = '''Fans of Selena Quintenilla-Perez, the Mexican-American singer who was murdered in 1995 at age 23, have never stopped celebrating her life and music. On April 8, Emily Berl, 32, an artist and photographer, attended the Selena Fan Gathering at Plaza de la Raza in Lincoln Park, near her home in Los Angeles, to see how that Tejano music sensation was being remembered.\n",
    "\n",
    "Ms. Berl has a fascination with fan culture and the groups that can build around it. \"That kind of dedication is really interesting to me,\" she said. \"People working one way or another toward a common idea. Ms. Quintenilla-Perez is not so pleased.\"'''"
   ]
  },
  {
   "cell_type": "markdown",
   "metadata": {},
   "source": [
    "sentence3 = '''Fans of Selena Quintanilla-Perez, the Mexican-American singer who was murdered in 1995 at age 23, have never stopped celebrating her life and music. On April 8, Emily Berl, 32, an artist and photographer, attended the Selena Fan Gathering at Plaza de la Raza in Lincoln Park, near her home in Los Angeles, to see how that Tejano music sensation was being remembered.\n",
    "\n",
    "Ms. Berl has a fascination with fan culture and the groups that can build around it. \"That kind of dedication is really interesting to me,\" she said. \"People working one way or another toward a common idea.\"'''"
   ]
  },
  {
   "cell_type": "code",
   "execution_count": 12,
   "metadata": {
    "collapsed": false
   },
   "outputs": [
    {
     "name": "stdout",
     "output_type": "stream",
     "text": [
      "MENTIONS DICTIONARY:\n",
      "{(1, 3, 4): {'consensus_gender': ('FEMALE', 'med_conf', 'coref'),\n",
      "             'coref_gender': {'FEMALE': 1, 'MALE': 0, 'NON-LIVING': 0},\n",
      "             'coreferent_mentions': [(6, 2, 2)],\n",
      "             'mention_num': 1,\n",
      "             'text': u'Selena Quintenilla-Perez'},\n",
      " (2, 5, 6): {'consensus_gender': ('FEMALE', 'med_conf', 'coref'),\n",
      "             'coref_gender': {'FEMALE': 2, 'MALE': 0, 'NON-LIVING': 0},\n",
      "             'coreferent_mentions': [(3, 2, 2)],\n",
      "             'mention_num': 2,\n",
      "             'text': u'Emily Berl'},\n",
      " (3, 2, 2): {'consensus_gender': ('FEMALE', 'high_conf', 'hon'),\n",
      "             'coref_gender': {'FEMALE': 2, 'MALE': 0, 'NON-LIVING': 0},\n",
      "             'coreferent_mentions': [(2, 5, 6)],\n",
      "             'hon': u'Ms.',\n",
      "             'hon_gender': 'FEMALE',\n",
      "             'mention_num': 3,\n",
      "             'text': u'Berl'},\n",
      " (6, 2, 2): {'consensus_gender': ('FEMALE', 'high_conf', 'hon'),\n",
      "             'coref_gender': {'FEMALE': 1, 'MALE': 0, 'NON-LIVING': 0},\n",
      "             'coreferent_mentions': [(1, 3, 4)],\n",
      "             'hon': u'Ms.',\n",
      "             'hon_gender': 'FEMALE',\n",
      "             'mention_num': 4,\n",
      "             'text': u'Quintenilla-Perez'}}\n",
      "DISJOINT SET OF MENTIONS:\n",
      "{0: set([(1, 3, 4), (6, 2, 2)]), 1: set([(2, 5, 6), (3, 2, 2)])}\n",
      "ID TO INFO:\n",
      "{0: {'count': 2, 'gender': 'FEMALE', 'name': u'Selena Quintenilla-Perez'},\n",
      " 1: {'count': 2, 'gender': 'FEMALE', 'name': u'Emily Berl'}}\n"
     ]
    },
    {
     "data": {
      "text/plain": [
       "(None, None, None, None, None)"
      ]
     },
     "execution_count": 12,
     "metadata": {},
     "output_type": "execute_result"
    }
   ],
   "source": [
    "get_article_info(sentence3)"
   ]
  },
  {
   "cell_type": "code",
   "execution_count": 22,
   "metadata": {
    "collapsed": false
   },
   "outputs": [
    {
     "name": "stdout",
     "output_type": "stream",
     "text": [
      "MENTIONS DICTIONARY:\n",
      "{(1, 1, 2): {'coref_gender': {'FEMALE': 0, 'MALE': 0, 'NON-LIVING': 0},\n",
      "             'coref_mention_id': 1,\n",
      "             'coreferent_mentions': [(2, 1, 1)],\n",
      "             'mention_num': 1,\n",
      "             'text': u'Barack Obama'},\n",
      " (1, 4, 5): {'mention_num': 2, 'text': u'Donald Trump'},\n",
      " (2, 1, 1): {'coref_gender': {'FEMALE': 0, 'MALE': 0, 'NON-LIVING': 0},\n",
      "             'coref_mention_id': 4,\n",
      "             'coreferent_mentions': [(1, 1, 2)],\n",
      "             'mention_num': 3,\n",
      "             'text': u'Obama'}}\n",
      "DISJOINT SET OF MENTIONS:\n",
      "{0: set([(1, 1, 2), (2, 1, 1)]), 1: set([(1, 4, 5)])}\n",
      "ID TO INFO:\n",
      "{0: {'count': 2,\n",
      "     'gender': None,\n",
      "     'name': u'Barack Obama',\n",
      "     'quotes': [{u'after': u' ',\n",
      "                 u'before': u'',\n",
      "                 u'characterOffsetBegin': 60,\n",
      "                 u'characterOffsetEnd': 64,\n",
      "                 u'index': 5,\n",
      "                 u'lemma': u'this',\n",
      "                 u'ner': u'O',\n",
      "                 u'originalText': u'This',\n",
      "                 u'pos': u'DT',\n",
      "                 u'speaker': u'4',\n",
      "                 u'word': u'This'},\n",
      "                {u'after': u' ',\n",
      "                 u'before': u' ',\n",
      "                 u'characterOffsetBegin': 65,\n",
      "                 u'characterOffsetEnd': 67,\n",
      "                 u'index': 6,\n",
      "                 u'lemma': u'be',\n",
      "                 u'ner': u'O',\n",
      "                 u'originalText': u'is',\n",
      "                 u'pos': u'VBZ',\n",
      "                 u'speaker': u'4',\n",
      "                 u'word': u'is'},\n",
      "                {u'after': u'',\n",
      "                 u'before': u' ',\n",
      "                 u'characterOffsetBegin': 68,\n",
      "                 u'characterOffsetEnd': 71,\n",
      "                 u'index': 7,\n",
      "                 u'lemma': u'rad',\n",
      "                 u'ner': u'O',\n",
      "                 u'originalText': u'rad',\n",
      "                 u'pos': u'NN',\n",
      "                 u'speaker': u'4',\n",
      "                 u'word': u'rad'},\n",
      "                {u'after': u'',\n",
      "                 u'before': u'',\n",
      "                 u'characterOffsetBegin': 71,\n",
      "                 u'characterOffsetEnd': 72,\n",
      "                 u'index': 8,\n",
      "                 u'lemma': u'.',\n",
      "                 u'ner': u'O',\n",
      "                 u'originalText': u'.',\n",
      "                 u'pos': u'.',\n",
      "                 u'speaker': u'4',\n",
      "                 u'word': u'.'}]},\n",
      " 1: {'count': 1, 'gender': None, 'name': u'Donald Trump', 'quotes': []}}\n"
     ]
    },
    {
     "data": {
      "text/plain": [
       "(None, None, None, None, None)"
      ]
     },
     "execution_count": 22,
     "metadata": {},
     "output_type": "execute_result"
    }
   ],
   "source": [
    "sentence = \"Barack Obama and Donald Trump went to a party. Obama said, \\\"This is rad.\\\"\"\n",
    "get_article_info(sentence)"
   ]
  },
  {
   "cell_type": "code",
   "execution_count": null,
   "metadata": {
    "collapsed": true
   },
   "outputs": [],
   "source": []
  }
 ],
 "metadata": {
  "kernelspec": {
   "display_name": "Python 2",
   "language": "python",
   "name": "python2"
  },
  "language_info": {
   "codemirror_mode": {
    "name": "ipython",
    "version": 2
   },
   "file_extension": ".py",
   "mimetype": "text/x-python",
   "name": "python",
   "nbconvert_exporter": "python",
   "pygments_lexer": "ipython2",
   "version": "2.7.13"
  }
 },
 "nbformat": 4,
 "nbformat_minor": 1
}
