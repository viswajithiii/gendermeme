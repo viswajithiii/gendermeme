{
 "cells": [
  {
   "cell_type": "code",
   "execution_count": null,
   "metadata": {
    "collapsed": false
   },
   "outputs": [],
   "source": [
    "from analysis import get_article_info\n",
    "import json\n",
    "from pprint import pprint\n",
    "\n",
    "%load_ext autoreload\n",
    "%autoreload 2"
   ]
  },
  {
   "cell_type": "code",
   "execution_count": null,
   "metadata": {
    "collapsed": false,
    "scrolled": false
   },
   "outputs": [],
   "source": [
    "CORENLP_FN = '../annotated/manual/ann.tsv'\n",
    "with open(CORENLP_FN, 'r') as corenlp_f:\n",
    "    for line in corenlp_f:\n",
    "        art_id, art_data, ann = line.strip().split('\\t')\n",
    "        if art_id != 'a036':\n",
    "            continue\n",
    "        art_data = json.loads(art_data)\n",
    "        ann = json.loads(ann)\n",
    "        sentences = ann['sentences']\n",
    "        \n",
    "        # required_sent = sentences[51]['tokens']\n",
    "        # pprint(required_sent[:4])\n",
    "        \n",
    "        #pprint(ann['corefs'])\n",
    "        pprint(get_article_info(art_data['text'], ann=ann))"
   ]
  },
  {
   "cell_type": "code",
   "execution_count": null,
   "metadata": {
    "collapsed": false
   },
   "outputs": [],
   "source": [
    "get_article_info(sentence)"
   ]
  },
  {
   "cell_type": "code",
   "execution_count": null,
   "metadata": {
    "collapsed": true
   },
   "outputs": [],
   "source": [
    "sentence2 = \"Mr. Williams said the president's recent emphasis on tax \\\"cuts\\\" suggested that he was prepared to lose revenue and hope that economic growth will make up the difference. However, Mr. Williams said, such a plan could be difficult for fiscal conservatives to swallow.\""
   ]
  },
  {
   "cell_type": "code",
   "execution_count": null,
   "metadata": {
    "collapsed": false
   },
   "outputs": [],
   "source": [
    "get_article_info(sentence2)"
   ]
  },
  {
   "cell_type": "code",
   "execution_count": null,
   "metadata": {
    "collapsed": false
   },
   "outputs": [],
   "source": [
    "sentence3 = '''Fans of Selena Quintenilla-Perez, the Mexican-American singer who was murdered in 1995 at age 23, have never stopped celebrating her life and music. On April 8, Emily Berl, 32, an artist and photographer, attended the Selena Fan Gathering at Plaza de la Raza in Lincoln Park, near her home in Los Angeles, to see how that Tejano music sensation was being remembered.\n",
    "\n",
    "Ms. Berl has a fascination with fan culture and the groups that can build around it. \"That kind of dedication is really interesting to me,\" she said. \"People working one way or another toward a common idea. Ms. Quintenilla-Perez is not so pleased.\"'''"
   ]
  },
  {
   "cell_type": "markdown",
   "metadata": {},
   "source": [
    "sentence3 = '''Fans of Selena Quintanilla-Perez, the Mexican-American singer who was murdered in 1995 at age 23, have never stopped celebrating her life and music. On April 8, Emily Berl, 32, an artist and photographer, attended the Selena Fan Gathering at Plaza de la Raza in Lincoln Park, near her home in Los Angeles, to see how that Tejano music sensation was being remembered.\n",
    "\n",
    "Ms. Berl has a fascination with fan culture and the groups that can build around it. \"That kind of dedication is really interesting to me,\" she said. \"People working one way or another toward a common idea.\"'''"
   ]
  },
  {
   "cell_type": "code",
   "execution_count": null,
   "metadata": {
    "collapsed": false
   },
   "outputs": [],
   "source": [
    "get_article_info(sentence3)"
   ]
  },
  {
   "cell_type": "code",
   "execution_count": null,
   "metadata": {
    "collapsed": false,
    "scrolled": true
   },
   "outputs": [],
   "source": [
    "sentence = \"Barack Obama and Donald Trump went to a party. Obama said, \\\"This isn't rad.\\\"\"\n",
    "get_article_info(sentence)"
   ]
  },
  {
   "cell_type": "code",
   "execution_count": null,
   "metadata": {
    "collapsed": false
   },
   "outputs": [],
   "source": [
    "sentence = \"Barack and Michelle Obama gave a speech today. Everything is going great, they said.\"\n",
    "get_article_info(sentence)"
   ]
  },
  {
   "cell_type": "code",
   "execution_count": null,
   "metadata": {
    "collapsed": false
   },
   "outputs": [],
   "source": [
    "sentence = \"Google has been having a great quarter. It said it expected profits to rise phenomenally.\"\n",
    "get_article_info(sentence)"
   ]
  },
  {
   "cell_type": "code",
   "execution_count": null,
   "metadata": {
    "collapsed": false
   },
   "outputs": [],
   "source": [
    "sentence = \"Barack Obama and his wife Michelle went to the movies. Ms. Obama enjoyed it.\"\n",
    "get_article_info(sentence)"
   ]
  },
  {
   "cell_type": "code",
   "execution_count": null,
   "metadata": {
    "collapsed": false
   },
   "outputs": [],
   "source": [
    "sentence = 'Barack Obama and his wife Michelle went to the movies. Mr. Obama loved it.'\n",
    "get_article_info(sentence)"
   ]
  },
  {
   "cell_type": "code",
   "execution_count": null,
   "metadata": {
    "collapsed": false
   },
   "outputs": [],
   "source": [
    "sentence = 'Barack Obama\\'s wife Michelle went to the movies. Mr. Obama loved it.'\n",
    "get_article_info(sentence)"
   ]
  },
  {
   "cell_type": "code",
   "execution_count": null,
   "metadata": {
    "collapsed": false
   },
   "outputs": [],
   "source": [
    "sentence = 'Mr. Mercer and his daughter Rebekah presided over a growing political empire that included millions of dollars in contributions to conservative groups and a stake in Breitbart.'\n",
    "get_article_info(sentence)"
   ]
  },
  {
   "cell_type": "code",
   "execution_count": null,
   "metadata": {
    "collapsed": false
   },
   "outputs": [],
   "source": [
    "sentence = '''\n",
    "Mr. Mercer has never spoken publicly about his policy views in depth, but his giving is eclectic: He has financed anti-Clinton documentaries, right-wing media watchdogs, libertarian think tanks and both Senator Ted Cruz, a religious conservative, and Mr. Trump, a thrice-married nationalist.\n",
    "\"The genius here is Bob, and the billionaire in this is Bob, and the person with the extreme views of how the world should be is Bob,\" said David Magerman, a Renaissance research scientist who was recently suspended after criticizing his boss\\'s support for Mr. Trump.\n",
    "'''\n",
    "get_article_info(sentence)"
   ]
  },
  {
   "cell_type": "code",
   "execution_count": 52,
   "metadata": {
    "collapsed": false
   },
   "outputs": [
    {
     "name": "stdout",
     "output_type": "stream",
     "text": [
      "{0: {'count': 1, 'name': u'Ann Grimes', 'is_source': (False, []), 'gender': 'FEMALE', 'associated_verbs': set([]), 'quotes': [], 'gender_method': 'coref'}}\n"
     ]
    },
    {
     "data": {
      "text/plain": [
       "({u'Ann Grimes': (1, ('FEMALE', 'COREF'))},\n",
       " {u'Ann Grimes': []},\n",
       " {u'Ann Grimes': set()},\n",
       " {u'Ann Grimes': []},\n",
       " {u'Ann Grimes': [(u'cool', u'cool')]})"
      ]
     },
     "execution_count": 52,
     "metadata": {},
     "output_type": "execute_result"
    }
   ],
   "source": [
    "sentence = 'Ann Grimes is cool. So is her team.'\n",
    "get_article_info(sentence)"
   ]
  },
  {
   "cell_type": "code",
   "execution_count": null,
   "metadata": {
    "collapsed": true
   },
   "outputs": [],
   "source": []
  }
 ],
 "metadata": {
  "kernelspec": {
   "display_name": "Python 2",
   "language": "python",
   "name": "python2"
  },
  "language_info": {
   "codemirror_mode": {
    "name": "ipython",
    "version": 2
   },
   "file_extension": ".py",
   "mimetype": "text/x-python",
   "name": "python",
   "nbconvert_exporter": "python",
   "pygments_lexer": "ipython2",
   "version": "2.7.13"
  }
 },
 "nbformat": 4,
 "nbformat_minor": 1
}
