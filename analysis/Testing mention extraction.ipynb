{
 "cells": [
  {
   "cell_type": "code",
   "execution_count": 2,
   "metadata": {
    "collapsed": false
   },
   "outputs": [
    {
     "name": "stdout",
     "output_type": "stream",
     "text": [
      "The autoreload extension is already loaded. To reload it, use:\n",
      "  %reload_ext autoreload\n"
     ]
    }
   ],
   "source": [
    "from analysis import get_article_info\n",
    "import json\n",
    "\n",
    "%load_ext autoreload\n",
    "%autoreload 2"
   ]
  },
  {
   "cell_type": "code",
   "execution_count": null,
   "metadata": {
    "collapsed": false,
    "scrolled": false
   },
   "outputs": [],
   "source": [
    "CORENLP_FN = '../annotated/manual/ann.tsv'\n",
    "with open(CORENLP_FN, 'r') as corenlp_f:\n",
    "    for line in corenlp_f:\n",
    "        art_id, art_data, ann = line.strip().split('\\t')\n",
    "        if art_id != 'a013':\n",
    "            continue\n",
    "        art_data = json.loads(art_data)\n",
    "        ann = json.loads(ann)\n",
    "        print get_article_info(art_data['text'], ann=ann)[0]"
   ]
  },
  {
   "cell_type": "code",
   "execution_count": null,
   "metadata": {
    "collapsed": false
   },
   "outputs": [],
   "source": [
    "get_article_info(sentence)"
   ]
  },
  {
   "cell_type": "code",
   "execution_count": null,
   "metadata": {
    "collapsed": true
   },
   "outputs": [],
   "source": [
    "sentence2 = \"Mr. Williams said the president's recent emphasis on tax \\\"cuts\\\" suggested that he was prepared to lose revenue and hope that economic growth will make up the difference. However, Mr. Williams said, such a plan could be difficult for fiscal conservatives to swallow.\""
   ]
  },
  {
   "cell_type": "code",
   "execution_count": null,
   "metadata": {
    "collapsed": false
   },
   "outputs": [],
   "source": [
    "get_article_info(sentence2)"
   ]
  },
  {
   "cell_type": "code",
   "execution_count": null,
   "metadata": {
    "collapsed": false
   },
   "outputs": [],
   "source": [
    "sentence3 = '''Fans of Selena Quintenilla-Perez, the Mexican-American singer who was murdered in 1995 at age 23, have never stopped celebrating her life and music. On April 8, Emily Berl, 32, an artist and photographer, attended the Selena Fan Gathering at Plaza de la Raza in Lincoln Park, near her home in Los Angeles, to see how that Tejano music sensation was being remembered.\n",
    "\n",
    "Ms. Berl has a fascination with fan culture and the groups that can build around it. \"That kind of dedication is really interesting to me,\" she said. \"People working one way or another toward a common idea. Ms. Quintenilla-Perez is not so pleased.\"'''"
   ]
  },
  {
   "cell_type": "markdown",
   "metadata": {},
   "source": [
    "sentence3 = '''Fans of Selena Quintanilla-Perez, the Mexican-American singer who was murdered in 1995 at age 23, have never stopped celebrating her life and music. On April 8, Emily Berl, 32, an artist and photographer, attended the Selena Fan Gathering at Plaza de la Raza in Lincoln Park, near her home in Los Angeles, to see how that Tejano music sensation was being remembered.\n",
    "\n",
    "Ms. Berl has a fascination with fan culture and the groups that can build around it. \"That kind of dedication is really interesting to me,\" she said. \"People working one way or another toward a common idea.\"'''"
   ]
  },
  {
   "cell_type": "code",
   "execution_count": null,
   "metadata": {
    "collapsed": false
   },
   "outputs": [],
   "source": [
    "get_article_info(sentence3)"
   ]
  },
  {
   "cell_type": "code",
   "execution_count": null,
   "metadata": {
    "collapsed": false,
    "scrolled": true
   },
   "outputs": [],
   "source": [
    "sentence = \"Barack Obama and Donald Trump went to a party. Obama said, \\\"This isn't rad.\\\"\"\n",
    "get_article_info(sentence)"
   ]
  },
  {
   "cell_type": "code",
   "execution_count": null,
   "metadata": {
    "collapsed": false
   },
   "outputs": [],
   "source": [
    "sentence = \"Barack and Michelle Obama gave a speech today. Everything is going great, they said.\"\n",
    "get_article_info(sentence)"
   ]
  },
  {
   "cell_type": "code",
   "execution_count": null,
   "metadata": {
    "collapsed": false
   },
   "outputs": [],
   "source": [
    "sentence = \"Google has been having a great quarter. It said it expected profits to rise phenomenally.\"\n",
    "get_article_info(sentence)"
   ]
  },
  {
   "cell_type": "code",
   "execution_count": 5,
   "metadata": {
    "collapsed": false
   },
   "outputs": [
    {
     "name": "stdout",
     "output_type": "stream",
     "text": [
      "MENTIONS DICTIONARY:\n",
      "{(1, 1, 2): {'consensus_gender': ('MALE', 'med_conf', 'coref'),\n",
      "             'coref_gender': {'FEMALE': 0, 'MALE': 1, 'NON-LIVING': 0},\n",
      "             'coref_mention_id': 1,\n",
      "             'coreferent_mentions': [(2, 2, 2)],\n",
      "             'mention_num': 1,\n",
      "             'text': u'Barack Obama'},\n",
      " (1, 6, 6): {'coref_gender': {'FEMALE': 0, 'MALE': 0, 'NON-LIVING': 0},\n",
      "             'coref_mention_id': 3,\n",
      "             'coreferent_mentions': [],\n",
      "             'flag_last_name_to_infer': True,\n",
      "             'mention_num': 2,\n",
      "             'text': u'Michelle'},\n",
      " (2, 2, 2): {'consensus_gender': ('FEMALE', 'high_conf', 'hon'),\n",
      "             'coref_gender': {'FEMALE': 0, 'MALE': 1, 'NON-LIVING': 0},\n",
      "             'coref_mention_id': 6,\n",
      "             'coreferent_mentions': [(1, 1, 2)],\n",
      "             'hon': u'Ms.',\n",
      "             'hon_gender': 'FEMALE',\n",
      "             'mention_num': 3,\n",
      "             'text': u'Obama'}}\n",
      "{u'basic-dependencies': [{u'dep': u'ROOT',\n",
      "                          u'dependent': 7,\n",
      "                          u'dependentGloss': u'went',\n",
      "                          u'governor': 0,\n",
      "                          u'governorGloss': u'ROOT'},\n",
      "                         {u'dep': u'compound',\n",
      "                          u'dependent': 1,\n",
      "                          u'dependentGloss': u'Barack',\n",
      "                          u'governor': 2,\n",
      "                          u'governorGloss': u'Obama'},\n",
      "                         {u'dep': u'nsubj',\n",
      "                          u'dependent': 2,\n",
      "                          u'dependentGloss': u'Obama',\n",
      "                          u'governor': 7,\n",
      "                          u'governorGloss': u'went'},\n",
      "                         {u'dep': u'cc',\n",
      "                          u'dependent': 3,\n",
      "                          u'dependentGloss': u'and',\n",
      "                          u'governor': 2,\n",
      "                          u'governorGloss': u'Obama'},\n",
      "                         {u'dep': u'nmod:poss',\n",
      "                          u'dependent': 4,\n",
      "                          u'dependentGloss': u'his',\n",
      "                          u'governor': 6,\n",
      "                          u'governorGloss': u'Michelle'},\n",
      "                         {u'dep': u'compound',\n",
      "                          u'dependent': 5,\n",
      "                          u'dependentGloss': u'wife',\n",
      "                          u'governor': 6,\n",
      "                          u'governorGloss': u'Michelle'},\n",
      "                         {u'dep': u'conj',\n",
      "                          u'dependent': 6,\n",
      "                          u'dependentGloss': u'Michelle',\n",
      "                          u'governor': 2,\n",
      "                          u'governorGloss': u'Obama'},\n",
      "                         {u'dep': u'case',\n",
      "                          u'dependent': 8,\n",
      "                          u'dependentGloss': u'to',\n",
      "                          u'governor': 10,\n",
      "                          u'governorGloss': u'movies'},\n",
      "                         {u'dep': u'det',\n",
      "                          u'dependent': 9,\n",
      "                          u'dependentGloss': u'the',\n",
      "                          u'governor': 10,\n",
      "                          u'governorGloss': u'movies'},\n",
      "                         {u'dep': u'nmod',\n",
      "                          u'dependent': 10,\n",
      "                          u'dependentGloss': u'movies',\n",
      "                          u'governor': 7,\n",
      "                          u'governorGloss': u'went'},\n",
      "                         {u'dep': u'punct',\n",
      "                          u'dependent': 11,\n",
      "                          u'dependentGloss': u'.',\n",
      "                          u'governor': 7,\n",
      "                          u'governorGloss': u'went'}],\n",
      " u'collapsed-ccprocessed-dependencies': [{u'dep': u'ROOT',\n",
      "                                          u'dependent': 7,\n",
      "                                          u'dependentGloss': u'went',\n",
      "                                          u'governor': 0,\n",
      "                                          u'governorGloss': u'ROOT'},\n",
      "                                         {u'dep': u'compound',\n",
      "                                          u'dependent': 1,\n",
      "                                          u'dependentGloss': u'Barack',\n",
      "                                          u'governor': 2,\n",
      "                                          u'governorGloss': u'Obama'},\n",
      "                                         {u'dep': u'nsubj',\n",
      "                                          u'dependent': 2,\n",
      "                                          u'dependentGloss': u'Obama',\n",
      "                                          u'governor': 7,\n",
      "                                          u'governorGloss': u'went'},\n",
      "                                         {u'dep': u'cc',\n",
      "                                          u'dependent': 3,\n",
      "                                          u'dependentGloss': u'and',\n",
      "                                          u'governor': 2,\n",
      "                                          u'governorGloss': u'Obama'},\n",
      "                                         {u'dep': u'nmod:poss',\n",
      "                                          u'dependent': 4,\n",
      "                                          u'dependentGloss': u'his',\n",
      "                                          u'governor': 6,\n",
      "                                          u'governorGloss': u'Michelle'},\n",
      "                                         {u'dep': u'compound',\n",
      "                                          u'dependent': 5,\n",
      "                                          u'dependentGloss': u'wife',\n",
      "                                          u'governor': 6,\n",
      "                                          u'governorGloss': u'Michelle'},\n",
      "                                         {u'dep': u'conj:and',\n",
      "                                          u'dependent': 6,\n",
      "                                          u'dependentGloss': u'Michelle',\n",
      "                                          u'governor': 2,\n",
      "                                          u'governorGloss': u'Obama'},\n",
      "                                         {u'dep': u'nsubj',\n",
      "                                          u'dependent': 6,\n",
      "                                          u'dependentGloss': u'Michelle',\n",
      "                                          u'governor': 7,\n",
      "                                          u'governorGloss': u'went'},\n",
      "                                         {u'dep': u'case',\n",
      "                                          u'dependent': 8,\n",
      "                                          u'dependentGloss': u'to',\n",
      "                                          u'governor': 10,\n",
      "                                          u'governorGloss': u'movies'},\n",
      "                                         {u'dep': u'det',\n",
      "                                          u'dependent': 9,\n",
      "                                          u'dependentGloss': u'the',\n",
      "                                          u'governor': 10,\n",
      "                                          u'governorGloss': u'movies'},\n",
      "                                         {u'dep': u'nmod:to',\n",
      "                                          u'dependent': 10,\n",
      "                                          u'dependentGloss': u'movies',\n",
      "                                          u'governor': 7,\n",
      "                                          u'governorGloss': u'went'},\n",
      "                                         {u'dep': u'punct',\n",
      "                                          u'dependent': 11,\n",
      "                                          u'dependentGloss': u'.',\n",
      "                                          u'governor': 7,\n",
      "                                          u'governorGloss': u'went'}],\n",
      " u'collapsed-dependencies': [{u'dep': u'ROOT',\n",
      "                              u'dependent': 7,\n",
      "                              u'dependentGloss': u'went',\n",
      "                              u'governor': 0,\n",
      "                              u'governorGloss': u'ROOT'},\n",
      "                             {u'dep': u'compound',\n",
      "                              u'dependent': 1,\n",
      "                              u'dependentGloss': u'Barack',\n",
      "                              u'governor': 2,\n",
      "                              u'governorGloss': u'Obama'},\n",
      "                             {u'dep': u'nsubj',\n",
      "                              u'dependent': 2,\n",
      "                              u'dependentGloss': u'Obama',\n",
      "                              u'governor': 7,\n",
      "                              u'governorGloss': u'went'},\n",
      "                             {u'dep': u'cc',\n",
      "                              u'dependent': 3,\n",
      "                              u'dependentGloss': u'and',\n",
      "                              u'governor': 2,\n",
      "                              u'governorGloss': u'Obama'},\n",
      "                             {u'dep': u'nmod:poss',\n",
      "                              u'dependent': 4,\n",
      "                              u'dependentGloss': u'his',\n",
      "                              u'governor': 6,\n",
      "                              u'governorGloss': u'Michelle'},\n",
      "                             {u'dep': u'compound',\n",
      "                              u'dependent': 5,\n",
      "                              u'dependentGloss': u'wife',\n",
      "                              u'governor': 6,\n",
      "                              u'governorGloss': u'Michelle'},\n",
      "                             {u'dep': u'conj:and',\n",
      "                              u'dependent': 6,\n",
      "                              u'dependentGloss': u'Michelle',\n",
      "                              u'governor': 2,\n",
      "                              u'governorGloss': u'Obama'},\n",
      "                             {u'dep': u'case',\n",
      "                              u'dependent': 8,\n",
      "                              u'dependentGloss': u'to',\n",
      "                              u'governor': 10,\n",
      "                              u'governorGloss': u'movies'},\n",
      "                             {u'dep': u'det',\n",
      "                              u'dependent': 9,\n",
      "                              u'dependentGloss': u'the',\n",
      "                              u'governor': 10,\n",
      "                              u'governorGloss': u'movies'},\n",
      "                             {u'dep': u'nmod:to',\n",
      "                              u'dependent': 10,\n",
      "                              u'dependentGloss': u'movies',\n",
      "                              u'governor': 7,\n",
      "                              u'governorGloss': u'went'}],\n",
      " u'index': 0,\n",
      " u'openie': [{u'object': u'movies',\n",
      "              u'objectSpan': [9, 10],\n",
      "              u'relation': u'went to',\n",
      "              u'relationSpan': [6, 8],\n",
      "              u'subject': u'Barack Obama',\n",
      "              u'subjectSpan': [0, 2]},\n",
      "             {u'object': u'his wife Michelle',\n",
      "              u'objectSpan': [3, 6],\n",
      "              u'relation': u'went',\n",
      "              u'relationSpan': [6, 7],\n",
      "              u'subject': u'Barack Obama',\n",
      "              u'subjectSpan': [0, 2]}],\n",
      " u'parse': u'(ROOT\\n  (S\\n    (NP\\n      (NP (NNP Barack) (NNP Obama))\\n      (CC and)\\n      (NP (PRP$ his) (NN wife) (NNP Michelle)))\\n    (VP (VBD went)\\n      (PP (TO to)\\n        (NP (DT the) (NNS movies))))\\n    (. .)))',\n",
      " u'tokens': [{u'after': u' ',\n",
      "              u'before': u'',\n",
      "              u'characterOffsetBegin': 0,\n",
      "              u'characterOffsetEnd': 6,\n",
      "              u'index': 1,\n",
      "              u'lemma': u'Barack',\n",
      "              u'ner': u'PERSON',\n",
      "              u'originalText': u'Barack',\n",
      "              u'pos': u'NNP',\n",
      "              u'speaker': u'PER0',\n",
      "              u'word': u'Barack'},\n",
      "             {u'after': u' ',\n",
      "              u'before': u' ',\n",
      "              u'characterOffsetBegin': 7,\n",
      "              u'characterOffsetEnd': 12,\n",
      "              u'index': 2,\n",
      "              u'lemma': u'Obama',\n",
      "              u'ner': u'PERSON',\n",
      "              u'originalText': u'Obama',\n",
      "              u'pos': u'NNP',\n",
      "              u'speaker': u'PER0',\n",
      "              u'word': u'Obama'},\n",
      "             {u'after': u' ',\n",
      "              u'before': u' ',\n",
      "              u'characterOffsetBegin': 13,\n",
      "              u'characterOffsetEnd': 16,\n",
      "              u'index': 3,\n",
      "              u'lemma': u'and',\n",
      "              u'ner': u'O',\n",
      "              u'originalText': u'and',\n",
      "              u'pos': u'CC',\n",
      "              u'speaker': u'PER0',\n",
      "              u'word': u'and'},\n",
      "             {u'after': u' ',\n",
      "              u'before': u' ',\n",
      "              u'characterOffsetBegin': 17,\n",
      "              u'characterOffsetEnd': 20,\n",
      "              u'index': 4,\n",
      "              u'lemma': u'he',\n",
      "              u'ner': u'O',\n",
      "              u'originalText': u'his',\n",
      "              u'pos': u'PRP$',\n",
      "              u'speaker': u'PER0',\n",
      "              u'word': u'his'},\n",
      "             {u'after': u' ',\n",
      "              u'before': u' ',\n",
      "              u'characterOffsetBegin': 21,\n",
      "              u'characterOffsetEnd': 25,\n",
      "              u'index': 5,\n",
      "              u'lemma': u'wife',\n",
      "              u'ner': u'O',\n",
      "              u'originalText': u'wife',\n",
      "              u'pos': u'NN',\n",
      "              u'speaker': u'PER0',\n",
      "              u'word': u'wife'},\n",
      "             {u'after': u' ',\n",
      "              u'before': u' ',\n",
      "              u'characterOffsetBegin': 26,\n",
      "              u'characterOffsetEnd': 34,\n",
      "              u'index': 6,\n",
      "              u'lemma': u'Michelle',\n",
      "              u'ner': u'PERSON',\n",
      "              u'originalText': u'Michelle',\n",
      "              u'pos': u'NNP',\n",
      "              u'speaker': u'PER0',\n",
      "              u'word': u'Michelle'},\n",
      "             {u'after': u' ',\n",
      "              u'before': u' ',\n",
      "              u'characterOffsetBegin': 35,\n",
      "              u'characterOffsetEnd': 39,\n",
      "              u'index': 7,\n",
      "              u'lemma': u'go',\n",
      "              u'ner': u'O',\n",
      "              u'originalText': u'went',\n",
      "              u'pos': u'VBD',\n",
      "              u'speaker': u'PER0',\n",
      "              u'word': u'went'},\n",
      "             {u'after': u' ',\n",
      "              u'before': u' ',\n",
      "              u'characterOffsetBegin': 40,\n",
      "              u'characterOffsetEnd': 42,\n",
      "              u'index': 8,\n",
      "              u'lemma': u'to',\n",
      "              u'ner': u'O',\n",
      "              u'originalText': u'to',\n",
      "              u'pos': u'TO',\n",
      "              u'speaker': u'PER0',\n",
      "              u'word': u'to'},\n",
      "             {u'after': u' ',\n",
      "              u'before': u' ',\n",
      "              u'characterOffsetBegin': 43,\n",
      "              u'characterOffsetEnd': 46,\n",
      "              u'index': 9,\n",
      "              u'lemma': u'the',\n",
      "              u'ner': u'O',\n",
      "              u'originalText': u'the',\n",
      "              u'pos': u'DT',\n",
      "              u'speaker': u'PER0',\n",
      "              u'word': u'the'},\n",
      "             {u'after': u'',\n",
      "              u'before': u' ',\n",
      "              u'characterOffsetBegin': 47,\n",
      "              u'characterOffsetEnd': 53,\n",
      "              u'index': 10,\n",
      "              u'lemma': u'movie',\n",
      "              u'ner': u'O',\n",
      "              u'originalText': u'movies',\n",
      "              u'pos': u'NNS',\n",
      "              u'speaker': u'PER0',\n",
      "              u'word': u'movies'},\n",
      "             {u'after': u' ',\n",
      "              u'before': u'',\n",
      "              u'characterOffsetBegin': 53,\n",
      "              u'characterOffsetEnd': 54,\n",
      "              u'index': 11,\n",
      "              u'lemma': u'.',\n",
      "              u'ner': u'O',\n",
      "              u'originalText': u'.',\n",
      "              u'pos': u'.',\n",
      "              u'speaker': u'PER0',\n",
      "              u'word': u'.'}]}\n"
     ]
    },
    {
     "data": {
      "text/plain": [
       "({u'Barack Obama': (1, ('MALE', None)),\n",
       "  u'Michelle': (1, ('FEMALE', None)),\n",
       "  u'Obama': (1, ('FEMALE', None))},\n",
       " {u'Barack Obama': [], u'Michelle': [], u'Obama': []},\n",
       " {u'Barack Obama': [(u'went', u'go'),\n",
       "   (u'went', u'go'),\n",
       "   (u'enjoyed', u'enjoy')],\n",
       "  u'Michelle': [],\n",
       "  u'Obama': []},\n",
       " defaultdict(list, {}),\n",
       " {u'Barack Obama': [], u'Michelle': [], u'Obama': []})"
      ]
     },
     "execution_count": 5,
     "metadata": {},
     "output_type": "execute_result"
    }
   ],
   "source": [
    "sentence = \"Barack Obama and his wife Michelle went to the movies. Ms. Obama enjoyed it.\"\n",
    "get_article_info(sentence)"
   ]
  },
  {
   "cell_type": "code",
   "execution_count": 10,
   "metadata": {
    "collapsed": false
   },
   "outputs": [
    {
     "name": "stdout",
     "output_type": "stream",
     "text": [
      "MENTIONS DICTIONARY:\n",
      "{(1, 1, 1): {'coref_gender': {'FEMALE': 0, 'MALE': 0, 'NON-LIVING': 0},\n",
      "             'coref_mention_id': 1,\n",
      "             'coreferent_mentions': [],\n",
      "             'flag_last_name_to_infer': True,\n",
      "             'mention_num': 1,\n",
      "             'potential_surname': u'Obama',\n",
      "             'text': u'Barack'},\n",
      " (1, 3, 4): {'coref_gender': {'FEMALE': 0, 'MALE': 0, 'NON-LIVING': 0},\n",
      "             'coref_mention_id': 2,\n",
      "             'coreferent_mentions': [],\n",
      "             'mention_num': 2,\n",
      "             'text': u'Michelle Obama'}}\n"
     ]
    },
    {
     "data": {
      "text/plain": [
       "({u'Barack': (1, ('MALE', None)), u'Michelle Obama': (1, ('FEMALE', None))},\n",
       " {u'Barack': [], u'Michelle Obama': []},\n",
       " {u'Barack': [(u'went', u'go')], u'Michelle Obama': [(u'went', u'go')]},\n",
       " defaultdict(list, {}),\n",
       " {u'Barack': [], u'Michelle Obama': []})"
      ]
     },
     "execution_count": 10,
     "metadata": {},
     "output_type": "execute_result"
    }
   ],
   "source": [
    "sentence = 'Barack and Michelle Obama went to the movies.'\n",
    "get_article_info(sentence)"
   ]
  },
  {
   "cell_type": "code",
   "execution_count": null,
   "metadata": {
    "collapsed": true
   },
   "outputs": [],
   "source": []
  }
 ],
 "metadata": {
  "kernelspec": {
   "display_name": "Python 2",
   "language": "python",
   "name": "python2"
  },
  "language_info": {
   "codemirror_mode": {
    "name": "ipython",
    "version": 2
   },
   "file_extension": ".py",
   "mimetype": "text/x-python",
   "name": "python",
   "nbconvert_exporter": "python",
   "pygments_lexer": "ipython2",
   "version": "2.7.13"
  }
 },
 "nbformat": 4,
 "nbformat_minor": 1
}
