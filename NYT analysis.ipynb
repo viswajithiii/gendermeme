{
 "cells": [
  {
   "cell_type": "code",
   "execution_count": 1,
   "metadata": {
    "collapsed": false
   },
   "outputs": [],
   "source": [
    "import json\n",
    "from pprint import pprint\n",
    "from analysis.gender import gender, gender_special\n",
    "from analysis.utils import get_people_mentioned, get_gender, get_quotes, get_associated_verbs, identify_sources, get_associated_adjectives\n",
    "from analysis.analysis import get_article_info\n",
    "from datetime import datetime\n",
    "import time\n",
    "\n",
    "%load_ext autoreload\n",
    "%autoreload 2"
   ]
  },
  {
   "cell_type": "code",
   "execution_count": 4,
   "metadata": {
    "collapsed": true
   },
   "outputs": [],
   "source": [
    "def load_nyt_data(year, month, folder='annotated/NYT/'):\n",
    "    i = 0\n",
    "    nyt_data = {}\n",
    "    with open('{}nyt_annotated_{}_{}.tsv'.format(folder, year, month), 'r') as nyt_f:\n",
    "        for line in nyt_f:\n",
    "            link, data, corenlp = line.strip().split('\\t')\n",
    "            nyt_data[link] = {'data': json.loads(data), 'corenlp': json.loads(corenlp)}\n",
    "            i += 1\n",
    "            if i > 10:\n",
    "                break\n",
    "    return nyt_data"
   ]
  },
  {
   "cell_type": "code",
   "execution_count": 17,
   "metadata": {
    "collapsed": true
   },
   "outputs": [],
   "source": [
    "def get_mentions_quotes_new(nyt_data, out_fn):\n",
    "    for link, values in nyt_data.iteritems():\n",
    "        data = values['data']\n",
    "        corenlp = values['corenlp']\n",
    "        if not type(corenlp) is dict: # This happens when CoreNLP timed out\n",
    "            continue\n",
    "        pm, quotes, _, _, _ = get_article_info(data['text'])\n",
    "        num_mentions = {'MALE': 0, 'FEMALE': 0}\n",
    "        num_distinct_mentions = {'MALE': 0, 'FEMALE': 0}\n",
    "        num_quoted_words = {'MALE': 0, 'FEMALE': 0}\n",
    "        num_quoted_people = {'MALE': 0, 'FEMALE': 0}\n",
    "        print pm\n",
    "        print quotes\n",
    "        print\n",
    "        continue\n",
    "        for person, info in pm.iteritems():\n",
    "            count = info[0]\n",
    "            gender = info[1][0]\n",
    "            if not type(gender) is str:\n",
    "                continue\n",
    "            if gender.lower() not in ['male', 'female']:\n",
    "                continue\n",
    "            num_mentions[gender.upper()] += count\n",
    "            num_distinct_mentions[gender.upper()] += 1\n",
    "            if person in quotes:\n",
    "                num_quoted_people[gender.upper()] += 1\n",
    "                quote_length = len(quotes[person])\n",
    "                num_quoted_words[gender.upper()] += quote_length\n",
    "            \n",
    "\n",
    "        author_gender = 'UNKNOWN'\n",
    "        if 'print_byline' in data:\n",
    "            pb = data['print_byline']\n",
    "            if pb.startswith('By'):\n",
    "                pb = pb[3:]\n",
    "            if len(pb) > 0:\n",
    "                author_gender = get_gender(pb)\n",
    "        elif 'norm_byline' in data:\n",
    "            author_gender = get_gender(data['norm_byline'][data['norm_byline'].find(',') + 1:])\n",
    "        if not type(author_gender) is str:\n",
    "            author_gender = 'UNKNOWN'\n",
    "        else:\n",
    "            author_gender = author_gender.upper()\n",
    "        '''\n",
    "        print author_gender\n",
    "        print data['id']\n",
    "        print data.keys()\n",
    "        print data['print_byline']\n",
    "        print data['norm_byline']\n",
    "        '''\n",
    "        year, month = data['id'].split('_')[:2]\n",
    "        with open(out_fn, 'a') as out_f:\n",
    "            try:\n",
    "                out_f.write('\\t'.join([unicode(a) for a in [\n",
    "                            link, author_gender, year, month, data.get('section', ''), \n",
    "                            ','.join([unicode(d) for d in data.get('descriptors', [])]), \n",
    "                            num_distinct_mentions['MALE'], num_distinct_mentions['FEMALE'],\n",
    "                            num_mentions['MALE'], num_mentions['FEMALE'],\n",
    "                            num_quoted_people['MALE'], num_quoted_people['FEMALE'],\n",
    "                            num_quoted_words['MALE'], num_quoted_words['FEMALE'],\n",
    "                            ]]))\n",
    "                out_f.write('\\n')\n",
    "            except UnicodeEncodeError:\n",
    "                pass\n",
    "            except:\n",
    "                print link\n",
    "                print author_gender\n",
    "                print year\n",
    "                print month\n",
    "                print data.get('section', '')\n",
    "                print data.get('descriptors')\n",
    "                print ','.join(data.get('descriptors', []))\n",
    "                print num_distinct_mentions\n",
    "                print num_mentions\n",
    "                print num_quotes\n",
    "                print [\n",
    "                            link, author_gender, year, month, data.get('section', ''), ','.join(data.get('descriptors', [])), \n",
    "                            num_distinct_mentions['MALE'], num_distinct_mentions['FEMALE'],\n",
    "                            num_mentions['MALE'], num_mentions['FEMALE'],\n",
    "                            num_quotes['MALE'], num_quotes['FEMALE']\n",
    "                            ]\n",
    "                return\n"
   ]
  },
  {
   "cell_type": "code",
   "execution_count": 9,
   "metadata": {
    "collapsed": false
   },
   "outputs": [],
   "source": [
    "nyt_data = load_nyt_data(1989, 8)"
   ]
  },
  {
   "cell_type": "code",
   "execution_count": 20,
   "metadata": {
    "collapsed": false
   },
   "outputs": [
    {
     "name": "stdout",
     "output_type": "stream",
     "text": [
      "{u'John H. Lichtblau': (3, ('MALE', 'HONORIFIC'))}\n",
      "{u'John H. Lichtblau': [{u'index': 2, u'word': u'It', u'lemma': u'it', u'after': u'', u'pos': u'PRP', u'characterOffsetEnd': 582, u'speaker': u'37', u'characterOffsetBegin': 580, u'originalText': u'It', u'ner': u'O', u'before': u''}, {u'index': 3, u'word': u\"'s\", u'lemma': u'be', u'after': u' ', u'pos': u'VBZ', u'characterOffsetEnd': 584, u'speaker': u'37', u'characterOffsetBegin': 582, u'originalText': u\"'s\", u'ner': u'O', u'before': u''}, {u'index': 4, u'word': u'only', u'lemma': u'only', u'after': u' ', u'pos': u'RB', u'characterOffsetEnd': 589, u'speaker': u'37', u'characterOffsetBegin': 585, u'originalText': u'only', u'ner': u'O', u'before': u' '}, {u'index': 5, u'word': u'a', u'lemma': u'a', u'after': u' ', u'pos': u'DT', u'characterOffsetEnd': 591, u'speaker': u'37', u'characterOffsetBegin': 590, u'originalText': u'a', u'ner': u'O', u'before': u' '}, {u'index': 6, u'word': u'question', u'lemma': u'question', u'after': u' ', u'pos': u'NN', u'characterOffsetEnd': 600, u'speaker': u'37', u'characterOffsetBegin': 592, u'originalText': u'question', u'ner': u'O', u'before': u' '}, {u'index': 7, u'word': u'of', u'lemma': u'of', u'after': u' ', u'pos': u'IN', u'characterOffsetEnd': 603, u'speaker': u'37', u'characterOffsetBegin': 601, u'originalText': u'of', u'ner': u'O', u'before': u' '}, {u'index': 8, u'word': u'how', u'lemma': u'how', u'after': u' ', u'pos': u'WRB', u'characterOffsetEnd': 607, u'speaker': u'37', u'characterOffsetBegin': 604, u'originalText': u'how', u'ner': u'O', u'before': u' '}, {u'index': 9, u'word': u'soon', u'lemma': u'soon', u'after': u' ', u'pos': u'RB', u'characterOffsetEnd': 612, u'speaker': u'37', u'characterOffsetBegin': 608, u'originalText': u'soon', u'ner': u'O', u'before': u' '}, {u'index': 10, u'word': u'we', u'lemma': u'we', u'after': u' ', u'pos': u'PRP', u'characterOffsetEnd': 615, u'speaker': u'37', u'characterOffsetBegin': 613, u'originalText': u'we', u'ner': u'O', u'before': u' '}, {u'index': 11, u'word': u'get', u'lemma': u'get', u'after': u' ', u'pos': u'VBP', u'characterOffsetEnd': 619, u'speaker': u'37', u'characterOffsetBegin': 616, u'originalText': u'get', u'ner': u'O', u'before': u' '}, {u'index': 12, u'word': u'there', u'lemma': u'there', u'after': u'', u'pos': u'RB', u'characterOffsetEnd': 625, u'speaker': u'37', u'characterOffsetBegin': 620, u'originalText': u'there', u'ner': u'O', u'before': u' '}, {u'index': 13, u'word': u',', u'lemma': u',', u'after': u' ', u'pos': u',', u'characterOffsetEnd': 626, u'speaker': u'37', u'characterOffsetBegin': 625, u'originalText': u',', u'ner': u'O', u'before': u''}, {u'index': 14, u'word': u'not', u'lemma': u'not', u'after': u' ', u'pos': u'RB', u'characterOffsetEnd': 630, u'speaker': u'37', u'characterOffsetBegin': 627, u'originalText': u'not', u'ner': u'O', u'before': u' '}, {u'index': 15, u'word': u'whether', u'lemma': u'whether', u'after': u' ', u'pos': u'IN', u'characterOffsetEnd': 638, u'speaker': u'37', u'characterOffsetBegin': 631, u'originalText': u'whether', u'ner': u'O', u'before': u' '}, {u'index': 16, u'word': u'we', u'lemma': u'we', u'after': u' ', u'pos': u'PRP', u'characterOffsetEnd': 641, u'speaker': u'37', u'characterOffsetBegin': 639, u'originalText': u'we', u'ner': u'O', u'before': u' '}, {u'index': 17, u'word': u'get', u'lemma': u'get', u'after': u' ', u'pos': u'VBP', u'characterOffsetEnd': 645, u'speaker': u'37', u'characterOffsetBegin': 642, u'originalText': u'get', u'ner': u'O', u'before': u' '}, {u'index': 18, u'word': u'there', u'lemma': u'there', u'after': u'', u'pos': u'RB', u'characterOffsetEnd': 651, u'speaker': u'37', u'characterOffsetBegin': 646, u'originalText': u'there', u'ner': u'O', u'before': u' '}, {u'index': 19, u'word': u',', u'lemma': u',', u'after': u'', u'pos': u',', u'characterOffsetEnd': 652, u'speaker': u'37', u'characterOffsetBegin': 651, u'originalText': u',', u'ner': u'O', u'before': u''}, {u'index': 2, u'word': u'We', u'lemma': u'we', u'after': u' ', u'pos': u'PRP', u'characterOffsetEnd': 750, u'speaker': u'37', u'characterOffsetBegin': 748, u'originalText': u'We', u'ner': u'O', u'before': u''}, {u'index': 3, u'word': u'will', u'lemma': u'will', u'after': u' ', u'pos': u'MD', u'characterOffsetEnd': 755, u'speaker': u'37', u'characterOffsetBegin': 751, u'originalText': u'will', u'ner': u'O', u'before': u' '}, {u'index': 4, u'word': u'have', u'lemma': u'have', u'after': u' ', u'pos': u'VB', u'characterOffsetEnd': 760, u'speaker': u'37', u'characterOffsetBegin': 756, u'originalText': u'have', u'ner': u'O', u'before': u' '}, {u'index': 5, u'word': u'to', u'lemma': u'to', u'after': u' ', u'pos': u'TO', u'characterOffsetEnd': 763, u'speaker': u'37', u'characterOffsetBegin': 761, u'originalText': u'to', u'ner': u'O', u'before': u' '}, {u'index': 6, u'word': u'live', u'lemma': u'live', u'after': u' ', u'pos': u'VB', u'characterOffsetEnd': 768, u'speaker': u'37', u'characterOffsetBegin': 764, u'originalText': u'live', u'ner': u'O', u'before': u' '}, {u'index': 7, u'word': u'with', u'lemma': u'with', u'after': u' ', u'pos': u'IN', u'characterOffsetEnd': 773, u'speaker': u'37', u'characterOffsetBegin': 769, u'originalText': u'with', u'ner': u'O', u'before': u' '}, {u'index': 8, u'word': u'a', u'lemma': u'a', u'after': u' ', u'pos': u'DT', u'characterOffsetEnd': 775, u'speaker': u'37', u'characterOffsetBegin': 774, u'originalText': u'a', u'ner': u'O', u'before': u' '}, {u'index': 9, u'word': u'high', u'lemma': u'high', u'after': u' ', u'pos': u'JJ', u'characterOffsetEnd': 780, u'speaker': u'37', u'characterOffsetBegin': 776, u'originalText': u'high', u'ner': u'O', u'before': u' '}, {u'index': 10, u'word': u'level', u'lemma': u'level', u'after': u' ', u'pos': u'NN', u'characterOffsetEnd': 786, u'speaker': u'37', u'characterOffsetBegin': 781, u'originalText': u'level', u'ner': u'O', u'before': u' '}, {u'index': 11, u'word': u'of', u'lemma': u'of', u'after': u' ', u'pos': u'IN', u'characterOffsetEnd': 789, u'speaker': u'37', u'characterOffsetBegin': 787, u'originalText': u'of', u'ner': u'O', u'before': u' '}, {u'index': 12, u'word': u'imports', u'lemma': u'import', u'after': u'', u'pos': u'NNS', u'characterOffsetEnd': 797, u'speaker': u'37', u'characterOffsetBegin': 790, u'originalText': u'imports', u'ner': u'O', u'before': u' '}, {u'index': 13, u'word': u'.', u'lemma': u'.', u'after': u'', u'pos': u'.', u'characterOffsetEnd': 798, u'speaker': u'37', u'characterOffsetBegin': 797, u'originalText': u'.', u'ner': u'O', u'before': u''}]}\n",
      "\n"
     ]
    },
    {
     "ename": "KeyboardInterrupt",
     "evalue": "",
     "output_type": "error",
     "traceback": [
      "\u001b[0;31m---------------------------------------------------------------------------\u001b[0m",
      "\u001b[0;31mKeyboardInterrupt\u001b[0m                         Traceback (most recent call last)",
      "\u001b[0;32m<ipython-input-20-d0c0e89eaa5a>\u001b[0m in \u001b[0;36m<module>\u001b[0;34m()\u001b[0m\n\u001b[0;32m----> 1\u001b[0;31m \u001b[0mget_mentions_quotes_new\u001b[0m\u001b[0;34m(\u001b[0m\u001b[0mnyt_data\u001b[0m\u001b[0;34m,\u001b[0m \u001b[0;34m'nyt_data_counts.tsv'\u001b[0m\u001b[0;34m)\u001b[0m\u001b[0;34m\u001b[0m\u001b[0m\n\u001b[0m",
      "\u001b[0;32m<ipython-input-17-96aa49e3b936>\u001b[0m in \u001b[0;36mget_mentions_quotes_new\u001b[0;34m(nyt_data, out_fn)\u001b[0m\n\u001b[1;32m      5\u001b[0m         \u001b[0;32mif\u001b[0m \u001b[0;32mnot\u001b[0m \u001b[0mtype\u001b[0m\u001b[0;34m(\u001b[0m\u001b[0mcorenlp\u001b[0m\u001b[0;34m)\u001b[0m \u001b[0;32mis\u001b[0m \u001b[0mdict\u001b[0m\u001b[0;34m:\u001b[0m \u001b[0;31m# This happens when CoreNLP timed out\u001b[0m\u001b[0;34m\u001b[0m\u001b[0m\n\u001b[1;32m      6\u001b[0m             \u001b[0;32mcontinue\u001b[0m\u001b[0;34m\u001b[0m\u001b[0m\n\u001b[0;32m----> 7\u001b[0;31m         \u001b[0mpm\u001b[0m\u001b[0;34m,\u001b[0m \u001b[0mquotes\u001b[0m\u001b[0;34m,\u001b[0m \u001b[0m_\u001b[0m\u001b[0;34m,\u001b[0m \u001b[0m_\u001b[0m\u001b[0;34m,\u001b[0m \u001b[0m_\u001b[0m \u001b[0;34m=\u001b[0m \u001b[0mget_article_info\u001b[0m\u001b[0;34m(\u001b[0m\u001b[0mdata\u001b[0m\u001b[0;34m[\u001b[0m\u001b[0;34m'text'\u001b[0m\u001b[0;34m]\u001b[0m\u001b[0;34m)\u001b[0m\u001b[0;34m\u001b[0m\u001b[0m\n\u001b[0m\u001b[1;32m      8\u001b[0m         \u001b[0mnum_mentions\u001b[0m \u001b[0;34m=\u001b[0m \u001b[0;34m{\u001b[0m\u001b[0;34m'MALE'\u001b[0m\u001b[0;34m:\u001b[0m \u001b[0;36m0\u001b[0m\u001b[0;34m,\u001b[0m \u001b[0;34m'FEMALE'\u001b[0m\u001b[0;34m:\u001b[0m \u001b[0;36m0\u001b[0m\u001b[0;34m}\u001b[0m\u001b[0;34m\u001b[0m\u001b[0m\n\u001b[1;32m      9\u001b[0m         \u001b[0mnum_distinct_mentions\u001b[0m \u001b[0;34m=\u001b[0m \u001b[0;34m{\u001b[0m\u001b[0;34m'MALE'\u001b[0m\u001b[0;34m:\u001b[0m \u001b[0;36m0\u001b[0m\u001b[0;34m,\u001b[0m \u001b[0;34m'FEMALE'\u001b[0m\u001b[0;34m:\u001b[0m \u001b[0;36m0\u001b[0m\u001b[0;34m}\u001b[0m\u001b[0;34m\u001b[0m\u001b[0m\n",
      "\u001b[0;32m/Users/viswa/Desktop/Code/MG/gendermeme/analysis/analysis.py\u001b[0m in \u001b[0;36mget_article_info\u001b[0;34m(article_text, ann, verbose)\u001b[0m\n\u001b[1;32m     19\u001b[0m                 annotators=['pos', 'lemma', 'ner', 'parse',\n\u001b[1;32m     20\u001b[0m                             \u001b[0;34m'depparse'\u001b[0m\u001b[0;34m,\u001b[0m \u001b[0;34m'dcoref'\u001b[0m\u001b[0;34m,\u001b[0m \u001b[0;34m'quote'\u001b[0m\u001b[0;34m,\u001b[0m\u001b[0;34m\u001b[0m\u001b[0m\n\u001b[0;32m---> 21\u001b[0;31m                             'openie'])\n\u001b[0m\u001b[1;32m     22\u001b[0m \u001b[0;34m\u001b[0m\u001b[0m\n\u001b[1;32m     23\u001b[0m     \u001b[0msentences\u001b[0m\u001b[0;34m,\u001b[0m \u001b[0mcorefs\u001b[0m \u001b[0;34m=\u001b[0m \u001b[0mann\u001b[0m\u001b[0;34m[\u001b[0m\u001b[0;34m'sentences'\u001b[0m\u001b[0;34m]\u001b[0m\u001b[0;34m,\u001b[0m \u001b[0mann\u001b[0m\u001b[0;34m[\u001b[0m\u001b[0;34m'corefs'\u001b[0m\u001b[0;34m]\u001b[0m\u001b[0;34m\u001b[0m\u001b[0m\n",
      "\u001b[0;32m/Users/viswa/Desktop/Code/MG/gendermeme/nlp/utils.py\u001b[0m in \u001b[0;36mannotate_corenlp\u001b[0;34m(text, annotators, output_format, port)\u001b[0m\n\u001b[1;32m     31\u001b[0m     return nlp.annotate(text, properties={\n\u001b[1;32m     32\u001b[0m         \u001b[0;34m'annotators'\u001b[0m\u001b[0;34m:\u001b[0m \u001b[0;34m','\u001b[0m\u001b[0;34m.\u001b[0m\u001b[0mjoin\u001b[0m\u001b[0;34m(\u001b[0m\u001b[0mannotators\u001b[0m\u001b[0;34m)\u001b[0m\u001b[0;34m,\u001b[0m\u001b[0;34m\u001b[0m\u001b[0m\n\u001b[0;32m---> 33\u001b[0;31m         \u001b[0;34m'outputFormat'\u001b[0m\u001b[0;34m:\u001b[0m \u001b[0moutput_format\u001b[0m\u001b[0;34m\u001b[0m\u001b[0m\n\u001b[0m\u001b[1;32m     34\u001b[0m         })\n",
      "\u001b[0;32m/usr/local/lib/python2.7/site-packages/pycorenlp/corenlp.pyc\u001b[0m in \u001b[0;36mannotate\u001b[0;34m(self, text, properties)\u001b[0m\n\u001b[1;32m     27\u001b[0m             self.server_url, params={\n\u001b[1;32m     28\u001b[0m                 \u001b[0;34m'properties'\u001b[0m\u001b[0;34m:\u001b[0m \u001b[0mstr\u001b[0m\u001b[0;34m(\u001b[0m\u001b[0mproperties\u001b[0m\u001b[0;34m)\u001b[0m\u001b[0;34m\u001b[0m\u001b[0m\n\u001b[0;32m---> 29\u001b[0;31m             }, data=data, headers={'Connection': 'close'})\n\u001b[0m\u001b[1;32m     30\u001b[0m         \u001b[0moutput\u001b[0m \u001b[0;34m=\u001b[0m \u001b[0mr\u001b[0m\u001b[0;34m.\u001b[0m\u001b[0mtext\u001b[0m\u001b[0;34m\u001b[0m\u001b[0m\n\u001b[1;32m     31\u001b[0m         if ('outputFormat' in properties\n",
      "\u001b[0;32m/usr/local/lib/python2.7/site-packages/requests/api.pyc\u001b[0m in \u001b[0;36mpost\u001b[0;34m(url, data, json, **kwargs)\u001b[0m\n\u001b[1;32m    108\u001b[0m     \"\"\"\n\u001b[1;32m    109\u001b[0m \u001b[0;34m\u001b[0m\u001b[0m\n\u001b[0;32m--> 110\u001b[0;31m     \u001b[0;32mreturn\u001b[0m \u001b[0mrequest\u001b[0m\u001b[0;34m(\u001b[0m\u001b[0;34m'post'\u001b[0m\u001b[0;34m,\u001b[0m \u001b[0murl\u001b[0m\u001b[0;34m,\u001b[0m \u001b[0mdata\u001b[0m\u001b[0;34m=\u001b[0m\u001b[0mdata\u001b[0m\u001b[0;34m,\u001b[0m \u001b[0mjson\u001b[0m\u001b[0;34m=\u001b[0m\u001b[0mjson\u001b[0m\u001b[0;34m,\u001b[0m \u001b[0;34m**\u001b[0m\u001b[0mkwargs\u001b[0m\u001b[0;34m)\u001b[0m\u001b[0;34m\u001b[0m\u001b[0m\n\u001b[0m\u001b[1;32m    111\u001b[0m \u001b[0;34m\u001b[0m\u001b[0m\n\u001b[1;32m    112\u001b[0m \u001b[0;34m\u001b[0m\u001b[0m\n",
      "\u001b[0;32m/usr/local/lib/python2.7/site-packages/requests/api.pyc\u001b[0m in \u001b[0;36mrequest\u001b[0;34m(method, url, **kwargs)\u001b[0m\n\u001b[1;32m     54\u001b[0m     \u001b[0;31m# cases, and look like a memory leak in others.\u001b[0m\u001b[0;34m\u001b[0m\u001b[0;34m\u001b[0m\u001b[0m\n\u001b[1;32m     55\u001b[0m     \u001b[0;32mwith\u001b[0m \u001b[0msessions\u001b[0m\u001b[0;34m.\u001b[0m\u001b[0mSession\u001b[0m\u001b[0;34m(\u001b[0m\u001b[0;34m)\u001b[0m \u001b[0;32mas\u001b[0m \u001b[0msession\u001b[0m\u001b[0;34m:\u001b[0m\u001b[0;34m\u001b[0m\u001b[0m\n\u001b[0;32m---> 56\u001b[0;31m         \u001b[0;32mreturn\u001b[0m \u001b[0msession\u001b[0m\u001b[0;34m.\u001b[0m\u001b[0mrequest\u001b[0m\u001b[0;34m(\u001b[0m\u001b[0mmethod\u001b[0m\u001b[0;34m=\u001b[0m\u001b[0mmethod\u001b[0m\u001b[0;34m,\u001b[0m \u001b[0murl\u001b[0m\u001b[0;34m=\u001b[0m\u001b[0murl\u001b[0m\u001b[0;34m,\u001b[0m \u001b[0;34m**\u001b[0m\u001b[0mkwargs\u001b[0m\u001b[0;34m)\u001b[0m\u001b[0;34m\u001b[0m\u001b[0m\n\u001b[0m\u001b[1;32m     57\u001b[0m \u001b[0;34m\u001b[0m\u001b[0m\n\u001b[1;32m     58\u001b[0m \u001b[0;34m\u001b[0m\u001b[0m\n",
      "\u001b[0;32m/usr/local/lib/python2.7/site-packages/requests/sessions.pyc\u001b[0m in \u001b[0;36mrequest\u001b[0;34m(self, method, url, params, data, headers, cookies, files, auth, timeout, allow_redirects, proxies, hooks, stream, verify, cert, json)\u001b[0m\n\u001b[1;32m    486\u001b[0m         }\n\u001b[1;32m    487\u001b[0m         \u001b[0msend_kwargs\u001b[0m\u001b[0;34m.\u001b[0m\u001b[0mupdate\u001b[0m\u001b[0;34m(\u001b[0m\u001b[0msettings\u001b[0m\u001b[0;34m)\u001b[0m\u001b[0;34m\u001b[0m\u001b[0m\n\u001b[0;32m--> 488\u001b[0;31m         \u001b[0mresp\u001b[0m \u001b[0;34m=\u001b[0m \u001b[0mself\u001b[0m\u001b[0;34m.\u001b[0m\u001b[0msend\u001b[0m\u001b[0;34m(\u001b[0m\u001b[0mprep\u001b[0m\u001b[0;34m,\u001b[0m \u001b[0;34m**\u001b[0m\u001b[0msend_kwargs\u001b[0m\u001b[0;34m)\u001b[0m\u001b[0;34m\u001b[0m\u001b[0m\n\u001b[0m\u001b[1;32m    489\u001b[0m \u001b[0;34m\u001b[0m\u001b[0m\n\u001b[1;32m    490\u001b[0m         \u001b[0;32mreturn\u001b[0m \u001b[0mresp\u001b[0m\u001b[0;34m\u001b[0m\u001b[0m\n",
      "\u001b[0;32m/usr/local/lib/python2.7/site-packages/requests/sessions.pyc\u001b[0m in \u001b[0;36msend\u001b[0;34m(self, request, **kwargs)\u001b[0m\n\u001b[1;32m    607\u001b[0m \u001b[0;34m\u001b[0m\u001b[0m\n\u001b[1;32m    608\u001b[0m         \u001b[0;31m# Send the request\u001b[0m\u001b[0;34m\u001b[0m\u001b[0;34m\u001b[0m\u001b[0m\n\u001b[0;32m--> 609\u001b[0;31m         \u001b[0mr\u001b[0m \u001b[0;34m=\u001b[0m \u001b[0madapter\u001b[0m\u001b[0;34m.\u001b[0m\u001b[0msend\u001b[0m\u001b[0;34m(\u001b[0m\u001b[0mrequest\u001b[0m\u001b[0;34m,\u001b[0m \u001b[0;34m**\u001b[0m\u001b[0mkwargs\u001b[0m\u001b[0;34m)\u001b[0m\u001b[0;34m\u001b[0m\u001b[0m\n\u001b[0m\u001b[1;32m    610\u001b[0m \u001b[0;34m\u001b[0m\u001b[0m\n\u001b[1;32m    611\u001b[0m         \u001b[0;31m# Total elapsed time of the request (approximately)\u001b[0m\u001b[0;34m\u001b[0m\u001b[0;34m\u001b[0m\u001b[0m\n",
      "\u001b[0;32m/usr/local/lib/python2.7/site-packages/requests/adapters.pyc\u001b[0m in \u001b[0;36msend\u001b[0;34m(self, request, stream, timeout, verify, cert, proxies)\u001b[0m\n\u001b[1;32m    421\u001b[0m                     \u001b[0mdecode_content\u001b[0m\u001b[0;34m=\u001b[0m\u001b[0mFalse\u001b[0m\u001b[0;34m,\u001b[0m\u001b[0;34m\u001b[0m\u001b[0m\n\u001b[1;32m    422\u001b[0m                     \u001b[0mretries\u001b[0m\u001b[0;34m=\u001b[0m\u001b[0mself\u001b[0m\u001b[0;34m.\u001b[0m\u001b[0mmax_retries\u001b[0m\u001b[0;34m,\u001b[0m\u001b[0;34m\u001b[0m\u001b[0m\n\u001b[0;32m--> 423\u001b[0;31m                     \u001b[0mtimeout\u001b[0m\u001b[0;34m=\u001b[0m\u001b[0mtimeout\u001b[0m\u001b[0;34m\u001b[0m\u001b[0m\n\u001b[0m\u001b[1;32m    424\u001b[0m                 )\n\u001b[1;32m    425\u001b[0m \u001b[0;34m\u001b[0m\u001b[0m\n",
      "\u001b[0;32m/usr/local/lib/python2.7/site-packages/requests/packages/urllib3/connectionpool.pyc\u001b[0m in \u001b[0;36murlopen\u001b[0;34m(self, method, url, body, headers, retries, redirect, assert_same_host, timeout, pool_timeout, release_conn, chunked, **response_kw)\u001b[0m\n\u001b[1;32m    592\u001b[0m                                                   \u001b[0mtimeout\u001b[0m\u001b[0;34m=\u001b[0m\u001b[0mtimeout_obj\u001b[0m\u001b[0;34m,\u001b[0m\u001b[0;34m\u001b[0m\u001b[0m\n\u001b[1;32m    593\u001b[0m                                                   \u001b[0mbody\u001b[0m\u001b[0;34m=\u001b[0m\u001b[0mbody\u001b[0m\u001b[0;34m,\u001b[0m \u001b[0mheaders\u001b[0m\u001b[0;34m=\u001b[0m\u001b[0mheaders\u001b[0m\u001b[0;34m,\u001b[0m\u001b[0;34m\u001b[0m\u001b[0m\n\u001b[0;32m--> 594\u001b[0;31m                                                   chunked=chunked)\n\u001b[0m\u001b[1;32m    595\u001b[0m \u001b[0;34m\u001b[0m\u001b[0m\n\u001b[1;32m    596\u001b[0m             \u001b[0;31m# If we're going to release the connection in ``finally:``, then\u001b[0m\u001b[0;34m\u001b[0m\u001b[0;34m\u001b[0m\u001b[0m\n",
      "\u001b[0;32m/usr/local/lib/python2.7/site-packages/requests/packages/urllib3/connectionpool.pyc\u001b[0m in \u001b[0;36m_make_request\u001b[0;34m(self, conn, method, url, timeout, chunked, **httplib_request_kw)\u001b[0m\n\u001b[1;32m    382\u001b[0m         \u001b[0;32mtry\u001b[0m\u001b[0;34m:\u001b[0m\u001b[0;34m\u001b[0m\u001b[0m\n\u001b[1;32m    383\u001b[0m             \u001b[0;32mtry\u001b[0m\u001b[0;34m:\u001b[0m  \u001b[0;31m# Python 2.7, use buffering of HTTP responses\u001b[0m\u001b[0;34m\u001b[0m\u001b[0m\n\u001b[0;32m--> 384\u001b[0;31m                 \u001b[0mhttplib_response\u001b[0m \u001b[0;34m=\u001b[0m \u001b[0mconn\u001b[0m\u001b[0;34m.\u001b[0m\u001b[0mgetresponse\u001b[0m\u001b[0;34m(\u001b[0m\u001b[0mbuffering\u001b[0m\u001b[0;34m=\u001b[0m\u001b[0mTrue\u001b[0m\u001b[0;34m)\u001b[0m\u001b[0;34m\u001b[0m\u001b[0m\n\u001b[0m\u001b[1;32m    385\u001b[0m             \u001b[0;32mexcept\u001b[0m \u001b[0mTypeError\u001b[0m\u001b[0;34m:\u001b[0m  \u001b[0;31m# Python 2.6 and older, Python 3\u001b[0m\u001b[0;34m\u001b[0m\u001b[0m\n\u001b[1;32m    386\u001b[0m                 \u001b[0;32mtry\u001b[0m\u001b[0;34m:\u001b[0m\u001b[0;34m\u001b[0m\u001b[0m\n",
      "\u001b[0;32m/usr/local/Cellar/python/2.7.13/Frameworks/Python.framework/Versions/2.7/lib/python2.7/httplib.pyc\u001b[0m in \u001b[0;36mgetresponse\u001b[0;34m(self, buffering)\u001b[0m\n\u001b[1;32m   1119\u001b[0m \u001b[0;34m\u001b[0m\u001b[0m\n\u001b[1;32m   1120\u001b[0m         \u001b[0;32mtry\u001b[0m\u001b[0;34m:\u001b[0m\u001b[0;34m\u001b[0m\u001b[0m\n\u001b[0;32m-> 1121\u001b[0;31m             \u001b[0mresponse\u001b[0m\u001b[0;34m.\u001b[0m\u001b[0mbegin\u001b[0m\u001b[0;34m(\u001b[0m\u001b[0;34m)\u001b[0m\u001b[0;34m\u001b[0m\u001b[0m\n\u001b[0m\u001b[1;32m   1122\u001b[0m             \u001b[0;32massert\u001b[0m \u001b[0mresponse\u001b[0m\u001b[0;34m.\u001b[0m\u001b[0mwill_close\u001b[0m \u001b[0;34m!=\u001b[0m \u001b[0m_UNKNOWN\u001b[0m\u001b[0;34m\u001b[0m\u001b[0m\n\u001b[1;32m   1123\u001b[0m             \u001b[0mself\u001b[0m\u001b[0;34m.\u001b[0m\u001b[0m__state\u001b[0m \u001b[0;34m=\u001b[0m \u001b[0m_CS_IDLE\u001b[0m\u001b[0;34m\u001b[0m\u001b[0m\n",
      "\u001b[0;32m/usr/local/Cellar/python/2.7.13/Frameworks/Python.framework/Versions/2.7/lib/python2.7/httplib.pyc\u001b[0m in \u001b[0;36mbegin\u001b[0;34m(self)\u001b[0m\n\u001b[1;32m    436\u001b[0m         \u001b[0;31m# read until we get a non-100 response\u001b[0m\u001b[0;34m\u001b[0m\u001b[0;34m\u001b[0m\u001b[0m\n\u001b[1;32m    437\u001b[0m         \u001b[0;32mwhile\u001b[0m \u001b[0mTrue\u001b[0m\u001b[0;34m:\u001b[0m\u001b[0;34m\u001b[0m\u001b[0m\n\u001b[0;32m--> 438\u001b[0;31m             \u001b[0mversion\u001b[0m\u001b[0;34m,\u001b[0m \u001b[0mstatus\u001b[0m\u001b[0;34m,\u001b[0m \u001b[0mreason\u001b[0m \u001b[0;34m=\u001b[0m \u001b[0mself\u001b[0m\u001b[0;34m.\u001b[0m\u001b[0m_read_status\u001b[0m\u001b[0;34m(\u001b[0m\u001b[0;34m)\u001b[0m\u001b[0;34m\u001b[0m\u001b[0m\n\u001b[0m\u001b[1;32m    439\u001b[0m             \u001b[0;32mif\u001b[0m \u001b[0mstatus\u001b[0m \u001b[0;34m!=\u001b[0m \u001b[0mCONTINUE\u001b[0m\u001b[0;34m:\u001b[0m\u001b[0;34m\u001b[0m\u001b[0m\n\u001b[1;32m    440\u001b[0m                 \u001b[0;32mbreak\u001b[0m\u001b[0;34m\u001b[0m\u001b[0m\n",
      "\u001b[0;32m/usr/local/Cellar/python/2.7.13/Frameworks/Python.framework/Versions/2.7/lib/python2.7/httplib.pyc\u001b[0m in \u001b[0;36m_read_status\u001b[0;34m(self)\u001b[0m\n\u001b[1;32m    392\u001b[0m     \u001b[0;32mdef\u001b[0m \u001b[0m_read_status\u001b[0m\u001b[0;34m(\u001b[0m\u001b[0mself\u001b[0m\u001b[0;34m)\u001b[0m\u001b[0;34m:\u001b[0m\u001b[0;34m\u001b[0m\u001b[0m\n\u001b[1;32m    393\u001b[0m         \u001b[0;31m# Initialize with Simple-Response defaults\u001b[0m\u001b[0;34m\u001b[0m\u001b[0;34m\u001b[0m\u001b[0m\n\u001b[0;32m--> 394\u001b[0;31m         \u001b[0mline\u001b[0m \u001b[0;34m=\u001b[0m \u001b[0mself\u001b[0m\u001b[0;34m.\u001b[0m\u001b[0mfp\u001b[0m\u001b[0;34m.\u001b[0m\u001b[0mreadline\u001b[0m\u001b[0;34m(\u001b[0m\u001b[0m_MAXLINE\u001b[0m \u001b[0;34m+\u001b[0m \u001b[0;36m1\u001b[0m\u001b[0;34m)\u001b[0m\u001b[0;34m\u001b[0m\u001b[0m\n\u001b[0m\u001b[1;32m    395\u001b[0m         \u001b[0;32mif\u001b[0m \u001b[0mlen\u001b[0m\u001b[0;34m(\u001b[0m\u001b[0mline\u001b[0m\u001b[0;34m)\u001b[0m \u001b[0;34m>\u001b[0m \u001b[0m_MAXLINE\u001b[0m\u001b[0;34m:\u001b[0m\u001b[0;34m\u001b[0m\u001b[0m\n\u001b[1;32m    396\u001b[0m             \u001b[0;32mraise\u001b[0m \u001b[0mLineTooLong\u001b[0m\u001b[0;34m(\u001b[0m\u001b[0;34m\"header line\"\u001b[0m\u001b[0;34m)\u001b[0m\u001b[0;34m\u001b[0m\u001b[0m\n",
      "\u001b[0;32m/usr/local/Cellar/python/2.7.13/Frameworks/Python.framework/Versions/2.7/lib/python2.7/socket.pyc\u001b[0m in \u001b[0;36mreadline\u001b[0;34m(self, size)\u001b[0m\n\u001b[1;32m    478\u001b[0m             \u001b[0;32mwhile\u001b[0m \u001b[0mTrue\u001b[0m\u001b[0;34m:\u001b[0m\u001b[0;34m\u001b[0m\u001b[0m\n\u001b[1;32m    479\u001b[0m                 \u001b[0;32mtry\u001b[0m\u001b[0;34m:\u001b[0m\u001b[0;34m\u001b[0m\u001b[0m\n\u001b[0;32m--> 480\u001b[0;31m                     \u001b[0mdata\u001b[0m \u001b[0;34m=\u001b[0m \u001b[0mself\u001b[0m\u001b[0;34m.\u001b[0m\u001b[0m_sock\u001b[0m\u001b[0;34m.\u001b[0m\u001b[0mrecv\u001b[0m\u001b[0;34m(\u001b[0m\u001b[0mself\u001b[0m\u001b[0;34m.\u001b[0m\u001b[0m_rbufsize\u001b[0m\u001b[0;34m)\u001b[0m\u001b[0;34m\u001b[0m\u001b[0m\n\u001b[0m\u001b[1;32m    481\u001b[0m                 \u001b[0;32mexcept\u001b[0m \u001b[0merror\u001b[0m\u001b[0;34m,\u001b[0m \u001b[0me\u001b[0m\u001b[0;34m:\u001b[0m\u001b[0;34m\u001b[0m\u001b[0m\n\u001b[1;32m    482\u001b[0m                     \u001b[0;32mif\u001b[0m \u001b[0me\u001b[0m\u001b[0;34m.\u001b[0m\u001b[0margs\u001b[0m\u001b[0;34m[\u001b[0m\u001b[0;36m0\u001b[0m\u001b[0;34m]\u001b[0m \u001b[0;34m==\u001b[0m \u001b[0mEINTR\u001b[0m\u001b[0;34m:\u001b[0m\u001b[0;34m\u001b[0m\u001b[0m\n",
      "\u001b[0;31mKeyboardInterrupt\u001b[0m: "
     ]
    }
   ],
   "source": [
    "get_mentions_quotes_new(nyt_data, 'nyt_data_counts.tsv')"
   ]
  },
  {
   "cell_type": "code",
   "execution_count": null,
   "metadata": {
    "collapsed": false,
    "scrolled": true
   },
   "outputs": [],
   "source": [
    "for year in range(1987, 2006):\n",
    "    for month in range(1, 13):\n",
    "        print time.ctime(), \"Loading data for {}/{}\".format(year, month)\n",
    "        try:\n",
    "            nyt_data = load_nyt_data(year, month)\n",
    "        except:\n",
    "            print \"Exception Occurred\"\n",
    "            continue\n",
    "        print time.ctime(), \"Analyzing data ...\"\n",
    "        get_mentions_quotes_new(nyt_data, 'nyt_data_counts_0518_{}_{}.tsv'.format(year, month))"
   ]
  },
  {
   "cell_type": "code",
   "execution_count": null,
   "metadata": {
    "collapsed": false
   },
   "outputs": [],
   "source": [
    "MIN_NUM = 31\n",
    "MAX_NUM = MIN_NUM + 10\n",
    "curr_idx = 0\n",
    "for link, values in tc_data.iteritems():\n",
    "    curr_idx += 1\n",
    "    if curr_idx < MIN_NUM:\n",
    "        continue\n",
    "    if curr_idx > MAX_NUM:\n",
    "        break\n",
    "\n",
    "    # if link != 'https://techcrunch.com/2016/01/05/intel-says-button-sized-curie-will-ship-in-q1-costing-under-10/':\n",
    "    #    continue\n",
    "    data = values['data']\n",
    "    corenlp = values['corenlp']\n",
    "    print link\n",
    "    #pprint(corenlp['sentences'][0]['collapsed-ccprocessed-dependencies'])\n",
    "    #print corenlp['sentences'][0]['tokens'][1:3]\n",
    "    corefs = corenlp['corefs']\n",
    "    sentences = corenlp['sentences']\n",
    "    # pprint(corefs)\n",
    "    # pprint(sentences[5])\n",
    "    # print sentences[0].keys()\n",
    "    # pprint(sentences[5]['tokens'])\n",
    "    pm = get_people_mentioned(sentences, corefs, include_gender=True)\n",
    "    quotes = get_quotes(pm, sentences, corefs)\n",
    "    verbs = get_associated_verbs(pm, sentences, corefs)\n",
    "    print pm\n",
    "    print {k: len(v) for k, v in quotes.iteritems()}\n",
    "    print verbs\n",
    "    #for c_id, coref in corefs.iteritems():\n",
    "    #    process_coref_chain(c_id, coref)"
   ]
  },
  {
   "cell_type": "code",
   "execution_count": null,
   "metadata": {
    "collapsed": false
   },
   "outputs": [],
   "source": [
    "from nlp.utils import annotate_corenlp\n",
    "text = u'''\n",
    " President Obama said on Thursday that the United States would retaliate for Russia’s efforts to influence the presidential election, asserting that “we need to take action,” and “we will.”\n",
    "\n",
    "The comments, in an interview with NPR, indicate that Mr. Obama, in his remaining weeks in office, will pursue either economic sanctions against Russia or perhaps some kind of response in cyberspace.\n",
    "\n",
    "Mr. Obama spoke as President-elect Donald J. Trump on Thursday again refused to accept Moscow’s culpability, asking on Twitter why the administration had waited “so long to act” if Russia “or some other entity” had carried out cyberattacks.\n",
    "\n",
    "The president discussed the potential for American retaliation with Steve Inskeep of NPR for an interview to air on Friday morning. “I think there is no doubt that when any foreign government tries to impact the integrity of our election,” Mr. Obama said, “we need to take action. And we will — at the time and place of our choosing.”\n",
    "\n",
    "On Friday morning, the Kremlin’s spokesman, Dmitri S. Peskov, batted away the warning. “It is necessary to either stop talking about it, or finally produce some evidence,” he told the Interfax news agency. “Otherwise, it all begins to look quite unseemly.”\n",
    "\n",
    "The White House strongly suggested before the election that Mr. Obama would make use of sanctions authority for cyberattacks that he had given to himself by executive order. But he did not, in part out of concern that action before the election could lead to an escalated conflict.\n",
    "\n",
    "If Mr. Obama invokes sanctions on Russian individuals or organizations, Mr. Trump could reverse them. But that would be politically difficult, as his critics argue that he is blind to Russian behavior.\n",
    "\n",
    "On Thursday, pressure grew on Mr. Trump in Congress for him to acknowledge intelligence agencies’ conclusions that Russia was behind the hacking. But aides said that was all but impossible before the Electoral College convenes on Monday to formalize his victory.\n",
    "\n",
    "Mr. Trump has said privately in recent days that he believes there are people in the C.I.A. who are out to get him and are working to delegitimize his presidency, according to people briefed on the conversations who described them on the condition of anonymity.\n",
    "\n",
    "The president-elect’s suspicions have been stoked by the efforts of a group of Democratic electors, as well as one Republican, who called this week for an intelligence briefing on the Russian hacking, raising the prospect that votes in the Electoral College might be changed.\n",
    "\n",
    "In his Twitter posting on Thursday, Mr. Trump suggested that the government’s conclusions on Russian hacking were a case of sour grapes by Mr. Obama. The president-elect falsely stated that Mr. Obama had waited until after the election to raise the issue.\n",
    "\n",
    "“Why did they only complain after Hillary lost?” Mr. Trump asked, although the director of national intelligence, James R. Clapper Jr., formally blamed Russia on Oct. 7 for cyberattacks on the Democratic National Committee and other organizations.\n",
    "\n",
    "In September, meeting privately in China with President Vladimir V. Putin of Russia, Mr. Obama not only complained, the White House says, but also warned him of consequences if the Russian activity did not stop.\n",
    "\n",
    "Among those in his own party, Mr. Trump’s refusal to accept the evidence that Russia was the perpetrator was raising growing concerns, with Senator Lindsey Graham of South Carolina saying he would not vote for Rex W. Tillerson, Mr. Trump’s nominee for secretary of state, unless Mr. Tillerson addressed Russia’s role during his confirmation hearings.\n",
    "\n",
    "It remains to be seen whether Mr. Trump’s stated doubts about Russia’s involvement will subside after Monday’s Electoral College vote. He and his allies have been concerned that the reports of Russian hacking have been intended to peel away votes from him, although even Democrats have not gone so far as to say the election was illegitimate.\n",
    "\n",
    "“Right now, certain elements of the media, certain elements of the intelligence community and certain politicians are really doing the work of the Russians — they’re creating this uncertainty over the election,” Representative Peter T. King, Republican of New York, told reporters on Thursday after meeting with Mr. Trump.\n",
    "\n",
    "But many other Republicans, including Senator Mitch McConnell of Kentucky, the majority leader, and Senator John McCain of Arizona, have publicly argued that the evidence leads straight to Russia. They have called for a full investigation, and Senator Dianne Feinstein, Democrat of California, who sits on the Senate Intelligence Committee, urged Mr. Obama on Thursday to complete an administration review quickly.\n",
    "\n",
    "Mr. Trump’s Twitter post was his latest move to accuse the intelligence agencies he will soon control of acting with a political agenda and to dispute the well-documented conclusion that Moscow carried out a meticulously planned series of attacks and releases of information to interfere in the presidential race.\n",
    "\n",
    "But as he repeated his doubts, Mr. Trump seized on emerging questions about the Obama administration’s response: Why did it take months after the breaches had been discovered for the administration to name Moscow publicly as the culprit? And why did Mr. Obama initially opt not to openly retaliate, through sanctions or other measures?\n",
    "\n",
    "White House officials have said that the warning to Mr. Putin at the September summit meeting in China constituted the primary American response so far. When the administration decided to go public with its conclusion a month later, it did so in a statement from the director of national intelligence and the Homeland Security secretary, not in a prominent presidential appearance.\n",
    "\n",
    "Officials said they were worried that any larger public response would have raised doubts about the election’s integrity, something Mr. Trump was already seeking to do during the campaign when he insisted the election was “rigged.”\n",
    "\n",
    "Josh Earnest, the White House press secretary, criticized Mr. Trump on Thursday for questioning whether Russia was behind the attacks, referring to Mr. Trump’s call during the campaign for Moscow to hack Hillary Clinton’s emails, a remark his team has since dismissed as a joke.\n",
    "\n",
    "“I don’t think anybody at the White House thinks it’s funny that an adversary of the United States engaged in malicious cyberactivity to destabilize our democracy — that’s not a joke,” Mr. Earnest said. “It might be time to not attack the intelligence community, but actually be supportive of a thorough, transparent, rigorous, nonpolitical investigation into what exactly happened.”\n",
    "\n",
    "While he declined to confirm news reports that Mr. Putin was personally involved in directing the cyberattacks, Mr. Earnest pointedly read part of the Oct. 7 statement that said intelligence officials believed “that only Russia’s senior-most officials could have authorized these activities.”\n",
    "\n",
    "He said that language “would lead me to conclude that based on my personal reading and not based on any knowledge that I have that may be classified or otherwise, it was pretty obvious that they were referring to the senior-most government official in Russia.”\n",
    "\n",
    "In a conference call with reporters later on Thursday, aides declined to explain Mr. Trump’s position on whether Russia had been responsible for the breaches or to describe what he would do about the issue as president. Jason Miller, a spokesman, said he would let Mr. Trump’s “tweets speak for themselves” and added that those raising questions about the hacking were refusing to come to terms with his victory. “At a certain point you’ve got to realize that the election from last month is going to stand,” Mr. Miller said.\n",
    "'''\n",
    "ann = annotate_corenlp(text, annotators=['pos', 'lemma', 'ner', 'parse', 'depparse', 'dcoref', 'quote'])"
   ]
  },
  {
   "cell_type": "code",
   "execution_count": null,
   "metadata": {
    "collapsed": false
   },
   "outputs": [],
   "source": [
    "sentences, corefs = ann['sentences'], ann['corefs']\n",
    "people_mentioned = get_people_mentioned(sentences, corefs,\n",
    "                                        include_gender=True)\n",
    "quotes = get_quotes(people_mentioned, sentences, corefs)\n",
    "verbs = get_associated_verbs(people_mentioned, sentences, corefs)\n",
    "print people_mentioned\n",
    "print\n",
    "print {k: len(v) for k, v in quotes.iteritems()}\n",
    "print\n",
    "print verbs\n",
    "print\n",
    "print identify_sources(people_mentioned, people_to_quotes=quotes, people_to_verbs=verbs)\n",
    "print\n",
    "pprint(get_associated_adjectives(people_mentioned, sentences, corefs))"
   ]
  },
  {
   "cell_type": "code",
   "execution_count": null,
   "metadata": {
    "collapsed": true
   },
   "outputs": [],
   "source": []
  }
 ],
 "metadata": {
  "kernelspec": {
   "display_name": "Python 2",
   "language": "python",
   "name": "python2"
  },
  "language_info": {
   "codemirror_mode": {
    "name": "ipython",
    "version": 2
   },
   "file_extension": ".py",
   "mimetype": "text/x-python",
   "name": "python",
   "nbconvert_exporter": "python",
   "pygments_lexer": "ipython2",
   "version": "2.7.13"
  }
 },
 "nbformat": 4,
 "nbformat_minor": 1
}
