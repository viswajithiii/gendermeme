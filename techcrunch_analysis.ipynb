{
 "cells": [
  {
   "cell_type": "code",
   "execution_count": 5,
   "metadata": {
    "collapsed": true
   },
   "outputs": [],
   "source": [
    "import json\n",
    "import pycorenlp\n",
    "from nlp.utils import annotate_corenlp"
   ]
  },
  {
   "cell_type": "code",
   "execution_count": 6,
   "metadata": {
    "collapsed": true
   },
   "outputs": [],
   "source": [
    "with open('data/techcrunch_everything.json') as tc_f:\n",
    "    tc_data = json.load(tc_f)"
   ]
  },
  {
   "cell_type": "code",
   "execution_count": null,
   "metadata": {
    "collapsed": false
   },
   "outputs": [],
   "source": [
    "UNICODE_ASCII_MAP = {\n",
    "    0x2018: u'\\'',\n",
    "    0x2019: u'\\'',\n",
    "    0x201c: u'\\\"',\n",
    "    0x201d: u'\\\"'\n",
    "}\n",
    "\n",
    "for url, data in tc_data.iteritems():\n",
    "    print url, '\\n', data\n",
    "    text_str = data['text'].translate(UNICODE_ASCII_MAP).encode('ascii')\n",
    "    ann = annotate_corenlp(text_str, annotators=['ner', 'coref'])\n",
    "    print ann\n",
    "    break"
   ]
  },
  {
   "cell_type": "code",
   "execution_count": 15,
   "metadata": {
    "collapsed": false
   },
   "outputs": [
    {
     "name": "stdout",
     "output_type": "stream",
     "text": [
      "’\n"
     ]
    }
   ],
   "source": []
  },
  {
   "cell_type": "code",
   "execution_count": null,
   "metadata": {
    "collapsed": true
   },
   "outputs": [],
   "source": []
  }
 ],
 "metadata": {
  "kernelspec": {
   "display_name": "Python 2",
   "language": "python",
   "name": "python2"
  },
  "language_info": {
   "codemirror_mode": {
    "name": "ipython",
    "version": 2
   },
   "file_extension": ".py",
   "mimetype": "text/x-python",
   "name": "python",
   "nbconvert_exporter": "python",
   "pygments_lexer": "ipython2",
   "version": "2.7.6"
  }
 },
 "nbformat": 4,
 "nbformat_minor": 1
}
