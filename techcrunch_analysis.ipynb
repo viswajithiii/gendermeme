{
 "cells": [
  {
   "cell_type": "code",
   "execution_count": 1,
   "metadata": {
    "collapsed": false
   },
   "outputs": [],
   "source": [
    "import json\n",
    "from pprint import pprint\n",
    "from analysis.gender import gender, gender_special\n",
    "from analysis.utils import get_people_mentioned, get_gender, get_sources\n",
    "from datetime import datetime\n",
    "import time\n",
    "\n",
    "%load_ext autoreload\n",
    "%autoreload 2"
   ]
  },
  {
   "cell_type": "code",
   "execution_count": 2,
   "metadata": {
    "collapsed": false
   },
   "outputs": [],
   "source": [
    "def load_tc_data(year, month, folder='annotated/'):\n",
    "    tc_data = {}\n",
    "    with open('{}techcrunch_annotated_{}_{}.tsv'.format(folder, year, month), 'r') as tc_f:\n",
    "        for line in tc_f:\n",
    "            link, data, corenlp = line.strip().split('\\t')\n",
    "            tc_data[link] = {'data': json.loads(data), 'corenlp': json.loads(corenlp)}\n",
    "    \n",
    "    return tc_data"
   ]
  },
  {
   "cell_type": "code",
   "execution_count": 3,
   "metadata": {
    "collapsed": false
   },
   "outputs": [],
   "source": [
    "def get_mentions_counts(data):\n",
    "    all_counts = {'MALE': {'MALE': 0, 'FEMALE': 0}, 'FEMALE': {'MALE': 0, 'FEMALE': 0}, 'UNK': {'MALE': 0, 'FEMALE': 0}}\n",
    "    for link, data in data.iteritems():\n",
    "        try:\n",
    "            gend = get_gender(data['author'])\n",
    "            if type(gend) is str:\n",
    "                gend = gend.upper()\n",
    "            else:\n",
    "                gend = 'UNK'\n",
    "            if not gend:\n",
    "                continue\n",
    "            counts = all_counts[gend]\n",
    "            sentences = data['corenlp']['sentences']\n",
    "            corefs = data['corenlp']['corefs']\n",
    "            people_mentioned = process_sentences(sentences)\n",
    "            pm_to_gender = {pm: None for pm in people_mentioned}\n",
    "            for c_id, coref_chain in corefs.iteritems():\n",
    "                rep_elem = next(coref for coref in coref_chain if coref['isRepresentativeMention'])\n",
    "                elem_text = set(rep_elem['text'].split())\n",
    "                for pm in pm_to_gender:\n",
    "                    if len(set.intersection(elem_text, set(pm))) > 0:\n",
    "                        if rep_elem['gender'] in ['MALE', 'FEMALE']:\n",
    "                            pm_to_gender[pm] = rep_elem['gender']\n",
    "            for gender in ['MALE', 'FEMALE']:\n",
    "                counts[gender] += len([sp for sp in pm_to_gender.values() if sp == gender])\n",
    "        except:\n",
    "            continue\n",
    "    return all_counts"
   ]
  },
  {
   "cell_type": "code",
   "execution_count": 4,
   "metadata": {
    "collapsed": true
   },
   "outputs": [],
   "source": [
    "def get_mentions_quotes(tc_data, out_fn):\n",
    "    for link, values in tc_data.iteritems():\n",
    "        data = values['data']\n",
    "        corenlp = values['corenlp']\n",
    "        if not type(corenlp) is dict: # This happens when CoreNLP timed out\n",
    "            continue\n",
    "        corefs = corenlp['corefs']\n",
    "        sentences = corenlp['sentences']\n",
    "        pm = get_people_mentioned(sentences, corefs, include_gender=True)\n",
    "        sources = get_sources(pm, sentences, corefs)\n",
    "        num_mentions = {'MALE': 0, 'FEMALE': 0}\n",
    "        num_distinct_mentions = {'MALE': 0, 'FEMALE': 0}\n",
    "        num_quotes = {'MALE': 0, 'FEMALE': 0}\n",
    "        for person, info in pm.iteritems():\n",
    "            count = info[0]\n",
    "            gender = info[1][0]\n",
    "            if not type(gender) is str:\n",
    "                continue\n",
    "            num_mentions[gender.upper()] += count\n",
    "            num_distinct_mentions[gender.upper()] += 1\n",
    "            quote_length = len(sources[person])\n",
    "            num_quotes[gender.upper()] += quote_length\n",
    "\n",
    "        author_gender = get_gender(data['author'])\n",
    "        if not type(author_gender) is str:\n",
    "            author_gender = 'UNKNOWN'\n",
    "        else:\n",
    "            author_gender = author_gender.upper()\n",
    "        dt = datetime.strptime(data['timestamp'], '%Y-%m-%d %H:%M:%S')\n",
    "        with open(out_fn, 'a') as out_f:\n",
    "            try:\n",
    "                out_f.write('\\t'.join([unicode(a) for a in [\n",
    "                            link, author_gender, dt.year, dt.month, ','.join(data['category']), ','.join(data['tag']), \n",
    "                            num_distinct_mentions['MALE'], num_distinct_mentions['FEMALE'],\n",
    "                            num_mentions['MALE'], num_mentions['FEMALE'],\n",
    "                            num_quotes['MALE'], num_quotes['FEMALE']\n",
    "                            ]]))\n",
    "                out_f.write('\\n')\n",
    "            except UnicodeEncodeError:\n",
    "                pass"
   ]
  },
  {
   "cell_type": "code",
   "execution_count": 6,
   "metadata": {
    "collapsed": false
   },
   "outputs": [],
   "source": [
    "tc_data = load_tc_data(2016, 1)"
   ]
  },
  {
   "cell_type": "code",
   "execution_count": 45,
   "metadata": {
    "collapsed": false
   },
   "outputs": [],
   "source": [
    "get_mentions_quotes(tc_data, 'tc_data_counts.tsv')"
   ]
  },
  {
   "cell_type": "code",
   "execution_count": 5,
   "metadata": {
    "collapsed": false,
    "scrolled": true
   },
   "outputs": [
    {
     "name": "stdout",
     "output_type": "stream",
     "text": [
      "Thu Dec  8 14:32:23 2016 Loading data for 2013/7\n",
      "Thu Dec  8 14:32:50 2016 Analyzing data ...\n",
      "Thu Dec  8 14:33:08 2016 Loading data for 2013/8\n",
      "Thu Dec  8 14:33:42 2016 Analyzing data ...\n",
      "Thu Dec  8 14:34:02 2016 Loading data for 2013/9\n",
      "Thu Dec  8 14:34:35 2016 Analyzing data ...\n",
      "Thu Dec  8 14:34:55 2016 Loading data for 2013/10\n",
      "Thu Dec  8 14:35:27 2016 Analyzing data ...\n",
      "Thu Dec  8 14:35:47 2016 Loading data for 2013/11\n",
      "Thu Dec  8 14:36:16 2016 Analyzing data ...\n",
      "Thu Dec  8 14:36:31 2016 Loading data for 2013/12\n",
      "Thu Dec  8 14:36:55 2016 Analyzing data ...\n",
      "Thu Dec  8 14:37:11 2016 Loading data for 2014/1\n",
      "Thu Dec  8 14:37:41 2016 Analyzing data ...\n",
      "Thu Dec  8 14:37:58 2016 Loading data for 2014/2\n",
      "Thu Dec  8 14:38:28 2016 Analyzing data ...\n",
      "Thu Dec  8 14:38:45 2016 Loading data for 2014/3\n",
      "Thu Dec  8 14:39:18 2016 Analyzing data ...\n",
      "Thu Dec  8 14:39:38 2016 Loading data for 2014/4\n",
      "Thu Dec  8 14:40:08 2016 Analyzing data ...\n",
      "Thu Dec  8 14:40:29 2016 Loading data for 2014/5\n",
      "Thu Dec  8 14:40:58 2016 Analyzing data ...\n",
      "Thu Dec  8 14:41:16 2016 Loading data for 2014/6\n",
      "Thu Dec  8 14:41:44 2016 Analyzing data ...\n",
      "Thu Dec  8 14:42:01 2016 Loading data for 2014/7\n",
      "Thu Dec  8 14:42:34 2016 Analyzing data ...\n",
      "Thu Dec  8 14:42:51 2016 Loading data for 2014/8\n",
      "Thu Dec  8 14:43:18 2016 Analyzing data ...\n",
      "Thu Dec  8 14:43:33 2016 Loading data for 2014/9\n",
      "Thu Dec  8 14:44:02 2016 Analyzing data ...\n",
      "Thu Dec  8 14:44:18 2016 Loading data for 2014/10\n",
      "Thu Dec  8 14:44:50 2016 Analyzing data ...\n",
      "Thu Dec  8 14:45:08 2016 Loading data for 2014/11\n",
      "Thu Dec  8 14:45:40 2016 Analyzing data ...\n",
      "Thu Dec  8 14:45:57 2016 Loading data for 2014/12\n",
      "Thu Dec  8 14:46:22 2016 Analyzing data ...\n",
      "Thu Dec  8 14:46:37 2016 Loading data for 2015/1\n",
      "Thu Dec  8 14:47:08 2016 Analyzing data ...\n",
      "Thu Dec  8 14:47:26 2016 Loading data for 2015/2\n",
      "Thu Dec  8 14:47:56 2016 Analyzing data ...\n",
      "Thu Dec  8 14:48:14 2016 Loading data for 2015/3\n",
      "Thu Dec  8 14:48:49 2016 Analyzing data ...\n",
      "Thu Dec  8 14:49:14 2016 Loading data for 2015/4\n",
      "Thu Dec  8 14:49:46 2016 Analyzing data ...\n",
      "Thu Dec  8 14:50:07 2016 Loading data for 2015/5\n",
      "Thu Dec  8 14:50:34 2016 Analyzing data ...\n",
      "Thu Dec  8 14:50:50 2016 Loading data for 2015/6\n",
      "Thu Dec  8 14:51:19 2016 Analyzing data ...\n",
      "Thu Dec  8 14:51:38 2016 Loading data for 2015/7\n",
      "Thu Dec  8 14:52:08 2016 Analyzing data ...\n",
      "Thu Dec  8 14:52:30 2016 Loading data for 2015/8\n",
      "Thu Dec  8 14:53:00 2016 Analyzing data ...\n",
      "Thu Dec  8 14:53:16 2016 Loading data for 2015/9\n",
      "Thu Dec  8 14:53:46 2016 Analyzing data ...\n",
      "Thu Dec  8 14:54:03 2016 Loading data for 2015/10\n",
      "Thu Dec  8 14:54:34 2016 Analyzing data ...\n",
      "Thu Dec  8 14:54:51 2016 Loading data for 2015/11\n",
      "Thu Dec  8 14:55:23 2016 Analyzing data ...\n",
      "Thu Dec  8 14:55:38 2016 Loading data for 2015/12\n",
      "Thu Dec  8 14:56:04 2016 Analyzing data ...\n",
      "Thu Dec  8 14:56:17 2016 Loading data for 2016/1\n",
      "Thu Dec  8 14:56:47 2016 Analyzing data ...\n",
      "Thu Dec  8 14:57:03 2016 Loading data for 2016/2\n",
      "Thu Dec  8 14:57:34 2016 Analyzing data ...\n",
      "Thu Dec  8 14:57:50 2016 Loading data for 2016/3\n",
      "Thu Dec  8 14:58:22 2016 Analyzing data ...\n",
      "Thu Dec  8 14:58:39 2016 Loading data for 2016/4\n",
      "Thu Dec  8 14:59:08 2016 Analyzing data ...\n",
      "Thu Dec  8 14:59:24 2016 Loading data for 2016/5\n",
      "Thu Dec  8 14:59:55 2016 Analyzing data ...\n",
      "Thu Dec  8 15:00:13 2016 Loading data for 2016/6\n",
      "Thu Dec  8 15:00:49 2016 Analyzing data ...\n",
      "Thu Dec  8 15:01:08 2016 Loading data for 2016/7\n",
      "Thu Dec  8 15:01:32 2016 Analyzing data ...\n"
     ]
    }
   ],
   "source": [
    "for year in range(2013, 2017):\n",
    "    for month in range(1, 13):\n",
    "        if year == 2013 and month < 7:\n",
    "            continue\n",
    "        if year == 2016 and month > 7:\n",
    "            break\n",
    "        print time.ctime(), \"Loading data for {}/{}\".format(year, month)\n",
    "        tc_data = load_tc_data(year, month)\n",
    "        print time.ctime(), \"Analyzing data ...\"\n",
    "        get_mentions_quotes(tc_data, 'tc_data_counts.tsv')"
   ]
  },
  {
   "cell_type": "code",
   "execution_count": 11,
   "metadata": {
    "collapsed": false
   },
   "outputs": [
    {
     "name": "stdout",
     "output_type": "stream",
     "text": [
      "[u'index', u'basic-dependencies', u'tokens', u'parse', u'collapsed-dependencies', u'collapsed-ccprocessed-dependencies']\n",
      "https://techcrunch.com/2016/01/14/nasa-receives-patent-for-a-new-type-of-squishy-amorphous-robot/\n",
      "{u'Imagecourtesy': (5, (None, None)), u'Arthur Bradley': (1, (u'MALE', 'COREF'))}\n",
      "{u'Imagecourtesy': 0, u'Arthur Bradley': 1}\n",
      "[u'index', u'basic-dependencies', u'tokens', u'parse', u'collapsed-dependencies', u'collapsed-ccprocessed-dependencies']\n",
      "https://techcrunch.com/2016/01/20/apple-releases-music-memos-a-recorder-app-for-musicians/\n",
      "{}\n",
      "{}\n",
      "[u'index', u'basic-dependencies', u'tokens', u'parse', u'collapsed-dependencies', u'collapsed-ccprocessed-dependencies']\n",
      "https://techcrunch.com/2016/01/16/notify-nearby-launch/\n",
      "{u'Nevin Jethmalani': (3, (u'MALE', 'COREF')), u'Levi': (1, ('male', 'NAME_ONLY'))}\n",
      "{u'Nevin Jethmalani': 84, u'Levi': 0}\n",
      "[u'index', u'basic-dependencies', u'tokens', u'parse', u'collapsed-dependencies', u'collapsed-ccprocessed-dependencies']\n",
      "https://techcrunch.com/2016/01/27/watch-microsoft-ventures-london-accelerator-right-here-2/\n",
      "{}\n",
      "{}\n",
      "[u'index', u'basic-dependencies', u'tokens', u'parse', u'collapsed-dependencies', u'collapsed-ccprocessed-dependencies']\n",
      "https://techcrunch.com/2016/01/18/why-big-companies-keep-failing-the-stack-fallacy/\n",
      "{u'Anshu Sharma': (1, ('male', 'NAME_ONLY')), u'Larry Ellison': (1, (u'MALE', 'COREF'))}\n",
      "{u'Anshu Sharma': 0, u'Larry Ellison': 0}\n",
      "[u'index', u'basic-dependencies', u'tokens', u'parse', u'collapsed-dependencies', u'collapsed-ccprocessed-dependencies']\n",
      "https://techcrunch.com/2016/01/26/ipo-slowdown-a-look-at-company-profitability/\n",
      "{u'Ben Narasin': (1, ('male', 'NAME_ONLY')), u'Jeremy': (1, ('male', 'NAME_ONLY'))}\n",
      "{u'Ben Narasin': 0, u'Jeremy': 0}\n",
      "[u'index', u'basic-dependencies', u'tokens', u'parse', u'collapsed-dependencies', u'collapsed-ccprocessed-dependencies']\n",
      "https://techcrunch.com/2016/01/05/heres-why-samsungs-new-frankenstein-fridge-is-actually-dumb/\n",
      "{}\n",
      "{}\n",
      "[u'index', u'basic-dependencies', u'tokens', u'parse', u'collapsed-dependencies', u'collapsed-ccprocessed-dependencies']\n",
      "https://techcrunch.com/2016/01/22/gravit-lets-you-illustrate-in-your-abode-or-on-the-road/\n",
      "{u'Alexander Adam': (3, (u'MALE', 'COREF')), u'Gravit': (2, (None, None))}\n",
      "{u'Alexander Adam': 132, u'Gravit': 0}\n",
      "[u'index', u'basic-dependencies', u'tokens', u'parse', u'collapsed-dependencies', u'collapsed-ccprocessed-dependencies']\n",
      "https://techcrunch.com/2016/01/27/apple-has-fixed-bug-that-was-crashing-safari-at-least-on-os-x/\n",
      "{u'Sean Sullivan': (1, ('male', 'NAME_ONLY'))}\n",
      "{u'Sean Sullivan': 0}\n",
      "[u'index', u'basic-dependencies', u'tokens', u'parse', u'collapsed-dependencies', u'collapsed-ccprocessed-dependencies']\n",
      "https://techcrunch.com/2016/01/14/indian-home-healthcare-startup-care24-gets-4m-series-a-from-saif-partners/\n",
      "{u'Pranshu Sharma': (6, (None, None)), u'Garima Tripathi': (1, (None, None)), u'Vipin Pathak': (1, (u'MALE', 'COREF')), u'Abhishek Tiwari': (1, (None, None))}\n",
      "{u'Pranshu Sharma': 0, u'Garima Tripathi': 0, u'Vipin Pathak': 65, u'Abhishek Tiwari': 0}\n",
      "[u'index', u'basic-dependencies', u'tokens', u'parse', u'collapsed-dependencies', u'collapsed-ccprocessed-dependencies']\n",
      "https://techcrunch.com/2016/01/06/is-10-too-old-to-be-in-tech/\n",
      "{}\n",
      "{}\n"
     ]
    }
   ],
   "source": [
    "MIN_NUM = 11\n",
    "MAX_NUM = MIN_NUM + 10\n",
    "curr_idx = 0\n",
    "for link, values in tc_data.iteritems():\n",
    "    curr_idx += 1\n",
    "    if curr_idx < MIN_NUM:\n",
    "        continue\n",
    "    if curr_idx > MAX_NUM:\n",
    "        break\n",
    "\n",
    "    # if link != 'https://techcrunch.com/2016/01/05/intel-says-button-sized-curie-will-ship-in-q1-costing-under-10/':\n",
    "    #    continue\n",
    "    data = values['data']\n",
    "    corenlp = values['corenlp']\n",
    "    print corenlp['sentences'][0].keys()\n",
    "    print link\n",
    "    corefs = corenlp['corefs']\n",
    "    sentences = corenlp['sentences']\n",
    "    # pprint(corefs)\n",
    "    # pprint(sentences[5])\n",
    "    # print sentences[0].keys()\n",
    "    # pprint(sentences[5]['tokens'])\n",
    "    pm = get_people_mentioned(sentences, corefs, include_gender=True)\n",
    "    sources = get_sources(pm, sentences, corefs)\n",
    "    print pm\n",
    "    print {k: len(v) for k, v in sources.iteritems()}\n",
    "    #for c_id, coref in corefs.iteritems():\n",
    "    #    process_coref_chain(c_id, coref)"
   ]
  },
  {
   "cell_type": "code",
   "execution_count": null,
   "metadata": {
    "collapsed": true
   },
   "outputs": [],
   "source": []
  }
 ],
 "metadata": {
  "kernelspec": {
   "display_name": "Python 2",
   "language": "python",
   "name": "python2"
  },
  "language_info": {
   "codemirror_mode": {
    "name": "ipython",
    "version": 2
   },
   "file_extension": ".py",
   "mimetype": "text/x-python",
   "name": "python",
   "nbconvert_exporter": "python",
   "pygments_lexer": "ipython2",
   "version": "2.7.6"
  }
 },
 "nbformat": 4,
 "nbformat_minor": 1
}
