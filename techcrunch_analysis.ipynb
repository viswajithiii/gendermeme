{
 "cells": [
  {
   "cell_type": "code",
   "execution_count": 35,
   "metadata": {
    "collapsed": false
   },
   "outputs": [
    {
     "name": "stdout",
     "output_type": "stream",
     "text": [
      "The autoreload extension is already loaded. To reload it, use:\n",
      "  %reload_ext autoreload\n"
     ]
    }
   ],
   "source": [
    "import json\n",
    "from pprint import pprint\n",
    "from analysis.gender import gender, gender_special\n",
    "from analysis.utils import get_people_mentioned, get_gender\n",
    "\n",
    "%load_ext autoreload\n",
    "%autoreload 2"
   ]
  },
  {
   "cell_type": "code",
   "execution_count": 4,
   "metadata": {
    "collapsed": false
   },
   "outputs": [],
   "source": [
    "def process_coref_chain(coref_id, coref_chain):\n",
    "    # Get the unique representative element\n",
    "    rep_elem = next(coref for coref in coref_chain if coref['isRepresentativeMention'])\n",
    "    to_print = [(elem['text'], elem['type'], elem['number'], elem['gender'], elem['sentNum']) for elem in coref_chain\n",
    "                if elem['animacy'] == 'ANIMATE']\n",
    "    if len(to_print):\n",
    "        print len(coref_chain), to_print"
   ]
  },
  {
   "cell_type": "code",
   "execution_count": 15,
   "metadata": {
    "collapsed": false
   },
   "outputs": [],
   "source": [
    "def load_tc_data(year, month, folder='annotated/'):\n",
    "    tc_data = {}\n",
    "    with open('{}techcrunch_annotated_{}_{}.tsv'.format(folder, year, month), 'r') as tc_f:\n",
    "        for line in tc_f:\n",
    "            link, data, corenlp = line.strip().split('\\t')\n",
    "            tc_data[link] = {'data': json.loads(data), 'corenlp': json.loads(corenlp)}\n",
    "    \n",
    "    return tc_data"
   ]
  },
  {
   "cell_type": "code",
   "execution_count": 8,
   "metadata": {
    "collapsed": false
   },
   "outputs": [],
   "source": [
    "def get_mentions_counts(data):\n",
    "    all_counts = {'MALE': {'MALE': 0, 'FEMALE': 0}, 'FEMALE': {'MALE': 0, 'FEMALE': 0}, 'UNK': {'MALE': 0, 'FEMALE': 0}}\n",
    "    for link, data in data.iteritems():\n",
    "        try:\n",
    "            gend = get_gender(data['author'])\n",
    "            if type(gend) is str:\n",
    "                gend = gend.upper()\n",
    "            else:\n",
    "                gend = 'UNK'\n",
    "            if not gend:\n",
    "                continue\n",
    "            counts = all_counts[gend]\n",
    "            sentences = data['corenlp']['sentences']\n",
    "            corefs = data['corenlp']['corefs']\n",
    "            people_mentioned = process_sentences(sentences)\n",
    "            pm_to_gender = {pm: None for pm in people_mentioned}\n",
    "            for c_id, coref_chain in corefs.iteritems():\n",
    "                rep_elem = next(coref for coref in coref_chain if coref['isRepresentativeMention'])\n",
    "                elem_text = set(rep_elem['text'].split())\n",
    "                for pm in pm_to_gender:\n",
    "                    if len(set.intersection(elem_text, set(pm))) > 0:\n",
    "                        if rep_elem['gender'] in ['MALE', 'FEMALE']:\n",
    "                            pm_to_gender[pm] = rep_elem['gender']\n",
    "            for gender in ['MALE', 'FEMALE']:\n",
    "                counts[gender] += len([sp for sp in pm_to_gender.values() if sp == gender])\n",
    "        except:\n",
    "            continue\n",
    "    return all_counts"
   ]
  },
  {
   "cell_type": "code",
   "execution_count": 8,
   "metadata": {
    "collapsed": false
   },
   "outputs": [
    {
     "name": "stdout",
     "output_type": "stream",
     "text": [
      "2009 {'UNK': {'MALE': 4006, 'FEMALE': 440}, 'MALE': {'MALE': 9721, 'FEMALE': 1066}, 'FEMALE': {'MALE': 2520, 'FEMALE': 301}}\n",
      "2010 {'UNK': {'MALE': 5241, 'FEMALE': 567}, 'MALE': {'MALE': 10354, 'FEMALE': 1047}, 'FEMALE': {'MALE': 4902, 'FEMALE': 537}}\n",
      "2011 {'UNK': {'MALE': 5147, 'FEMALE': 544}, 'MALE': {'MALE': 9420, 'FEMALE': 970}, 'FEMALE': {'MALE': 8884, 'FEMALE': 1025}}\n",
      "2012 {'UNK': {'MALE': 4406, 'FEMALE': 441}, 'MALE': {'MALE': 10956, 'FEMALE': 1223}, 'FEMALE': {'MALE': 7407, 'FEMALE': 925}}\n",
      "2013 {'UNK': {'MALE': 3397, 'FEMALE': 346}, 'MALE': {'MALE': 14846, 'FEMALE': 1615}, 'FEMALE': {'MALE': 9682, 'FEMALE': 1232}}\n",
      "2014 {'UNK': {'MALE': 954, 'FEMALE': 121}, 'MALE': {'MALE': 14318, 'FEMALE': 1582}, 'FEMALE': {'MALE': 7363, 'FEMALE': 1210}}\n",
      "2015 {'UNK': {'MALE': 614, 'FEMALE': 72}, 'MALE': {'MALE': 13075, 'FEMALE': 1553}, 'FEMALE': {'MALE': 7555, 'FEMALE': 1399}}\n",
      "2016 {'UNK': {'MALE': 274, 'FEMALE': 44}, 'MALE': {'MALE': 7386, 'FEMALE': 881}, 'FEMALE': {'MALE': 4755, 'FEMALE': 950}}\n"
     ]
    }
   ],
   "source": [
    "for year in range(2009, 2017):\n",
    "    with open('data/annotated_old/techcrunch_annotated_{}.json'.format(year), 'r') as tc_f:\n",
    "        data = json.load(tc_f)\n",
    "        print year, get_mentions_counts(data)"
   ]
  },
  {
   "cell_type": "code",
   "execution_count": 9,
   "metadata": {
    "collapsed": false
   },
   "outputs": [
    {
     "ename": "NameError",
     "evalue": "name 'tc_2016_data' is not defined",
     "output_type": "error",
     "traceback": [
      "\u001b[1;31m---------------------------------------------------------------------------\u001b[0m",
      "\u001b[1;31mNameError\u001b[0m                                 Traceback (most recent call last)",
      "\u001b[1;32m<ipython-input-9-3ab124a3690a>\u001b[0m in \u001b[0;36m<module>\u001b[1;34m()\u001b[0m\n\u001b[0;32m      2\u001b[0m \u001b[0mMAX_NUM\u001b[0m \u001b[1;33m=\u001b[0m \u001b[0mMIN_NUM\u001b[0m \u001b[1;33m+\u001b[0m \u001b[1;36m1\u001b[0m\u001b[1;33m\u001b[0m\u001b[0m\n\u001b[0;32m      3\u001b[0m \u001b[0mcurr_idx\u001b[0m \u001b[1;33m=\u001b[0m \u001b[1;36m0\u001b[0m\u001b[1;33m\u001b[0m\u001b[0m\n\u001b[1;32m----> 4\u001b[1;33m \u001b[1;32mfor\u001b[0m \u001b[0mlink\u001b[0m\u001b[1;33m,\u001b[0m \u001b[0mdata\u001b[0m \u001b[1;32min\u001b[0m \u001b[0mtc_2016_data\u001b[0m\u001b[1;33m.\u001b[0m\u001b[0miteritems\u001b[0m\u001b[1;33m(\u001b[0m\u001b[1;33m)\u001b[0m\u001b[1;33m:\u001b[0m\u001b[1;33m\u001b[0m\u001b[0m\n\u001b[0m\u001b[0;32m      5\u001b[0m     \u001b[1;32mprint\u001b[0m \u001b[0mdata\u001b[0m\u001b[1;33m[\u001b[0m\u001b[1;34m'author'\u001b[0m\u001b[1;33m]\u001b[0m\u001b[1;33m,\u001b[0m \u001b[0mget_gender\u001b[0m\u001b[1;33m(\u001b[0m\u001b[0mdata\u001b[0m\u001b[1;33m[\u001b[0m\u001b[1;34m'author'\u001b[0m\u001b[1;33m]\u001b[0m\u001b[1;33m)\u001b[0m\u001b[1;33m\u001b[0m\u001b[0m\n\u001b[0;32m      6\u001b[0m     \u001b[1;32mcontinue\u001b[0m\u001b[1;33m\u001b[0m\u001b[0m\n",
      "\u001b[1;31mNameError\u001b[0m: name 'tc_2016_data' is not defined"
     ]
    }
   ],
   "source": [
    "MIN_NUM = 623 + 6\n",
    "MAX_NUM = MIN_NUM + 1\n",
    "curr_idx = 0\n",
    "for link, data in tc_2016_data.iteritems():\n",
    "    print data['author'], get_gender(data['author'])\n",
    "    continue\n",
    "    curr_idx += 1\n",
    "    if curr_idx < MIN_NUM:\n",
    "        continue\n",
    "    if curr_idx >= MAX_NUM:\n",
    "        break    \n",
    "    print link\n",
    "    corefs = data['corenlp']['corefs']\n",
    "    sentences = data['corenlp']['sentences']\n",
    "    # print sentences[0].keys()\n",
    "    # pprint(sentences[5]['tokens'])\n",
    "    print process_sentences(sentences)\n",
    "    for c_id, coref in corefs.iteritems():\n",
    "        process_coref_chain(c_id, coref)"
   ]
  },
  {
   "cell_type": "code",
   "execution_count": 17,
   "metadata": {
    "collapsed": true
   },
   "outputs": [],
   "source": [
    "tc_data = load_tc_data(2016, 1)"
   ]
  },
  {
   "cell_type": "code",
   "execution_count": 71,
   "metadata": {
    "collapsed": false
   },
   "outputs": [
    {
     "name": "stdout",
     "output_type": "stream",
     "text": [
      "https://techcrunch.com/2016/01/31/the-league-vs-stanford/\n",
      "{u'Amanda Bradford': (5, (u'FEMALE', 'COREF'))}\n",
      "https://techcrunch.com/2016/01/20/with-brave-software-javascripts-inventor-is-building-a-browser-for-the-ad-blocked-future/\n",
      "{u'Brendan Eich': (8, (u'MALE', 'COREF'))}\n",
      "https://techcrunch.com/2016/01/06/stereolabss-depth-sensing-camera-helps-robots-drones-and-cars-see/\n",
      "{u'Cecile Schmollgruber': (1, (u'FEMALE', 'COREF')), u'Stereolabs': (1, (None, None)), u'Stereolabsthen': (3, (None, None))}\n",
      "https://techcrunch.com/2016/01/07/no-more-ballparks-oculus-palmer-luckey-admits-screwing-up-rift-price-point-messaging/\n",
      "{u'Tom Kerriganwrote': (8, ('male', 'NAME_ONLY')), u'Nate Mitchell': (1, (None, None)), u'Palmer Luckey': (1, (u'MALE', 'COREF'))}\n",
      "https://techcrunch.com/2016/01/09/how-startups-are-solving-a-decades-old-problem-in-education/\n",
      "{u'Roshan Choxi': (1, ('male', 'NAME_ONLY')), u'Socrates': (1, (None, None)), u'Udemy': (1, (None, None)), u'Udacity': (1, (None, None)), u'Thinkful': (1, (None, None)), u'Benjamin Bloom': (2, (u'MALE', 'COREF'))}\n",
      "https://techcrunch.com/2016/01/12/get-your-crunchies-tickets-now-and-join-us-in-remembering-the-crunchies-of-yore/\n",
      "{u'Gowalla': (1, (None, None)), u'Zuck': (1, (None, None))}\n",
      "https://techcrunch.com/2016/01/06/assist-bot/\n",
      "{u'Dennis Phelps': (1, ('male', 'NAME_ONLY')), u'Dave Morin': (1, ('male', 'NAME_ONLY')), u'Jonathan Teo': (1, ('male', 'NAME_ONLY')), u'Kayvon Beykpour': (1, (None, None)), u'Robert Stephens': (1, ('male', 'NAME_ONLY')), u'Owen Van Natt': (1, ('male', 'NAME_ONLY')), u'Shane Mac': (1, ('male', 'NAME_ONLY')), u'Justin Caldbeck': (1, ('male', 'NAME_ONLY'))}\n",
      "https://techcrunch.com/2016/01/08/report-nfl-will-live-stream-all-london-games-bidders-include-apple-google/\n",
      "{u'Roku': (1, (None, None))}\n",
      "https://techcrunch.com/2016/01/09/endless-launch/\n",
      "{u'ProductMatt Dalio': (1, (u'MALE', 'COREF')), u'MarceloSampaio': (4, (None, None)), u'Tony Robbins': (2, ('male', 'NAME_ONLY')), u'Sampaio': (2, (None, None)), u'Nicholas Negroponte': (1, ('male', 'NAME_ONLY'))}\n",
      "https://techcrunch.com/2016/01/05/tinder-push-notification-we-promise-youll-get-a-match/\n",
      "{u'Sean Rad': (4, ('male', 'NAME_ONLY'))}\n",
      "https://techcrunch.com/2016/01/19/netflix-added-5-6-million-new-subscribers-in-the-fourth-quarter/\n",
      "{}\n",
      "https://techcrunch.com/2016/01/27/shelf-helps-you-find-the-best-products-people-actually-use/\n",
      "{u'Auren Hoffman': (1, (None, None)), u'Maria Thomas': (1, ('female', 'NAME_ONLY')), u'Craigslist': (1, (None, None)), u'Alex Schultz': (1, (('male', 'female'), 'NAME_ONLY')), u'Jason Putorti': (1, ('male', 'NAME_ONLY')), u'Nirav Tolia': (1, (None, None)), u'Dayo Esho': (4, (None, None)), u'Donna Wells': (1, ('female', 'NAME_ONLY')), u'Shelfwill': (1, (None, None)), u'Chris Kline': (2, ('male', 'NAME_ONLY')), u'Jeff Epstein': (1, ('male', 'NAME_ONLY')), u'Scott Banister': (1, ('male', 'NAME_ONLY')), u'Wayfair': (1, (None, None)), u'Dave McClure': (1, ('male', 'NAME_ONLY')), u'Diakite': (1, (None, None)), u'Brian Roberts': (1, ('male', 'NAME_ONLY')), u'Erik Moore': (1, ('male', 'NAME_ONLY'))}\n",
      "https://techcrunch.com/2016/01/27/5-million-google-cardboard-vr-viewers-have-shipped/\n",
      "{u'Clay Bavor': (1, ('male', 'NAME_ONLY'))}\n",
      "https://techcrunch.com/2016/01/19/dating-app-happn-reaches-10-million-users-adds-voice/\n",
      "{u'Happn': (2, (None, None)), u'Didier Rappaport': (1, (None, None))}\n",
      "https://techcrunch.com/2016/01/22/fivestars-gets-50m-to-help-small-retailers-run-loyalty-programs-like-their-bigger-rivals/\n",
      "{u'Matt Doka': (3, ('male', 'NAME_ONLY')), u'Chris Luo': (4, ('male', 'NAME_ONLY')), u'Victor Ho': (2, (u'MALE', 'COREF')), u'Andreessen Horowitz': (1, (None, None))}\n",
      "https://techcrunch.com/2016/01/30/one-sidecar-up-with-a-twist/\n",
      "{u'Robbie Goffin': (1, ('female', 'NAME_ONLY')), u'Cointreau': (1, (None, None)), u'Sidecar': (1, (None, None))}\n"
     ]
    }
   ],
   "source": [
    "MIN_NUM = 31\n",
    "MAX_NUM = MIN_NUM + 15\n",
    "curr_idx = 0\n",
    "for link, values in tc_data.iteritems():\n",
    "    curr_idx += 1\n",
    "    if curr_idx < MIN_NUM:\n",
    "        continue\n",
    "    if curr_idx > MAX_NUM:\n",
    "        break\n",
    "\n",
    "    data = values['data']\n",
    "    corenlp = values['corenlp']\n",
    "    print link\n",
    "    corefs = corenlp['corefs']\n",
    "    # pprint(corefs)\n",
    "    sentences = corenlp['sentences']\n",
    "    # pprint(corefs)\n",
    "    # pprint(sentences[4])\n",
    "    # print sentences[0].keys()\n",
    "    # pprint(sentences[5]['tokens'])\n",
    "    print get_people_mentioned(sentences, corefs, include_gender=True)\n",
    "    #for c_id, coref in corefs.iteritems():\n",
    "    #    process_coref_chain(c_id, coref)"
   ]
  },
  {
   "cell_type": "code",
   "execution_count": null,
   "metadata": {
    "collapsed": true
   },
   "outputs": [],
   "source": []
  }
 ],
 "metadata": {
  "kernelspec": {
   "display_name": "Python 2",
   "language": "python",
   "name": "python2"
  },
  "language_info": {
   "codemirror_mode": {
    "name": "ipython",
    "version": 2
   },
   "file_extension": ".py",
   "mimetype": "text/x-python",
   "name": "python",
   "nbconvert_exporter": "python",
   "pygments_lexer": "ipython2",
   "version": "2.7.8"
  }
 },
 "nbformat": 4,
 "nbformat_minor": 1
}
