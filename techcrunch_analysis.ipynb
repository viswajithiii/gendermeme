{
 "cells": [
  {
   "cell_type": "code",
   "execution_count": 10,
   "metadata": {
    "collapsed": false
   },
   "outputs": [
    {
     "name": "stdout",
     "output_type": "stream",
     "text": [
      "The autoreload extension is already loaded. To reload it, use:\n",
      "  %reload_ext autoreload\n"
     ]
    }
   ],
   "source": [
    "import json\n",
    "from pprint import pprint\n",
    "from analysis.gender import gender, gender_special\n",
    "from analysis.utils import get_people_mentioned, get_gender, get_sources\n",
    "\n",
    "%load_ext autoreload\n",
    "%autoreload 2"
   ]
  },
  {
   "cell_type": "code",
   "execution_count": 3,
   "metadata": {
    "collapsed": false
   },
   "outputs": [],
   "source": [
    "def process_coref_chain(coref_id, coref_chain):\n",
    "    # Get the unique representative element\n",
    "    rep_elem = next(coref for coref in coref_chain if coref['isRepresentativeMention'])\n",
    "    to_print = [(elem['text'], elem['type'], elem['number'], elem['gender'], elem['sentNum']) for elem in coref_chain\n",
    "                if elem['animacy'] == 'ANIMATE']\n",
    "    if len(to_print):\n",
    "        print len(coref_chain), to_print"
   ]
  },
  {
   "cell_type": "code",
   "execution_count": 4,
   "metadata": {
    "collapsed": false
   },
   "outputs": [],
   "source": [
    "def load_tc_data(year, month, folder='annotated/'):\n",
    "    tc_data = {}\n",
    "    with open('{}techcrunch_annotated_{}_{}.tsv'.format(folder, year, month), 'r') as tc_f:\n",
    "        for line in tc_f:\n",
    "            link, data, corenlp = line.strip().split('\\t')\n",
    "            tc_data[link] = {'data': json.loads(data), 'corenlp': json.loads(corenlp)}\n",
    "    \n",
    "    return tc_data"
   ]
  },
  {
   "cell_type": "code",
   "execution_count": 5,
   "metadata": {
    "collapsed": false
   },
   "outputs": [],
   "source": [
    "def get_mentions_counts(data):\n",
    "    all_counts = {'MALE': {'MALE': 0, 'FEMALE': 0}, 'FEMALE': {'MALE': 0, 'FEMALE': 0}, 'UNK': {'MALE': 0, 'FEMALE': 0}}\n",
    "    for link, data in data.iteritems():\n",
    "        try:\n",
    "            gend = get_gender(data['author'])\n",
    "            if type(gend) is str:\n",
    "                gend = gend.upper()\n",
    "            else:\n",
    "                gend = 'UNK'\n",
    "            if not gend:\n",
    "                continue\n",
    "            counts = all_counts[gend]\n",
    "            sentences = data['corenlp']['sentences']\n",
    "            corefs = data['corenlp']['corefs']\n",
    "            people_mentioned = process_sentences(sentences)\n",
    "            pm_to_gender = {pm: None for pm in people_mentioned}\n",
    "            for c_id, coref_chain in corefs.iteritems():\n",
    "                rep_elem = next(coref for coref in coref_chain if coref['isRepresentativeMention'])\n",
    "                elem_text = set(rep_elem['text'].split())\n",
    "                for pm in pm_to_gender:\n",
    "                    if len(set.intersection(elem_text, set(pm))) > 0:\n",
    "                        if rep_elem['gender'] in ['MALE', 'FEMALE']:\n",
    "                            pm_to_gender[pm] = rep_elem['gender']\n",
    "            for gender in ['MALE', 'FEMALE']:\n",
    "                counts[gender] += len([sp for sp in pm_to_gender.values() if sp == gender])\n",
    "        except:\n",
    "            continue\n",
    "    return all_counts"
   ]
  },
  {
   "cell_type": "code",
   "execution_count": 8,
   "metadata": {
    "collapsed": false
   },
   "outputs": [
    {
     "name": "stdout",
     "output_type": "stream",
     "text": [
      "2009 {'UNK': {'MALE': 4006, 'FEMALE': 440}, 'MALE': {'MALE': 9721, 'FEMALE': 1066}, 'FEMALE': {'MALE': 2520, 'FEMALE': 301}}\n",
      "2010 {'UNK': {'MALE': 5241, 'FEMALE': 567}, 'MALE': {'MALE': 10354, 'FEMALE': 1047}, 'FEMALE': {'MALE': 4902, 'FEMALE': 537}}\n",
      "2011 {'UNK': {'MALE': 5147, 'FEMALE': 544}, 'MALE': {'MALE': 9420, 'FEMALE': 970}, 'FEMALE': {'MALE': 8884, 'FEMALE': 1025}}\n",
      "2012 {'UNK': {'MALE': 4406, 'FEMALE': 441}, 'MALE': {'MALE': 10956, 'FEMALE': 1223}, 'FEMALE': {'MALE': 7407, 'FEMALE': 925}}\n",
      "2013 {'UNK': {'MALE': 3397, 'FEMALE': 346}, 'MALE': {'MALE': 14846, 'FEMALE': 1615}, 'FEMALE': {'MALE': 9682, 'FEMALE': 1232}}\n",
      "2014 {'UNK': {'MALE': 954, 'FEMALE': 121}, 'MALE': {'MALE': 14318, 'FEMALE': 1582}, 'FEMALE': {'MALE': 7363, 'FEMALE': 1210}}\n",
      "2015 {'UNK': {'MALE': 614, 'FEMALE': 72}, 'MALE': {'MALE': 13075, 'FEMALE': 1553}, 'FEMALE': {'MALE': 7555, 'FEMALE': 1399}}\n",
      "2016 {'UNK': {'MALE': 274, 'FEMALE': 44}, 'MALE': {'MALE': 7386, 'FEMALE': 881}, 'FEMALE': {'MALE': 4755, 'FEMALE': 950}}\n"
     ]
    }
   ],
   "source": [
    "for year in range(2009, 2017):\n",
    "    with open('data/annotated_old/techcrunch_annotated_{}.json'.format(year), 'r') as tc_f:\n",
    "        data = json.load(tc_f)\n",
    "        print year, get_mentions_counts(data)"
   ]
  },
  {
   "cell_type": "code",
   "execution_count": 13,
   "metadata": {
    "collapsed": false
   },
   "outputs": [
    {
     "ename": "NameError",
     "evalue": "name 'tc_2016_data' is not defined",
     "output_type": "error",
     "traceback": [
      "\u001b[1;31m---------------------------------------------------------------------------\u001b[0m",
      "\u001b[1;31mNameError\u001b[0m                                 Traceback (most recent call last)",
      "\u001b[1;32m<ipython-input-13-7282ca8cc1a3>\u001b[0m in \u001b[0;36m<module>\u001b[1;34m()\u001b[0m\n\u001b[0;32m      2\u001b[0m \u001b[0mMAX_NUM\u001b[0m \u001b[1;33m=\u001b[0m \u001b[0mMIN_NUM\u001b[0m \u001b[1;33m+\u001b[0m \u001b[1;36m1\u001b[0m\u001b[1;33m\u001b[0m\u001b[0m\n\u001b[0;32m      3\u001b[0m \u001b[0mcurr_idx\u001b[0m \u001b[1;33m=\u001b[0m \u001b[1;36m0\u001b[0m\u001b[1;33m\u001b[0m\u001b[0m\n\u001b[1;32m----> 4\u001b[1;33m \u001b[1;32mfor\u001b[0m \u001b[0mlink\u001b[0m\u001b[1;33m,\u001b[0m \u001b[0mdata\u001b[0m \u001b[1;32min\u001b[0m \u001b[0mtc_2016_data\u001b[0m\u001b[1;33m.\u001b[0m\u001b[0miteritems\u001b[0m\u001b[1;33m(\u001b[0m\u001b[1;33m)\u001b[0m\u001b[1;33m:\u001b[0m\u001b[1;33m\u001b[0m\u001b[0m\n\u001b[0m\u001b[0;32m      5\u001b[0m     \u001b[1;32mprint\u001b[0m \u001b[0mdata\u001b[0m\u001b[1;33m[\u001b[0m\u001b[1;34m'author'\u001b[0m\u001b[1;33m]\u001b[0m\u001b[1;33m,\u001b[0m \u001b[0mget_gender\u001b[0m\u001b[1;33m(\u001b[0m\u001b[0mdata\u001b[0m\u001b[1;33m[\u001b[0m\u001b[1;34m'author'\u001b[0m\u001b[1;33m]\u001b[0m\u001b[1;33m)\u001b[0m\u001b[1;33m\u001b[0m\u001b[0m\n\u001b[0;32m      6\u001b[0m     \u001b[1;32mcontinue\u001b[0m\u001b[1;33m\u001b[0m\u001b[0m\n",
      "\u001b[1;31mNameError\u001b[0m: name 'tc_2016_data' is not defined"
     ]
    }
   ],
   "source": [
    "MIN_NUM = 623 + 6\n",
    "MAX_NUM = MIN_NUM + 1\n",
    "curr_idx = 0\n",
    "for link, data in tc_2016_data.iteritems():\n",
    "    print data['author'], get_gender(data['author'])\n",
    "    continue\n",
    "    curr_idx += 1\n",
    "    if curr_idx < MIN_NUM:\n",
    "        continue\n",
    "    if curr_idx >= MAX_NUM:\n",
    "        break    \n",
    "    print link\n",
    "    corefs = data['corenlp']['corefs']\n",
    "    print corefs['43']\n",
    "    sentences = data['corenlp']['sentences']\n",
    "    # print sentences[0].keys()\n",
    "    # pprint(sentences[5]['tokens'])\n",
    "    print process_sentences(sentences)\n",
    "    for c_id, coref in corefs.iteritems():\n",
    "        process_coref_chain(c_id, coref)"
   ]
  },
  {
   "cell_type": "code",
   "execution_count": 6,
   "metadata": {
    "collapsed": true
   },
   "outputs": [],
   "source": [
    "tc_data = load_tc_data(2016, 1)"
   ]
  },
  {
   "cell_type": "code",
   "execution_count": 19,
   "metadata": {
    "collapsed": false
   },
   "outputs": [
    {
     "name": "stdout",
     "output_type": "stream",
     "text": [
      "https://techcrunch.com/2016/01/14/nasa-receives-patent-for-a-new-type-of-squishy-amorphous-robot/\n",
      "{u'Imagecourtesy': (5, (None, None)), u'Arthur Bradley': (1, (u'MALE', 'COREF'))}\n",
      "{u'Imagecourtesy': 0, u'Arthur Bradley': 1}\n",
      "https://techcrunch.com/2016/01/20/apple-releases-music-memos-a-recorder-app-for-musicians/\n",
      "{}\n",
      "{}\n",
      "https://techcrunch.com/2016/01/16/notify-nearby-launch/\n",
      "{u'Nevin Jethmalani': (3, (u'MALE', 'COREF')), u'Levi': (1, ('male', 'NAME_ONLY'))}\n",
      "{u'Nevin Jethmalani': 84, u'Levi': 0}\n",
      "https://techcrunch.com/2016/01/27/watch-microsoft-ventures-london-accelerator-right-here-2/\n",
      "{}\n",
      "{}\n",
      "https://techcrunch.com/2016/01/18/why-big-companies-keep-failing-the-stack-fallacy/\n",
      "{u'Anshu Sharma': (1, ('male', 'NAME_ONLY')), u'Larry Ellison': (1, (u'MALE', 'COREF'))}\n",
      "{u'Anshu Sharma': 0, u'Larry Ellison': 0}\n",
      "https://techcrunch.com/2016/01/26/ipo-slowdown-a-look-at-company-profitability/\n",
      "{u'Ben Narasin': (1, ('male', 'NAME_ONLY')), u'Jeremy': (1, ('male', 'NAME_ONLY'))}\n",
      "{u'Ben Narasin': 0, u'Jeremy': 0}\n",
      "https://techcrunch.com/2016/01/05/heres-why-samsungs-new-frankenstein-fridge-is-actually-dumb/\n",
      "{}\n",
      "{}\n",
      "https://techcrunch.com/2016/01/22/gravit-lets-you-illustrate-in-your-abode-or-on-the-road/\n",
      "{u'Alexander Adam': (3, (u'MALE', 'COREF')), u'Gravit': (2, (None, None))}\n",
      "{u'Alexander Adam': 132, u'Gravit': 0}\n",
      "https://techcrunch.com/2016/01/27/apple-has-fixed-bug-that-was-crashing-safari-at-least-on-os-x/\n",
      "{u'Sean Sullivan': (1, ('male', 'NAME_ONLY'))}\n",
      "{u'Sean Sullivan': 0}\n",
      "https://techcrunch.com/2016/01/14/indian-home-healthcare-startup-care24-gets-4m-series-a-from-saif-partners/\n",
      "{u'Pranshu Sharma': (6, (None, None)), u'Garima Tripathi': (1, (None, None)), u'Vipin Pathak': (1, (u'MALE', 'COREF')), u'Abhishek Tiwari': (1, (None, None))}\n",
      "{u'Pranshu Sharma': 0, u'Garima Tripathi': 0, u'Vipin Pathak': 65, u'Abhishek Tiwari': 0}\n",
      "https://techcrunch.com/2016/01/06/is-10-too-old-to-be-in-tech/\n",
      "{}\n",
      "{}\n"
     ]
    }
   ],
   "source": [
    "MIN_NUM = 11\n",
    "MAX_NUM = MIN_NUM + 10\n",
    "curr_idx = 0\n",
    "for link, values in tc_data.iteritems():\n",
    "    curr_idx += 1\n",
    "    if curr_idx < MIN_NUM:\n",
    "        continue\n",
    "    if curr_idx > MAX_NUM:\n",
    "        break\n",
    "\n",
    "    # if link != 'https://techcrunch.com/2016/01/05/intel-says-button-sized-curie-will-ship-in-q1-costing-under-10/':\n",
    "    #    continue\n",
    "    data = values['data']\n",
    "    corenlp = values['corenlp']\n",
    "    print link\n",
    "    corefs = corenlp['corefs']\n",
    "    sentences = corenlp['sentences']\n",
    "    # pprint(corefs)\n",
    "    # pprint(sentences[5])\n",
    "    # print sentences[0].keys()\n",
    "    # pprint(sentences[5]['tokens'])\n",
    "    pm = get_people_mentioned(sentences, corefs, include_gender=True)\n",
    "    sources = get_sources(pm, sentences, corefs)\n",
    "    print pm\n",
    "    print {k: len(v) for k, v in sources.iteritems()}\n",
    "    #for c_id, coref in corefs.iteritems():\n",
    "    #    process_coref_chain(c_id, coref)"
   ]
  },
  {
   "cell_type": "code",
   "execution_count": null,
   "metadata": {
    "collapsed": true
   },
   "outputs": [],
   "source": []
  }
 ],
 "metadata": {
  "kernelspec": {
   "display_name": "Python 2",
   "language": "python",
   "name": "python2"
  },
  "language_info": {
   "codemirror_mode": {
    "name": "ipython",
    "version": 2
   },
   "file_extension": ".py",
   "mimetype": "text/x-python",
   "name": "python",
   "nbconvert_exporter": "python",
   "pygments_lexer": "ipython2",
   "version": "2.7.3"
  }
 },
 "nbformat": 4,
 "nbformat_minor": 1
}
