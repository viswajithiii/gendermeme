{
 "cells": [
  {
   "cell_type": "code",
   "execution_count": 5,
   "metadata": {
    "collapsed": false
   },
   "outputs": [
    {
     "name": "stdout",
     "output_type": "stream",
     "text": [
      "The autoreload extension is already loaded. To reload it, use:\n",
      "  %reload_ext autoreload\n"
     ]
    }
   ],
   "source": [
    "import json\n",
    "from pprint import pprint\n",
    "from analysis.gender import gender, gender_special\n",
    "from analysis.utils import get_people_mentioned, get_gender, get_quotes, get_associated_verbs, identify_sources, get_associated_adjectives\n",
    "from datetime import datetime\n",
    "import time\n",
    "\n",
    "%load_ext autoreload\n",
    "%autoreload 2"
   ]
  },
  {
   "cell_type": "code",
   "execution_count": 2,
   "metadata": {
    "collapsed": false
   },
   "outputs": [],
   "source": [
    "def load_tc_data(year, month, folder='annotated/'):\n",
    "    tc_data = {}\n",
    "    with open('{}techcrunch_annotated_{}_{}.tsv'.format(folder, year, month), 'r') as tc_f:\n",
    "        for line in tc_f:\n",
    "            link, data, corenlp = line.strip().split('\\t')\n",
    "            tc_data[link] = {'data': json.loads(data), 'corenlp': json.loads(corenlp)}\n",
    "    \n",
    "    return tc_data"
   ]
  },
  {
   "cell_type": "code",
   "execution_count": 3,
   "metadata": {
    "collapsed": false
   },
   "outputs": [],
   "source": [
    "def get_mentions_counts(data):\n",
    "    all_counts = {'MALE': {'MALE': 0, 'FEMALE': 0}, 'FEMALE': {'MALE': 0, 'FEMALE': 0}, 'UNK': {'MALE': 0, 'FEMALE': 0}}\n",
    "    for link, data in data.iteritems():\n",
    "        try:\n",
    "            gend = get_gender(data['author'])\n",
    "            if type(gend) is str:\n",
    "                gend = gend.upper()\n",
    "            else:\n",
    "                gend = 'UNK'\n",
    "            if not gend:\n",
    "                continue\n",
    "            counts = all_counts[gend]\n",
    "            sentences = data['corenlp']['sentences']\n",
    "            corefs = data['corenlp']['corefs']\n",
    "            people_mentioned = process_sentences(sentences)\n",
    "            pm_to_gender = {pm: None for pm in people_mentioned}\n",
    "            for c_id, coref_chain in corefs.iteritems():\n",
    "                rep_elem = next(coref for coref in coref_chain if coref['isRepresentativeMention'])\n",
    "                elem_text = set(rep_elem['text'].split())\n",
    "                for pm in pm_to_gender:\n",
    "                    if len(set.intersection(elem_text, set(pm))) > 0:\n",
    "                        if rep_elem['gender'] in ['MALE', 'FEMALE']:\n",
    "                            pm_to_gender[pm] = rep_elem['gender']\n",
    "            for gender in ['MALE', 'FEMALE']:\n",
    "                counts[gender] += len([sp for sp in pm_to_gender.values() if sp == gender])\n",
    "        except:\n",
    "            continue\n",
    "    return all_counts"
   ]
  },
  {
   "cell_type": "code",
   "execution_count": 4,
   "metadata": {
    "collapsed": true
   },
   "outputs": [],
   "source": [
    "def get_mentions_quotes(tc_data, out_fn):\n",
    "    for link, values in tc_data.iteritems():\n",
    "        data = values['data']\n",
    "        corenlp = values['corenlp']\n",
    "        if not type(corenlp) is dict: # This happens when CoreNLP timed out\n",
    "            continue\n",
    "        corefs = corenlp['corefs']\n",
    "        sentences = corenlp['sentences']\n",
    "        pm = get_people_mentioned(sentences, corefs, include_gender=True)\n",
    "        quotes = get_quotes(pm, sentences, corefs)\n",
    "        num_mentions = {'MALE': 0, 'FEMALE': 0}\n",
    "        num_distinct_mentions = {'MALE': 0, 'FEMALE': 0}\n",
    "        num_quotes = {'MALE': 0, 'FEMALE': 0}\n",
    "        for person, info in pm.iteritems():\n",
    "            count = info[0]\n",
    "            gender = info[1][0]\n",
    "            if not type(gender) is str:\n",
    "                continue\n",
    "            num_mentions[gender.upper()] += count\n",
    "            num_distinct_mentions[gender.upper()] += 1\n",
    "            quote_length = len(quotes[person])\n",
    "            num_quotes[gender.upper()] += quote_length\n",
    "\n",
    "        author_gender = get_gender(data['author'])\n",
    "        if not type(author_gender) is str:\n",
    "            author_gender = 'UNKNOWN'\n",
    "        else:\n",
    "            author_gender = author_gender.upper()\n",
    "        dt = datetime.strptime(data['timestamp'], '%Y-%m-%d %H:%M:%S')\n",
    "        with open(out_fn, 'a') as out_f:\n",
    "            try:\n",
    "                out_f.write('\\t'.join([unicode(a) for a in [\n",
    "                            link, author_gender, dt.year, dt.month, ','.join(data['category']), ','.join(data['tag']), \n",
    "                            num_distinct_mentions['MALE'], num_distinct_mentions['FEMALE'],\n",
    "                            num_mentions['MALE'], num_mentions['FEMALE'],\n",
    "                            num_quotes['MALE'], num_quotes['FEMALE']\n",
    "                            ]]))\n",
    "                out_f.write('\\n')\n",
    "            except UnicodeEncodeError:\n",
    "                pass"
   ]
  },
  {
   "cell_type": "code",
   "execution_count": 5,
   "metadata": {
    "collapsed": false
   },
   "outputs": [],
   "source": [
    "tc_data = load_tc_data(2016, 1)"
   ]
  },
  {
   "cell_type": "code",
   "execution_count": 45,
   "metadata": {
    "collapsed": false
   },
   "outputs": [],
   "source": [
    "get_mentions_quotes(tc_data, 'tc_data_counts.tsv')"
   ]
  },
  {
   "cell_type": "code",
   "execution_count": 5,
   "metadata": {
    "collapsed": false,
    "scrolled": true
   },
   "outputs": [
    {
     "name": "stdout",
     "output_type": "stream",
     "text": [
      "Thu Dec  8 14:32:23 2016 Loading data for 2013/7\n",
      "Thu Dec  8 14:32:50 2016 Analyzing data ...\n",
      "Thu Dec  8 14:33:08 2016 Loading data for 2013/8\n",
      "Thu Dec  8 14:33:42 2016 Analyzing data ...\n",
      "Thu Dec  8 14:34:02 2016 Loading data for 2013/9\n",
      "Thu Dec  8 14:34:35 2016 Analyzing data ...\n",
      "Thu Dec  8 14:34:55 2016 Loading data for 2013/10\n",
      "Thu Dec  8 14:35:27 2016 Analyzing data ...\n",
      "Thu Dec  8 14:35:47 2016 Loading data for 2013/11\n",
      "Thu Dec  8 14:36:16 2016 Analyzing data ...\n",
      "Thu Dec  8 14:36:31 2016 Loading data for 2013/12\n",
      "Thu Dec  8 14:36:55 2016 Analyzing data ...\n",
      "Thu Dec  8 14:37:11 2016 Loading data for 2014/1\n",
      "Thu Dec  8 14:37:41 2016 Analyzing data ...\n",
      "Thu Dec  8 14:37:58 2016 Loading data for 2014/2\n",
      "Thu Dec  8 14:38:28 2016 Analyzing data ...\n",
      "Thu Dec  8 14:38:45 2016 Loading data for 2014/3\n",
      "Thu Dec  8 14:39:18 2016 Analyzing data ...\n",
      "Thu Dec  8 14:39:38 2016 Loading data for 2014/4\n",
      "Thu Dec  8 14:40:08 2016 Analyzing data ...\n",
      "Thu Dec  8 14:40:29 2016 Loading data for 2014/5\n",
      "Thu Dec  8 14:40:58 2016 Analyzing data ...\n",
      "Thu Dec  8 14:41:16 2016 Loading data for 2014/6\n",
      "Thu Dec  8 14:41:44 2016 Analyzing data ...\n",
      "Thu Dec  8 14:42:01 2016 Loading data for 2014/7\n",
      "Thu Dec  8 14:42:34 2016 Analyzing data ...\n",
      "Thu Dec  8 14:42:51 2016 Loading data for 2014/8\n",
      "Thu Dec  8 14:43:18 2016 Analyzing data ...\n",
      "Thu Dec  8 14:43:33 2016 Loading data for 2014/9\n",
      "Thu Dec  8 14:44:02 2016 Analyzing data ...\n",
      "Thu Dec  8 14:44:18 2016 Loading data for 2014/10\n",
      "Thu Dec  8 14:44:50 2016 Analyzing data ...\n",
      "Thu Dec  8 14:45:08 2016 Loading data for 2014/11\n",
      "Thu Dec  8 14:45:40 2016 Analyzing data ...\n",
      "Thu Dec  8 14:45:57 2016 Loading data for 2014/12\n",
      "Thu Dec  8 14:46:22 2016 Analyzing data ...\n",
      "Thu Dec  8 14:46:37 2016 Loading data for 2015/1\n",
      "Thu Dec  8 14:47:08 2016 Analyzing data ...\n",
      "Thu Dec  8 14:47:26 2016 Loading data for 2015/2\n",
      "Thu Dec  8 14:47:56 2016 Analyzing data ...\n",
      "Thu Dec  8 14:48:14 2016 Loading data for 2015/3\n",
      "Thu Dec  8 14:48:49 2016 Analyzing data ...\n",
      "Thu Dec  8 14:49:14 2016 Loading data for 2015/4\n",
      "Thu Dec  8 14:49:46 2016 Analyzing data ...\n",
      "Thu Dec  8 14:50:07 2016 Loading data for 2015/5\n",
      "Thu Dec  8 14:50:34 2016 Analyzing data ...\n",
      "Thu Dec  8 14:50:50 2016 Loading data for 2015/6\n",
      "Thu Dec  8 14:51:19 2016 Analyzing data ...\n",
      "Thu Dec  8 14:51:38 2016 Loading data for 2015/7\n",
      "Thu Dec  8 14:52:08 2016 Analyzing data ...\n",
      "Thu Dec  8 14:52:30 2016 Loading data for 2015/8\n",
      "Thu Dec  8 14:53:00 2016 Analyzing data ...\n",
      "Thu Dec  8 14:53:16 2016 Loading data for 2015/9\n",
      "Thu Dec  8 14:53:46 2016 Analyzing data ...\n",
      "Thu Dec  8 14:54:03 2016 Loading data for 2015/10\n",
      "Thu Dec  8 14:54:34 2016 Analyzing data ...\n",
      "Thu Dec  8 14:54:51 2016 Loading data for 2015/11\n",
      "Thu Dec  8 14:55:23 2016 Analyzing data ...\n",
      "Thu Dec  8 14:55:38 2016 Loading data for 2015/12\n",
      "Thu Dec  8 14:56:04 2016 Analyzing data ...\n",
      "Thu Dec  8 14:56:17 2016 Loading data for 2016/1\n",
      "Thu Dec  8 14:56:47 2016 Analyzing data ...\n",
      "Thu Dec  8 14:57:03 2016 Loading data for 2016/2\n",
      "Thu Dec  8 14:57:34 2016 Analyzing data ...\n",
      "Thu Dec  8 14:57:50 2016 Loading data for 2016/3\n",
      "Thu Dec  8 14:58:22 2016 Analyzing data ...\n",
      "Thu Dec  8 14:58:39 2016 Loading data for 2016/4\n",
      "Thu Dec  8 14:59:08 2016 Analyzing data ...\n",
      "Thu Dec  8 14:59:24 2016 Loading data for 2016/5\n",
      "Thu Dec  8 14:59:55 2016 Analyzing data ...\n",
      "Thu Dec  8 15:00:13 2016 Loading data for 2016/6\n",
      "Thu Dec  8 15:00:49 2016 Analyzing data ...\n",
      "Thu Dec  8 15:01:08 2016 Loading data for 2016/7\n",
      "Thu Dec  8 15:01:32 2016 Analyzing data ...\n"
     ]
    }
   ],
   "source": [
    "for year in range(2013, 2017):\n",
    "    for month in range(1, 13):\n",
    "        if year == 2013 and month < 7:\n",
    "            continue\n",
    "        if year == 2016 and month > 7:\n",
    "            break\n",
    "        print time.ctime(), \"Loading data for {}/{}\".format(year, month)\n",
    "        tc_data = load_tc_data(year, month)\n",
    "        print time.ctime(), \"Analyzing data ...\"\n",
    "        get_mentions_quotes(tc_data, 'tc_data_counts.tsv')"
   ]
  },
  {
   "cell_type": "code",
   "execution_count": 11,
   "metadata": {
    "collapsed": false
   },
   "outputs": [
    {
     "name": "stdout",
     "output_type": "stream",
     "text": [
      "https://techcrunch.com/2016/01/31/the-league-vs-stanford/\n",
      "{u'Amanda Bradford': (5, (u'FEMALE', 'COREF'))}\n",
      "{u'Amanda Bradford': 3}\n",
      "{u'Amanda Bradford': [(u'decided', u'decide'), (u're-posted', u're-post'), (u'wrote', u'write'), (u'said', u'say')]}\n",
      "https://techcrunch.com/2016/01/20/with-brave-software-javascripts-inventor-is-building-a-browser-for-the-ad-blocked-future/\n",
      "{u'Brendan Eich': (8, (u'MALE', 'COREF'))}\n",
      "{u'Brendan Eich': 40}\n",
      "{u'Brendan Eich': [(u'working', u'work'), (u'wrote', u'write'), (u'told', u'tell'), (u'put', u'put'), (u'said', u'say'), (u'explained', u'explain'), (u'hoping', u'hope')]}\n",
      "https://techcrunch.com/2016/01/06/stereolabss-depth-sensing-camera-helps-robots-drones-and-cars-see/\n",
      "{u'Cecile Schmollgruber': (1, (u'FEMALE', 'COREF')), u'Stereolabs': (1, (None, None)), u'Stereolabsthen': (3, (None, None))}\n",
      "{u'Cecile Schmollgruber': 0, u'Stereolabs': 0, u'Stereolabsthen': 0}\n",
      "{u'Cecile Schmollgruber': [], u'Stereolabs': [(u'says', u'say'), (u'working', u'work')], u'Stereolabsthen': [(u'uses', u'use')]}\n",
      "https://techcrunch.com/2016/01/07/no-more-ballparks-oculus-palmer-luckey-admits-screwing-up-rift-price-point-messaging/\n",
      "{u'Tom Kerriganwrote': (8, ('male', 'NAME_ONLY')), u'Nate Mitchell': (1, (None, None)), u'Palmer Luckey': (1, (u'MALE', 'COREF'))}\n",
      "{u'Tom Kerriganwrote': 0, u'Nate Mitchell': 0, u'Palmer Luckey': 0}\n",
      "{u'Tom Kerriganwrote': [], u'Nate Mitchell': [(u'told', u'tell')], u'Palmer Luckey': []}\n",
      "https://techcrunch.com/2016/01/09/how-startups-are-solving-a-decades-old-problem-in-education/\n",
      "{u'Roshan Choxi': (1, ('male', 'NAME_ONLY')), u'Socrates': (1, (None, None)), u'Udemy': (1, (None, None)), u'Udacity': (1, (None, None)), u'Thinkful': (1, (None, None)), u'Benjamin Bloom': (2, (u'MALE', 'COREF'))}\n",
      "{u'Roshan Choxi': 0, u'Socrates': 0, u'Udemy': 0, u'Udacity': 1, u'Thinkful': 0, u'Benjamin Bloom': 0}\n",
      "{u'Roshan Choxi': [], u'Udacity': [(u'added', u'add')], u'Benjamin Bloom': [(u'concludes', u'conclude'), (u'writes', u'write'), (u'imagined', u'imagine'), (u'lectures', u'lecture')], u'Socrates': [], u'Thinkful': [(u'created', u'create')], u'Udemy': [(u'partnered', u'partner')]}\n",
      "https://techcrunch.com/2016/01/12/get-your-crunchies-tickets-now-and-join-us-in-remembering-the-crunchies-of-yore/\n",
      "{u'Gowalla': (1, (None, None)), u'Zuck': (1, (None, None))}\n",
      "{u'Gowalla': 0, u'Zuck': 0}\n",
      "{u'Gowalla': [], u'Zuck': []}\n",
      "https://techcrunch.com/2016/01/06/assist-bot/\n",
      "{u'Dennis Phelps': (1, ('male', 'NAME_ONLY')), u'Dave Morin': (1, ('male', 'NAME_ONLY')), u'Jonathan Teo': (1, ('male', 'NAME_ONLY')), u'Kayvon Beykpour': (1, (None, None)), u'Robert Stephens': (1, ('male', 'NAME_ONLY')), u'Owen Van Natt': (1, ('male', 'NAME_ONLY')), u'Shane Mac': (1, ('male', 'NAME_ONLY')), u'Justin Caldbeck': (1, ('male', 'NAME_ONLY'))}\n",
      "{u'Dennis Phelps': 0, u'Dave Morin': 0, u'Jonathan Teo': 0, u'Kayvon Beykpour': 0, u'Robert Stephens': 0, u'Owen Van Natt': 0, u'Shane Mac': 10, u'Justin Caldbeck': 0}\n",
      "{u'Dennis Phelps': [], u'Dave Morin': [], u'Jonathan Teo': [], u'Kayvon Beykpour': [], u'Robert Stephens': [(u'started', u'start')], u'Owen Van Natt': [], u'Shane Mac': [(u'tells', u'tell'), (u'refers', u'refer'), (u'wants', u'want'), (u'generate', u'generate'), (u'says', u'say')], u'Justin Caldbeck': []}\n",
      "https://techcrunch.com/2016/01/08/report-nfl-will-live-stream-all-london-games-bidders-include-apple-google/\n",
      "{u'Roku': (1, (None, None))}\n",
      "{u'Roku': 0}\n",
      "{u'Roku': []}\n",
      "https://techcrunch.com/2016/01/09/endless-launch/\n",
      "{u'ProductMatt Dalio': (1, (u'MALE', 'COREF')), u'MarceloSampaio': (4, (None, None)), u'Tony Robbins': (2, ('male', 'NAME_ONLY')), u'Sampaio': (2, (None, None)), u'Nicholas Negroponte': (1, ('male', 'NAME_ONLY'))}\n",
      "{u'ProductMatt Dalio': 13, u'MarceloSampaio': 0, u'Tony Robbins': 0, u'Sampaio': 7, u'Nicholas Negroponte': 0}\n",
      "{u'ProductMatt Dalio': [(u'said', u'say'), (u'said', u'say'), (u'suggested', u'suggest'), (u'said', u'say')], u'MarceloSampaio': [], u'Tony Robbins': [], u'Nicholas Negroponte': [], u'Sampaio': [(u'described', u'describe')]}\n",
      "https://techcrunch.com/2016/01/05/tinder-push-notification-we-promise-youll-get-a-match/\n",
      "{u'Sean Rad': (4, ('male', 'NAME_ONLY'))}\n",
      "{u'Sean Rad': 0}\n",
      "{u'Sean Rad': []}\n",
      "https://techcrunch.com/2016/01/19/netflix-added-5-6-million-new-subscribers-in-the-fourth-quarter/\n",
      "{}\n",
      "{}\n",
      "{}\n"
     ]
    }
   ],
   "source": [
    "MIN_NUM = 31\n",
    "MAX_NUM = MIN_NUM + 10\n",
    "curr_idx = 0\n",
    "for link, values in tc_data.iteritems():\n",
    "    curr_idx += 1\n",
    "    if curr_idx < MIN_NUM:\n",
    "        continue\n",
    "    if curr_idx > MAX_NUM:\n",
    "        break\n",
    "\n",
    "    # if link != 'https://techcrunch.com/2016/01/05/intel-says-button-sized-curie-will-ship-in-q1-costing-under-10/':\n",
    "    #    continue\n",
    "    data = values['data']\n",
    "    corenlp = values['corenlp']\n",
    "    print link\n",
    "    #pprint(corenlp['sentences'][0]['collapsed-ccprocessed-dependencies'])\n",
    "    #print corenlp['sentences'][0]['tokens'][1:3]\n",
    "    corefs = corenlp['corefs']\n",
    "    sentences = corenlp['sentences']\n",
    "    # pprint(corefs)\n",
    "    # pprint(sentences[5])\n",
    "    # print sentences[0].keys()\n",
    "    # pprint(sentences[5]['tokens'])\n",
    "    pm = get_people_mentioned(sentences, corefs, include_gender=True)\n",
    "    quotes = get_quotes(pm, sentences, corefs)\n",
    "    verbs = get_associated_verbs(pm, sentences, corefs)\n",
    "    print pm\n",
    "    print {k: len(v) for k, v in quotes.iteritems()}\n",
    "    print verbs\n",
    "    #for c_id, coref in corefs.iteritems():\n",
    "    #    process_coref_chain(c_id, coref)"
   ]
  },
  {
   "cell_type": "code",
   "execution_count": 1,
   "metadata": {
    "collapsed": false
   },
   "outputs": [],
   "source": [
    "from nlp.utils import annotate_corenlp\n",
    "text = u'''\n",
    " President Obama said on Thursday that the United States would retaliate for Russia’s efforts to influence the presidential election, asserting that “we need to take action,” and “we will.”\n",
    "\n",
    "The comments, in an interview with NPR, indicate that Mr. Obama, in his remaining weeks in office, will pursue either economic sanctions against Russia or perhaps some kind of response in cyberspace.\n",
    "\n",
    "Mr. Obama spoke as President-elect Donald J. Trump on Thursday again refused to accept Moscow’s culpability, asking on Twitter why the administration had waited “so long to act” if Russia “or some other entity” had carried out cyberattacks.\n",
    "\n",
    "The president discussed the potential for American retaliation with Steve Inskeep of NPR for an interview to air on Friday morning. “I think there is no doubt that when any foreign government tries to impact the integrity of our election,” Mr. Obama said, “we need to take action. And we will — at the time and place of our choosing.”\n",
    "\n",
    "On Friday morning, the Kremlin’s spokesman, Dmitri S. Peskov, batted away the warning. “It is necessary to either stop talking about it, or finally produce some evidence,” he told the Interfax news agency. “Otherwise, it all begins to look quite unseemly.”\n",
    "\n",
    "The White House strongly suggested before the election that Mr. Obama would make use of sanctions authority for cyberattacks that he had given to himself by executive order. But he did not, in part out of concern that action before the election could lead to an escalated conflict.\n",
    "\n",
    "If Mr. Obama invokes sanctions on Russian individuals or organizations, Mr. Trump could reverse them. But that would be politically difficult, as his critics argue that he is blind to Russian behavior.\n",
    "\n",
    "On Thursday, pressure grew on Mr. Trump in Congress for him to acknowledge intelligence agencies’ conclusions that Russia was behind the hacking. But aides said that was all but impossible before the Electoral College convenes on Monday to formalize his victory.\n",
    "\n",
    "Mr. Trump has said privately in recent days that he believes there are people in the C.I.A. who are out to get him and are working to delegitimize his presidency, according to people briefed on the conversations who described them on the condition of anonymity.\n",
    "\n",
    "The president-elect’s suspicions have been stoked by the efforts of a group of Democratic electors, as well as one Republican, who called this week for an intelligence briefing on the Russian hacking, raising the prospect that votes in the Electoral College might be changed.\n",
    "\n",
    "In his Twitter posting on Thursday, Mr. Trump suggested that the government’s conclusions on Russian hacking were a case of sour grapes by Mr. Obama. The president-elect falsely stated that Mr. Obama had waited until after the election to raise the issue.\n",
    "\n",
    "“Why did they only complain after Hillary lost?” Mr. Trump asked, although the director of national intelligence, James R. Clapper Jr., formally blamed Russia on Oct. 7 for cyberattacks on the Democratic National Committee and other organizations.\n",
    "\n",
    "In September, meeting privately in China with President Vladimir V. Putin of Russia, Mr. Obama not only complained, the White House says, but also warned him of consequences if the Russian activity did not stop.\n",
    "\n",
    "Among those in his own party, Mr. Trump’s refusal to accept the evidence that Russia was the perpetrator was raising growing concerns, with Senator Lindsey Graham of South Carolina saying he would not vote for Rex W. Tillerson, Mr. Trump’s nominee for secretary of state, unless Mr. Tillerson addressed Russia’s role during his confirmation hearings.\n",
    "\n",
    "It remains to be seen whether Mr. Trump’s stated doubts about Russia’s involvement will subside after Monday’s Electoral College vote. He and his allies have been concerned that the reports of Russian hacking have been intended to peel away votes from him, although even Democrats have not gone so far as to say the election was illegitimate.\n",
    "\n",
    "“Right now, certain elements of the media, certain elements of the intelligence community and certain politicians are really doing the work of the Russians — they’re creating this uncertainty over the election,” Representative Peter T. King, Republican of New York, told reporters on Thursday after meeting with Mr. Trump.\n",
    "\n",
    "But many other Republicans, including Senator Mitch McConnell of Kentucky, the majority leader, and Senator John McCain of Arizona, have publicly argued that the evidence leads straight to Russia. They have called for a full investigation, and Senator Dianne Feinstein, Democrat of California, who sits on the Senate Intelligence Committee, urged Mr. Obama on Thursday to complete an administration review quickly.\n",
    "\n",
    "Mr. Trump’s Twitter post was his latest move to accuse the intelligence agencies he will soon control of acting with a political agenda and to dispute the well-documented conclusion that Moscow carried out a meticulously planned series of attacks and releases of information to interfere in the presidential race.\n",
    "\n",
    "But as he repeated his doubts, Mr. Trump seized on emerging questions about the Obama administration’s response: Why did it take months after the breaches had been discovered for the administration to name Moscow publicly as the culprit? And why did Mr. Obama initially opt not to openly retaliate, through sanctions or other measures?\n",
    "\n",
    "White House officials have said that the warning to Mr. Putin at the September summit meeting in China constituted the primary American response so far. When the administration decided to go public with its conclusion a month later, it did so in a statement from the director of national intelligence and the Homeland Security secretary, not in a prominent presidential appearance.\n",
    "\n",
    "Officials said they were worried that any larger public response would have raised doubts about the election’s integrity, something Mr. Trump was already seeking to do during the campaign when he insisted the election was “rigged.”\n",
    "\n",
    "Josh Earnest, the White House press secretary, criticized Mr. Trump on Thursday for questioning whether Russia was behind the attacks, referring to Mr. Trump’s call during the campaign for Moscow to hack Hillary Clinton’s emails, a remark his team has since dismissed as a joke.\n",
    "\n",
    "“I don’t think anybody at the White House thinks it’s funny that an adversary of the United States engaged in malicious cyberactivity to destabilize our democracy — that’s not a joke,” Mr. Earnest said. “It might be time to not attack the intelligence community, but actually be supportive of a thorough, transparent, rigorous, nonpolitical investigation into what exactly happened.”\n",
    "\n",
    "While he declined to confirm news reports that Mr. Putin was personally involved in directing the cyberattacks, Mr. Earnest pointedly read part of the Oct. 7 statement that said intelligence officials believed “that only Russia’s senior-most officials could have authorized these activities.”\n",
    "\n",
    "He said that language “would lead me to conclude that based on my personal reading and not based on any knowledge that I have that may be classified or otherwise, it was pretty obvious that they were referring to the senior-most government official in Russia.”\n",
    "\n",
    "In a conference call with reporters later on Thursday, aides declined to explain Mr. Trump’s position on whether Russia had been responsible for the breaches or to describe what he would do about the issue as president. Jason Miller, a spokesman, said he would let Mr. Trump’s “tweets speak for themselves” and added that those raising questions about the hacking were refusing to come to terms with his victory. “At a certain point you’ve got to realize that the election from last month is going to stand,” Mr. Miller said.\n",
    "'''\n",
    "ann = annotate_corenlp(text, annotators=['pos', 'lemma', 'ner', 'parse', 'depparse', 'dcoref', 'quote'])"
   ]
  },
  {
   "cell_type": "code",
   "execution_count": 13,
   "metadata": {
    "collapsed": false
   },
   "outputs": [
    {
     "name": "stdout",
     "output_type": "stream",
     "text": [
      "{u'Jason Miller': (2, (u'MALE', 'COREF')), u'Josh Earnest': (3, (u'MALE', 'COREF')), u'Steve Inskeep': (1, ('male', 'NAME_ONLY')), u'Lindsey Graham': (1, ('female', 'NAME_ONLY')), u'Hillary Clinton': (2, ('female', 'NAME_ONLY')), u'John McCain': (1, ('male', 'NAME_ONLY')), u'Vladimir V. Putin': (3, (u'MALE', 'COREF')), u'Donald J. Trump': (17, (u'MALE', 'COREF')), u'Rex W. Tillerson': (2, ('male', 'NAME_ONLY')), u'Dianne Feinstein': (1, ('female', 'NAME_ONLY')), u'Mitch McConnell': (1, ('male', 'NAME_ONLY')), u'James R. Clapper Jr.': (1, ('male', 'NAME_ONLY')), u'Dmitri S. Peskov': (1, (u'MALE', 'COREF')), u'Peter T. King': (1, ('male', 'NAME_ONLY')), u'Obama': (12, (u'MALE', 'COREF'))}\n",
      "\n",
      "{u'Jason Miller': 20, u'Josh Earnest': 119, u'Steve Inskeep': 0, u'Lindsey Graham': 0, u'Hillary Clinton': 0, u'John McCain': 0, u'Vladimir V. Putin': 0, u'Donald J. Trump': 0, u'Rex W. Tillerson': 0, u'Dianne Feinstein': 0, u'Mitch McConnell': 0, u'James R. Clapper Jr.': 0, u'Dmitri S. Peskov': 26, u'Peter T. King': 0, u'Obama': 47}\n",
      "\n",
      "{u'Jason Miller': [(u'said', u'say'), (u'let', u'let'), (u'got', u'get'), (u'said', u'say')], u'Josh Earnest': [(u'criticized', u'criticize'), (u'think', u'think'), (u'said', u'say'), (u'declined', u'decline'), (u'read', u'read'), (u'said', u'say'), (u'have', u'have')], u'Steve Inskeep': [], u'Lindsey Graham': [], u'Hillary Clinton': [], u'John McCain': [], u'Vladimir V. Putin': [(u'constituted', u'constitute'), (u'involved', u'involve')], u'Donald J. Trump': [(u'refused', u'refuse'), (u'reverse', u'reverse'), (u'acknowledge', u'acknowledge'), (u'said', u'say'), (u'working', u'work'), (u'believes', u'believe'), (u'suggested', u'suggest'), (u'asked', u'ask'), (u'concerned', u'concern'), (u'control', u'control'), (u'repeated', u'repeat'), (u'seized', u'seize'), (u'seeking', u'seek'), (u'insisted', u'insist'), (u'do', u'do')], u'Rex W. Tillerson': [], u'Dianne Feinstein': [(u'urged', u'urge'), (u'sits', u'sit')], u'Mitch McConnell': [], u'James R. Clapper Jr.': [(u'blamed', u'blame')], u'Dmitri S. Peskov': [(u'batted', u'bat'), (u'told', u'tell')], u'Peter T. King': [(u'told', u'tell'), (u'argued', u'argue')], u'Obama': [(u'said', u'say'), (u'pursue', u'pursue'), (u'spoke', u'speak'), (u'think', u'think'), (u'said', u'say'), (u'make', u'make'), (u'given', u'give'), (u'lead', u'lead'), (u'invokes', u'invoke'), (u'waited', u'wait'), (u'complained', u'complain'), (u'take', u'take'), (u'discovered', u'discover'), (u'opt', u'opt')]}\n",
      "\n",
      "defaultdict(<type 'list'>, {u'Jason Miller': ['Quoted saying 20 words', 'Subject of say'], u'Josh Earnest': ['Quoted saying 119 words', 'Subject of say'], u'Peter T. King': ['Subject of tell'], u'Donald J. Trump': ['Subject of ask, suggest, say'], u'Dmitri S. Peskov': ['Quoted saying 26 words', 'Subject of tell'], u'Obama': ['Quoted saying 47 words', 'Subject of say, speak']})\n",
      "\n",
      "{u'Dianne Feinstein': [],\n",
      " u'Dmitri S. Peskov': [],\n",
      " u'Donald J. Trump': [],\n",
      " u'Hillary Clinton': [],\n",
      " u'James R. Clapper Jr.': [],\n",
      " u'Jason Miller': [],\n",
      " u'John McCain': [],\n",
      " u'Josh Earnest': [],\n",
      " u'Lindsey Graham': [],\n",
      " u'Mitch McConnell': [],\n",
      " u'Obama': [(u'blind', u'blind')],\n",
      " u'Peter T. King': [],\n",
      " u'Rex W. Tillerson': [],\n",
      " u'Steve Inskeep': [],\n",
      " u'Vladimir V. Putin': []}\n"
     ]
    }
   ],
   "source": [
    "sentences, corefs = ann['sentences'], ann['corefs']\n",
    "people_mentioned = get_people_mentioned(sentences, corefs,\n",
    "                                        include_gender=True)\n",
    "quotes = get_quotes(people_mentioned, sentences, corefs)\n",
    "verbs = get_associated_verbs(people_mentioned, sentences, corefs)\n",
    "print people_mentioned\n",
    "print\n",
    "print {k: len(v) for k, v in quotes.iteritems()}\n",
    "print\n",
    "print verbs\n",
    "print\n",
    "print identify_sources(people_mentioned, people_to_quotes=quotes, people_to_verbs=verbs)\n",
    "print\n",
    "pprint(get_associated_adjectives(people_mentioned, sentences, corefs))"
   ]
  },
  {
   "cell_type": "code",
   "execution_count": null,
   "metadata": {
    "collapsed": true
   },
   "outputs": [],
   "source": []
  }
 ],
 "metadata": {
  "kernelspec": {
   "display_name": "Python 2",
   "language": "python",
   "name": "python2"
  },
  "language_info": {
   "codemirror_mode": {
    "name": "ipython",
    "version": 2
   },
   "file_extension": ".py",
   "mimetype": "text/x-python",
   "name": "python",
   "nbconvert_exporter": "python",
   "pygments_lexer": "ipython2",
   "version": "2.7.6"
  }
 },
 "nbformat": 4,
 "nbformat_minor": 1
}
